{
 "cells": [
  {
   "cell_type": "code",
   "execution_count": 34,
   "metadata": {},
   "outputs": [
    {
     "name": "stdout",
     "output_type": "stream",
     "text": [
      "========================================================\n",
      "| Variable | Value                             | Type  |\n",
      "--------------------------------------------------------\n",
      "| aasdfsdf | 1                                 |  int  |\n",
      "| b        | [2, 2, 'fdsafas', 125, 54443, 55] |  list |\n",
      "| c        | adfsdf                            |  str  |\n",
      "| dsfa     | dsfsdf                            |  str  |\n",
      "========================================================\n"
     ]
    }
   ],
   "source": [
    "def debug(*args):\n",
    "    data = [[\"Variable\"],[\"Value\"],[\"Type\"]]\n",
    "    \n",
    "    # 입력받은 변수 저장\n",
    "    for var in args:\n",
    "        for name in  globals() :\n",
    "            if(globals()[name] is var) : var_name = name  \n",
    "        data[0].append(var_name)\n",
    "        data[1].append(str(var))\n",
    "        data[2].append(str(type(var)).lstrip(\"<class\").rstrip(\">\").replace(\"'\",\"\"))\n",
    " \n",
    "    # 출력 서식을 위한 열 너비 계산    \n",
    "    col_width=[max([len(x) for x in y]) for y in data]\n",
    "    \n",
    "    # 출력\n",
    "    _width = sum(col_width)+10\n",
    "    hr1,hr2 = \"=\"*_width,\"-\"*_width\n",
    "    print(hr1)\n",
    "    for row in range(len(data[0])):\n",
    "        if (row == 1) : print(hr2)\n",
    "        print(\"|\",end=\"\")\n",
    "        for col in range(len(data)):\n",
    "            print(f\" {data[col][row]:{col_width[col]}s} |\", end=\"\")\n",
    "        print()\n",
    "    print(hr1)\n",
    "                       \n",
    "aasdfsdf = 1\n",
    "b = [2,2,\"fdsafas\",125,54443,55]\n",
    "c = \"adfsdf\"\n",
    "dsfa=\"dsfsdf\"\n",
    "\n",
    "debug(aasdfsdf,b,c,dsfa)"
   ]
  },
  {
   "cell_type": "code",
   "execution_count": null,
   "metadata": {},
   "outputs": [],
   "source": []
  }
 ],
 "metadata": {
  "kernelspec": {
   "display_name": "Python 3",
   "language": "python",
   "name": "python3"
  },
  "language_info": {
   "codemirror_mode": {
    "name": "ipython",
    "version": 3
   },
   "file_extension": ".py",
   "mimetype": "text/x-python",
   "name": "python",
   "nbconvert_exporter": "python",
   "pygments_lexer": "ipython3",
   "version": "3.7.4"
  }
 },
 "nbformat": 4,
 "nbformat_minor": 2
}
