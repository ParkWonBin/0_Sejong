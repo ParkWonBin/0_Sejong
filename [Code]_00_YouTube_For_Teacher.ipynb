{
 "cells": [
  {
   "cell_type": "markdown",
   "metadata": {},
   "source": [
    "## 유튜브 다운로드"
   ]
  },
  {
   "cell_type": "code",
   "execution_count": 1,
   "metadata": {
    "scrolled": false
   },
   "outputs": [
    {
     "name": "stdout",
     "output_type": "stream",
     "text": [
      "제목 : [세종대학교/Sejong University] ★솔직한 학과이야기★_호텔관광대\n",
      "0 번 영상 화질 : 360p\n",
      "1 번 영상 화질 : 720p\n",
      "다운받을 영상의 번호를 입력해주세요.  0\n"
     ]
    },
    {
     "data": {
      "text/plain": [
       "'c:/Users/pwb11/0_sejong\\\\[세종대학교Sejong University] ★솔직한 학과이야기★_호텔관광대.mp4'"
      ]
     },
     "execution_count": 1,
     "metadata": {},
     "output_type": "execute_result"
    }
   ],
   "source": [
    "import os\n",
    "from pytube import YouTube\n",
    "\n",
    "UserName = \"pwb11\"                                 # 본인 컴퓨터 사용자 계정\n",
    "forderName = \"0_sejong\"                            # 폴더명\n",
    "forderPath = f\"c:/Users/{UserName}/{forderName}\"  # 주피터 기본 경로 + 폴더명\n",
    "\n",
    "if not os.path.isdir(forderPath): os.makedirs(forderPath)\n",
    "    \n",
    "# 다운받을 유튜브 링크 입력\n",
    "yt = YouTube(\"https://www.youtube.com/watch?v=zCaDXYjGDbE\")\n",
    "\n",
    "# mp4 확장자로 필터링\n",
    "yt_streams = yt.streams.filter(progressive=True, file_extension='mp4').all()\n",
    "\n",
    "print(\"제목 :\",   yt.title)\n",
    "for i in range(len(yt_streams)) :  \n",
    "    print(f\"{i} 번 영상 화질 : {yt_streams[i].resolution}\")\n",
    "    \n",
    "num=int(input(\"다운받을 영상의 번호를 입력해주세요.  \"))\n",
    "yt_streams[num].download(forderPath)"
   ]
  },
  {
   "cell_type": "markdown",
   "metadata": {},
   "source": [
    "**1. pytube3 다운로드**"
   ]
  },
  {
   "cell_type": "code",
   "execution_count": 1,
   "metadata": {
    "scrolled": false
   },
   "outputs": [
    {
     "name": "stdout",
     "output_type": "stream",
     "text": [
      "Collecting pytube3\n",
      "  Downloading https://files.pythonhosted.org/packages/de/86/198092763646eac7abd2063192ab44ea44ad8fd6d6f3ad8586b38afcd52a/pytube3-9.6.4-py3-none-any.whl\n",
      "Collecting typing-extensions (from pytube3)\n",
      "  Downloading https://files.pythonhosted.org/packages/03/92/705fe8aca27678e01bbdd7738173b8e7df0088a2202c80352f664630d638/typing_extensions-3.7.4.1-py3-none-any.whl\n",
      "Installing collected packages: typing-extensions, pytube3\n",
      "Successfully installed pytube3-9.6.4 typing-extensions-3.7.4.1\n"
     ]
    }
   ],
   "source": [
    "! pip install pytube3"
   ]
  },
  {
   "cell_type": "markdown",
   "metadata": {},
   "source": [
    "**2. pytube3.YouTube 불러오기**"
   ]
  },
  {
   "cell_type": "code",
   "execution_count": 1,
   "metadata": {},
   "outputs": [],
   "source": [
    "from pytube import YouTube"
   ]
  },
  {
   "cell_type": "markdown",
   "metadata": {},
   "source": [
    "**3. 폴더 생성**"
   ]
  },
  {
   "cell_type": "code",
   "execution_count": 5,
   "metadata": {},
   "outputs": [],
   "source": [
    "import os\n",
    "\n",
    "UserName = \"pwb11\"                                 # 본인 컴퓨터 사용자 계정\n",
    "forderName = \"0_sejong\"                            # 폴더명\n",
    "forderPath = f\"c:/Users/{UserName}/{forderName}/\"  # 주피터 기본 경로 + 폴더명\n",
    "\n",
    "if not os.path.exists(forderPath):os.makedirs(forderPath) "
   ]
  },
  {
   "cell_type": "markdown",
   "metadata": {},
   "source": [
    "os.makedirs(“경로”) :    \n",
    "해당 경로에 폴더를 만드는 명령    \n",
    "\n",
    "f-string :    \n",
    "파이썬 3.6이상에서는 format 문자열을 접두사 f를 붙여     \n",
    "다음과 같이 나타낼 수 있다. f“문자열{변수명}내용”\n"
   ]
  },
  {
   "cell_type": "markdown",
   "metadata": {},
   "source": [
    "**4. YouTube 영상 정보 확인**"
   ]
  },
  {
   "cell_type": "code",
   "execution_count": 2,
   "metadata": {},
   "outputs": [
    {
     "name": "stdout",
     "output_type": "stream",
     "text": [
      "영상 제목 : [세종대학교/Sejong University] ★솔직한 학과이야기★_호텔관광대\n",
      "영상 길이 : 610 초\n",
      "영상 평점 : 4.9310346\n",
      "연령 제한 : False\n",
      "영상 게시자 : 세종대학교\n",
      "영상 썸네일 : https://i.ytimg.com/vi/zCaDXYjGDbE/maxresdefault.jpg\n",
      "영상 조회수 :  5931\n",
      "영상 설명글 :  안녕하세요 세온입니다!\n",
      "세종대학교 솔직한 학과이야기!\n",
      "이번에 들려드릴 학과 이야기는 바로 바로 ~~\n",
      "'호텔관광대' 랍니다!\n",
      "QS 세계대학평가에서 국내 1위를 차지한 세종대학교 호텔관광대! +_+\n",
      "평소에 호텔관광대에 대해 궁금했던 이야기들을\n",
      "지금 영상에서 확인해보세요~ X)\n",
      "세종대의 더 많은 소식을 듣고 싶다면?\n",
      "☞세종대 페이스북 : https://www.facebook.com/sejongpr/\n",
      "☞세종대 블로그 : https://blog.naver.com/sejong_univ\n",
      "☞세종대 인스타그램 : https://www.instagram.com/sejong_univ/\n"
     ]
    }
   ],
   "source": [
    "youtube_url = \"https://www.youtube.com/watch?v=zCaDXYjGDbE\"\n",
    "yt = YouTube(youtube_url)\n",
    "\n",
    "print(\"영상 제목 :\",   yt.title)\n",
    "print(\"영상 길이 :\",   yt.length,\"초\")\n",
    "print(\"영상 평점 :\",   yt.rating)\n",
    "print(\"연령 제한 :\",   yt.age_restricted)\n",
    "print(\"영상 게시자 :\", yt.author) \n",
    "print(\"영상 썸네일 :\", yt.thumbnail_url)\n",
    "print(\"영상 조회수 : \",yt.views)\n",
    "print(\"영상 설명글 : \",yt.description.strip())"
   ]
  },
  {
   "cell_type": "markdown",
   "metadata": {},
   "source": [
    "**5.stream Query 객체 생성**"
   ]
  },
  {
   "cell_type": "code",
   "execution_count": 3,
   "metadata": {},
   "outputs": [
    {
     "name": "stdout",
     "output_type": "stream",
     "text": [
      "stream 객체 전체보기 :\n",
      "0  :  <Stream: itag=\"18\" mime_type=\"video/mp4\" res=\"360p\" fps=\"30fps\" vcodec=\"avc1.42001E\" acodec=\"mp4a.40.2\" progressive=\"True\" type=\"video\">\n",
      "1  :  <Stream: itag=\"22\" mime_type=\"video/mp4\" res=\"720p\" fps=\"30fps\" vcodec=\"avc1.64001F\" acodec=\"mp4a.40.2\" progressive=\"True\" type=\"video\">\n",
      "2  :  <Stream: itag=\"137\" mime_type=\"video/mp4\" res=\"1080p\" fps=\"30fps\" vcodec=\"avc1.640028\" progressive=\"False\" type=\"video\">\n",
      "3  :  <Stream: itag=\"248\" mime_type=\"video/webm\" res=\"1080p\" fps=\"30fps\" vcodec=\"vp9\" progressive=\"False\" type=\"video\">\n",
      "4  :  <Stream: itag=\"136\" mime_type=\"video/mp4\" res=\"720p\" fps=\"30fps\" vcodec=\"avc1.4d4016\" progressive=\"False\" type=\"video\">\n",
      "5  :  <Stream: itag=\"247\" mime_type=\"video/webm\" res=\"720p\" fps=\"30fps\" vcodec=\"vp9\" progressive=\"False\" type=\"video\">\n",
      "6  :  <Stream: itag=\"135\" mime_type=\"video/mp4\" res=\"480p\" fps=\"30fps\" vcodec=\"avc1.4d4014\" progressive=\"False\" type=\"video\">\n",
      "7  :  <Stream: itag=\"244\" mime_type=\"video/webm\" res=\"480p\" fps=\"30fps\" vcodec=\"vp9\" progressive=\"False\" type=\"video\">\n",
      "8  :  <Stream: itag=\"134\" mime_type=\"video/mp4\" res=\"360p\" fps=\"30fps\" vcodec=\"avc1.4d401e\" progressive=\"False\" type=\"video\">\n",
      "9  :  <Stream: itag=\"243\" mime_type=\"video/webm\" res=\"360p\" fps=\"30fps\" vcodec=\"vp9\" progressive=\"False\" type=\"video\">\n",
      "10  :  <Stream: itag=\"133\" mime_type=\"video/mp4\" res=\"240p\" fps=\"30fps\" vcodec=\"avc1.4d400c\" progressive=\"False\" type=\"video\">\n",
      "11  :  <Stream: itag=\"242\" mime_type=\"video/webm\" res=\"240p\" fps=\"30fps\" vcodec=\"vp9\" progressive=\"False\" type=\"video\">\n",
      "12  :  <Stream: itag=\"160\" mime_type=\"video/mp4\" res=\"144p\" fps=\"30fps\" vcodec=\"avc1.4d400b\" progressive=\"False\" type=\"video\">\n",
      "13  :  <Stream: itag=\"278\" mime_type=\"video/webm\" res=\"144p\" fps=\"30fps\" vcodec=\"vp9\" progressive=\"False\" type=\"video\">\n",
      "14  :  <Stream: itag=\"140\" mime_type=\"audio/mp4\" abr=\"128kbps\" acodec=\"mp4a.40.2\" progressive=\"False\" type=\"audio\">\n",
      "15  :  <Stream: itag=\"251\" mime_type=\"audio/webm\" abr=\"160kbps\" acodec=\"opus\" progressive=\"False\" type=\"audio\">\n"
     ]
    }
   ],
   "source": [
    "# streamQuery 객체를 생성\n",
    "yt_streams = yt.streams\n",
    "\n",
    "print(\"stream 객체 전체보기 :\") \n",
    "yt_streams_list = yt_streams.all()   \n",
    "for i in range(len(yt_streams_list)) : print(i, \" : \", yt_streams_list[i])"
   ]
  },
  {
   "cell_type": "markdown",
   "metadata": {},
   "source": [
    "**6. YouTube mp4 확장자만 표시**"
   ]
  },
  {
   "cell_type": "code",
   "execution_count": 6,
   "metadata": {
    "scrolled": true
   },
   "outputs": [
    {
     "name": "stdout",
     "output_type": "stream",
     "text": [
      "고화질 mp4 화질순 정렬 :\n",
      "0  :  <Stream: itag=\"18\" mime_type=\"video/mp4\" res=\"360p\" fps=\"30fps\" vcodec=\"avc1.42001E\" acodec=\"mp4a.40.2\" progressive=\"True\" type=\"video\">\n",
      "1  :  <Stream: itag=\"22\" mime_type=\"video/mp4\" res=\"720p\" fps=\"30fps\" vcodec=\"avc1.64001F\" acodec=\"mp4a.40.2\" progressive=\"True\" type=\"video\">\n"
     ]
    }
   ],
   "source": [
    "# 확장자 mp4로 필터링하여 화실 순으로 정렬\n",
    "yt_mp4 = yt_streams.filter(progressive=True, file_extension='mp4').order_by('resolution').all()\n",
    "print(\"고화질 mp4 화질순 정렬 :\") \n",
    "for i in range(len(yt_mp4)) : print(i, \" : \", yt_mp4[i])"
   ]
  },
  {
   "cell_type": "markdown",
   "metadata": {},
   "source": [
    "**7. YouTube 다운로드**"
   ]
  },
  {
   "cell_type": "code",
   "execution_count": 7,
   "metadata": {
    "scrolled": true
   },
   "outputs": [
    {
     "name": "stdout",
     "output_type": "stream",
     "text": [
      "영상을 선택하세요.0\n"
     ]
    },
    {
     "data": {
      "text/plain": [
       "'c:/Users/pwb11/0_sejong/[세종대학교Sejong University] ★솔직한 학과이야기★_호텔관광대.mp4'"
      ]
     },
     "execution_count": 7,
     "metadata": {},
     "output_type": "execute_result"
    }
   ],
   "source": [
    "num = int(input(\"영상을 선택하세요.\"))\n",
    "yt_mp4[num].download(forderPath) # 기본 경로는 현제 주피터노트북 파일 위치"
   ]
  },
  {
   "cell_type": "markdown",
   "metadata": {},
   "source": [
    "**ex1. progressive False 다운로드 시도**"
   ]
  },
  {
   "cell_type": "code",
   "execution_count": null,
   "metadata": {},
   "outputs": [
    {
     "name": "stdout",
     "output_type": "stream",
     "text": [
      "고화질 mp4 화질순 정렬 :\n",
      "0  :  <Stream: itag=\"18\" mime_type=\"video/mp4\" res=\"360p\" fps=\"30fps\" vcodec=\"avc1.42001E\" acodec=\"mp4a.40.2\" progressive=\"True\" type=\"video\">\n",
      "1  :  <Stream: itag=\"22\" mime_type=\"video/mp4\" res=\"720p\" fps=\"30fps\" vcodec=\"avc1.64001F\" acodec=\"mp4a.40.2\" progressive=\"True\" type=\"video\">\n",
      "2  :  <Stream: itag=\"137\" mime_type=\"video/mp4\" res=\"1080p\" fps=\"30fps\" vcodec=\"avc1.640028\" progressive=\"False\" type=\"video\">\n",
      "3  :  <Stream: itag=\"136\" mime_type=\"video/mp4\" res=\"720p\" fps=\"30fps\" vcodec=\"avc1.4d4016\" progressive=\"False\" type=\"video\">\n",
      "4  :  <Stream: itag=\"135\" mime_type=\"video/mp4\" res=\"480p\" fps=\"30fps\" vcodec=\"avc1.4d4014\" progressive=\"False\" type=\"video\">\n"
     ]
    }
   ],
   "source": [
    "# progressive False 파일을 다운로드 하려고 하면 HTTP 404 오류가 뜬다.\n",
    "yt_mp4 = yt_streams.filter(progressive=False, file_extension='mp4').all()\n",
    "print(\"고화질 mp4 화질순 정렬 :\") \n",
    "for i in range(5) : print(i, \" : \", yt_mp4[i])\n",
    "    \n",
    "num = int(input(\"영상을 선택하세요.\"))\n",
    "yt_mp4[num].download(forderPath) # 기본 경로는 현제 주피터노트북 파일 위치"
   ]
  },
  {
   "cell_type": "markdown",
   "metadata": {},
   "source": [
    "#### ex2. 영상 다운로드(간소화)"
   ]
  },
  {
   "cell_type": "code",
   "execution_count": 11,
   "metadata": {
    "scrolled": true
   },
   "outputs": [
    {
     "data": {
      "text/plain": [
       "'C:\\\\Users\\\\pwb11\\\\PythonStudy\\\\JupiterNotbook\\\\[세종대학교Sejong University] ★솔직한 학과이야기★_호텔관광대.mp4'"
      ]
     },
     "execution_count": 11,
     "metadata": {},
     "output_type": "execute_result"
    }
   ],
   "source": [
    "from pytube import YouTube\n",
    "\n",
    "YouTube('https://www.youtube.com/watch?v=zCaDXYjGDbE').streams. \\\n",
    "    filter(progressive=True, file_extension='mp4').first().download(forderPath)"
   ]
  },
  {
   "cell_type": "markdown",
   "metadata": {},
   "source": [
    "#### 유튜브 명령어 관련"
   ]
  },
  {
   "cell_type": "markdown",
   "metadata": {},
   "source": [
    "참고사항\n",
    "1. [유튜브 영상/자막 다운로드](https://kiddwannabe.blog.me/221790727905)\n",
    "1. [pytube API](https://pypi.org/project/pytube3/)\n",
    "1. [pytube Guide](https://pytube3.readthedocs.io/en/latest/)\n",
    "1. [유튜브 비디오 다운로드](https://yagisanatode.com/2018/03/09/how-do-i-download-youtube-videos-with-python-3-using-pytube/)\n",
    "\n",
    "중요한거\n",
    "1. [제일 잘 정리된 블로그](https://m.blog.naver.com/skyshin0304/221620513883)\n",
    "1. [stream 관련 정리](https://python-pytube.readthedocs.io/en/latest/user/quickstart.html)\n",
    "1. [pytube3 API](https://pytube3.readthedocs.io/en/latest/api.html#youtube-object)\n",
    "1. [자세한 설명](https://blog.naver.com/skyshin0304/221620513883)\n",
    "1. [403에러 뜰 때](https://m.blog.naver.com/PostView.nhn?blogId=skyshin0304&logNo=221619995838&proxyReferer=https%3A%2F%2Fwww.google.com%2F)\n",
    "\n",
    "심화내용\n",
    "1. [유튜브 mp3 변환](https://niceman.tistory.com/92)\n",
    "1. [뷰티플스프 크롤링](https://jh-0323.tistory.com/entry/%ED%8C%8C%EC%9D%B4%EC%8D%AC%EC%9D%84-%EC%9D%B4%EC%9A%A9%ED%95%9C-%EC%9C%A0%ED%8A%9C%EB%B8%8C-%EC%B1%84%EB%84%90-%ED%81%AC%EB%A1%A4%EB%A7%81-csv%ED%8C%8C%EC%9D%BC%EB%A1%9C-%EB%A7%8C%EB%93%A4%EA%B8%B0)\n",
    "1. [셀레늄으로 크롤링](https://shinminyong.tistory.com/2?category=835486) "
   ]
  },
  {
   "cell_type": "markdown",
   "metadata": {},
   "source": [
    "### 수정 전 코드"
   ]
  },
  {
   "cell_type": "code",
   "execution_count": null,
   "metadata": {},
   "outputs": [],
   "source": [
    "### 수정 전 코드! pip install pytube3\n",
    "\n",
    "import os\n",
    "from pytube import YouTube\n",
    "\n",
    "UserName = \"pwb11\"\n",
    "forderName = \"pytube3\"\n",
    "forderURL = f\"C:/Users/{UserName}/Desktop/{forderName}\"\n",
    "\n",
    "if not os.path.exists(forderURL):os.makedirs(forderURL) \n",
    "\n",
    "youtube_url = \"https://www.youtube.com/watch?v=zCaDXYjGDbE\"\n",
    "yt = YouTube(youtube_url)\n",
    "\n",
    "print(\"영상 제목 :\",   yt.title)\n",
    "print(\"영상 길이 :\",   yt.length,\"초\")\n",
    "print(\"영상 평점 :\",   yt.rating)\n",
    "print(\"연령 제한 :\",   yt.age_restricted)\n",
    "print(\"영상 게시자 :\", yt.author) \n",
    "print(\"영상 썸네일 :\", yt.thumbnail_url)\n",
    "print(\"영상 조회수 : \",yt.views)\n",
    "print(\"영상 설명글 : \",yt.description.strip())\n",
    "\n",
    "yt.streams \\\n",
    "    .filter(progressive=True, file_extension='mp4') \\\n",
    "    .order_by('resolution').desc().first().download(forderURL)"
   ]
  },
  {
   "cell_type": "markdown",
   "metadata": {},
   "source": [
    "### 자막 관련"
   ]
  },
  {
   "cell_type": "code",
   "execution_count": 1,
   "metadata": {},
   "outputs": [],
   "source": [
    "#참고 링크\n",
    "\n",
    "# 한국어 (Vrew)\n",
    "URL_KR ='https://www.youtube.com/watch?v=oNCRJ8egk5E&t=1s'\n",
    "\n",
    "# 영어 (미국 드라마)\n",
    "URL_EN ='https://youtu.be/7GP_ymLQ-FU'\n",
    "\n",
    "# 일본어\n",
    "URL_JR ='https://www.youtube.com/watch?v=vohe-uhi8ws'"
   ]
  },
  {
   "cell_type": "code",
   "execution_count": 3,
   "metadata": {},
   "outputs": [
    {
     "name": "stdout",
     "output_type": "stream",
     "text": [
      " 한국어 : 1 \n",
      " 일본어 : 2 \n",
      " 영어 : 3 \n",
      "3\n",
      "\n",
      " 다운가능한 영상 자막 정보 :\n",
      "0  :  <Caption lang=\"영어\" code=\"en\">\n",
      "언어를 선택하세요 (code 입력): \n",
      "en\n",
      "선택된 caption :  <Caption lang=\"영어\" code=\"en\">\n",
      "선택된 자막 보여주기 :\n",
      "1\n",
      "00:00:00,669 --> 00:00:01,670\n",
      "Very well.\n",
      "\n",
      "2\n",
      "00:00:01,670 --> 00:00:03,400\n",
      "In human terms...\n",
      "\n",
      "3\n",
      "00:00:03,840 --> 00:00:05,000\n",
      "Once upon a time...\n",
      "\n",
      "4\n",
      "00:00:05,680 --> 00:00:08,140\n",
      "A boy met a girl, and they fell in love.\n",
      "\n",
      "5\n",
      "00:00:09,440 --> 00:00:10,860\n",
      "Lucifer, Morningstar.\n",
      "\n",
      "6\n",
      "00:00:11,680 --> 00:00:16,320\n",
      "Lucifer Morningstar, is that a stage name or something?\n",
      "\n",
      "7\n",
      "00:00:17,460 --> 00:00:18,580\n",
      "God given, I'm afraid.\n",
      "\n",
      "8\n",
      "00:00:19,320 --> 00:00:22,800\n",
      "You and I, well there is no you and I, there's a professional situation,\n",
      "\n",
      "9\n",
      "00:00:22,880 --> 00:00:23,840\n",
      "and I just need you-\n",
      "\n",
      "10\n",
      "00:00:23,840 --> 00:00:24,840\n",
      "See? You need me.\n",
      "\n",
      "11\n",
      "00:00:25,040 --> 00:00:27,000\n",
      "The department needs you, because you're the one...\n",
      "\n",
      "12\n",
      "00:00:27,100 --> 00:00:27,920\n",
      "I'm the one!\n",
      "\n",
      "13\n",
      "00:00:34,360 --> 00:00:35,360\n",
      "Detective.\n",
      "\n",
      "14\n",
      "00:00:37,060 --> 00:00:38,600\n",
      "Will you go to the prom with me?\n",
      "\n",
      "15\n",
      "00:00:38,840 --> 00:00:39,340\n",
      "Look,\n",
      "\n",
      "16\n",
      "00:00:39,480 --> 00:00:42,380\n",
      "I don't know what your deal is, but you make me a better detective,\n",
      "\n",
      "17\n",
      "00:00:42,500 --> 00:00:43,840\n",
      "and you always got my back.\n",
      "\n",
      "18\n",
      "00:00:44,280 --> 00:00:45,260\n",
      "What more could I ask for?\n",
      "\n",
      "19\n",
      "00:00:46,560 --> 00:00:49,120\n",
      "I think us, our thing,\n",
      "\n",
      "20\n",
      "00:00:49,260 --> 00:00:51,540\n",
      "maybe it goes beyond just work.\n",
      "\n",
      "21\n",
      "00:00:52,040 --> 00:00:53,340\n",
      "I can let my guard down with you.\n",
      "\n",
      "22\n",
      "00:00:53,700 --> 00:00:54,860\n",
      "Thank you, Lucifer.\n",
      "\n",
      "23\n",
      "00:00:57,320 --> 00:00:58,900\n",
      "I don't do that with anyone else.\n",
      "\n",
      "24\n",
      "00:00:59,480 --> 00:01:01,320\n",
      "You make me, vulnerable.\n",
      "\n",
      "25\n",
      "00:01:01,820 --> 00:01:06,740\n",
      "If it's any consolation to your pride, it appears you make me vulnerable too.\n",
      "\n",
      "26\n",
      "00:01:12,280 --> 00:01:13,820\n",
      "It would never work out between us.\n",
      "\n",
      "27\n",
      "00:01:13,820 --> 00:01:16,399\n",
      "From now on, no more attempts at moments.\n",
      "\n",
      "28\n",
      "00:01:16,399 --> 00:01:22,520\n",
      "You deserve someone better, because you, Detective are selfless to a nauseating degree.\n",
      "\n",
      "29\n",
      "00:01:22,520 --> 00:01:26,440\n",
      "More importantly, Detective you deserve someone as good as you, because...\n",
      "\n",
      "30\n",
      "00:01:26,600 --> 00:01:28,620\n",
      "Well, you're special.\n",
      "\n",
      "31\n",
      "00:01:29,300 --> 00:01:30,240\n",
      "And I'm...\n",
      "\n",
      "32\n",
      "00:01:32,520 --> 00:01:33,520\n",
      "I'm not worth it.\n",
      "\n",
      "33\n",
      "00:01:33,580 --> 00:01:34,700\n",
      "You're probably right.\n",
      "\n",
      "34\n",
      "00:01:41,980 --> 00:01:42,940\n",
      "Detective...\n",
      "\n",
      "35\n",
      "00:01:44,860 --> 00:01:49,060\n",
      "How is it that sometimes you don't get hurt, and then other times you do?!\n",
      "\n",
      "36\n",
      "00:01:49,060 --> 00:01:50,520\n",
      "What is the difference?\n",
      "\n",
      "37\n",
      "00:01:52,800 --> 00:01:54,880\n",
      "You are, Detective.\n",
      "\n",
      "38\n",
      "00:01:55,380 --> 00:01:57,740\n",
      "The other side of me, is, it's bad.\n",
      "\n",
      "39\n",
      "00:01:57,900 --> 00:01:58,900\n",
      "It's monstrous.\n",
      "\n",
      "40\n",
      "00:01:59,200 --> 00:02:03,500\n",
      "You wanted the truth, and you deserve the truth, but right now I can't show it to you,\n",
      "\n",
      "41\n",
      "00:02:03,500 --> 00:02:05,540\n",
      "so I'm just gonna have to tell you.\n",
      "\n",
      "42\n",
      "00:02:05,940 --> 00:02:06,940\n",
      "Chloe...\n",
      "\n",
      "43\n",
      "00:02:09,480 --> 00:02:10,860\n",
      "I am the Devil.\n",
      "\n",
      "44\n",
      "00:02:11,240 --> 00:02:12,400\n",
      "No you're not.\n",
      "\n",
      "45\n",
      "00:02:13,420 --> 00:02:14,180\n",
      "Not to me.\n",
      "\n",
      "46\n",
      "00:02:18,860 --> 00:02:19,560\n",
      "Lucifer?\n",
      "\n",
      "47\n",
      "00:02:23,620 --> 00:02:24,320\n",
      "It's all true...\n",
      "\n",
      "48\n",
      "00:02:24,680 --> 00:02:25,380\n",
      "Detective?\n",
      "\n",
      "49\n",
      "00:02:26,900 --> 00:02:27,820\n",
      "What I saw...\n",
      "\n",
      "50\n",
      "00:02:27,820 --> 00:02:30,700\n",
      "I've had literal eons to come to terms with what you saw.\n",
      "\n",
      "51\n",
      "00:02:30,960 --> 00:02:32,940\n",
      "But it's not all that I am.\n",
      "\n",
      "52\n",
      "00:02:33,100 --> 00:02:33,960\n",
      "At least I hope not.\n",
      "\n",
      "53\n",
      "00:02:36,560 --> 00:02:41,420\n",
      "Either way, it's unfair of me to expect you to just accept it.\n",
      "\n",
      "54\n",
      "00:02:41,660 --> 00:02:42,660\n",
      "I love you.\n",
      "\n",
      "55\n",
      "00:02:43,020 --> 00:02:44,020\n",
      "I love you!\n",
      "\n",
      "56\n",
      "00:02:44,180 --> 00:02:46,000\n",
      "Please, don't leave!\n",
      "\n",
      "57\n",
      "00:02:46,600 --> 00:02:48,360\n",
      "My first love was never Eve.\n",
      "\n",
      "58\n",
      "00:02:49,760 --> 00:02:50,860\n",
      "It was you, Chloe.\n",
      "\n",
      "59\n",
      "00:02:51,040 --> 00:02:51,900\n",
      "It always has been.\n",
      "\n",
      "60\n",
      "00:02:57,960 --> 00:02:58,460\n",
      "Please...\n",
      "\n",
      "61\n",
      "00:03:00,320 --> 00:03:01,100\n",
      "Don't go.\n",
      "\n",
      "62\n",
      "00:03:02,420 --> 00:03:03,160\n",
      "Goodbye.\n",
      "\n",
      "63\n",
      "00:03:11,120 --> 00:03:12,120\n",
      "Dad...\n",
      "\n",
      "64\n",
      "00:03:13,940 --> 00:03:15,420\n",
      "I need a favor.\n",
      "\n",
      "65\n",
      "00:03:17,120 --> 00:03:19,620\n",
      "I'll be the son you always wanted me to be.\n",
      "\n",
      "66\n",
      "00:03:19,620 --> 00:03:20,900\n",
      "I'll do as you ask.\n",
      "\n",
      "67\n",
      "00:03:22,180 --> 00:03:23,500\n",
      "Go where you want me to.\n",
      "\n",
      "68\n",
      "00:03:23,780 --> 00:03:24,540\n",
      "All I ask,\n",
      "\n",
      "69\n",
      "00:03:24,840 --> 00:03:26,140\n",
      "is that you protect Chloe.\n",
      "\n",
      "70\n",
      "00:03:33,180 --> 00:03:33,680\n",
      "See?\n",
      "\n",
      "71\n",
      "00:03:34,200 --> 00:03:35,600\n",
      "I told you everything would be alright.\n",
      "\n",
      "72\n",
      "00:03:41,620 --> 00:03:42,880\n",
      "So glad you're ok.\n",
      "\n",
      "73\n",
      "00:03:49,400 --> 00:03:51,580\n",
      "I guess we make a good team after all, don't we?\n",
      "\n",
      "74\n",
      "00:03:52,340 --> 00:03:53,780\n",
      "This is real, isn't it?\n",
      "end\n"
     ]
    }
   ],
   "source": [
    "from pytube import YouTube\n",
    "# 라이브러리 가져오기\n",
    "\n",
    "choice = int( input(\" 한국어 : 1 \\n 일본어 : 2 \\n 영어 : 3 \\n\"))\n",
    "\n",
    "if choice == 1 : yt = YouTube(URL_KR)\n",
    "elif choice == 2 : yt = YouTube(URL_JR)\n",
    "else : yt = YouTube(URL_EN)\n",
    "# 동영상 링크를 이용해 YouTube 객체 생성\n",
    "\n",
    "yt_captions = yt.captions\n",
    "# YouTube 객체에서 caption 객체를 가져옴\n",
    "\n",
    "print(\"\\n 다운가능한 영상 자막 정보 :\")\n",
    "for i, cap in enumerate(yt.captions.all()):\n",
    "    print(i, \" : \", cap)\n",
    "\n",
    "print(\"언어를 선택하세요 (code 입력): \")\n",
    "code = input()\n",
    "my_caption = yt_captions.get_by_language_code(code)\n",
    "print(\"선택된 caption : \", my_caption)\n",
    "print(\"선택된 자막 보여주기 :\")\n",
    "print(my_caption.generate_srt_captions())\n",
    "\n",
    "print(\"end\")"
   ]
  }
 ],
 "metadata": {
  "kernelspec": {
   "display_name": "Python 3",
   "language": "python",
   "name": "python3"
  },
  "language_info": {
   "codemirror_mode": {
    "name": "ipython",
    "version": 3
   },
   "file_extension": ".py",
   "mimetype": "text/x-python",
   "name": "python",
   "nbconvert_exporter": "python",
   "pygments_lexer": "ipython3",
   "version": "3.7.4"
  }
 },
 "nbformat": 4,
 "nbformat_minor": 2
}
