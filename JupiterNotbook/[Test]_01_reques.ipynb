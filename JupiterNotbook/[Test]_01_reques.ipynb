{
 "cells": [
  {
   "cell_type": "markdown",
   "metadata": {},
   "source": [
    " ##  request 사용하기\n",
    " \n",
    " **요약 :** 서버에게 **데이터를 요청**하는 것"
   ]
  },
  {
   "cell_type": "code",
   "execution_count": 4,
   "metadata": {},
   "outputs": [],
   "source": [
    "import requests"
   ]
  },
  {
   "cell_type": "markdown",
   "metadata": {},
   "source": [
    "#### [Import 문법](https://kongdols-room.tistory.com/46)\n",
    "\n",
    "1. import **(module name)**\n",
    "2. import **(module name)** as **(nickname)**\n",
    "3. from **(module name)** import **(module element)**\n",
    "4. from **(module name)** import **(module element)** as **(nickname)**\n"
   ]
  },
  {
   "cell_type": "code",
   "execution_count": 9,
   "metadata": {
    "scrolled": true
   },
   "outputs": [],
   "source": [
    "# request로 URL 정보 가져오기\n",
    "url = \"http://info.hanatour.com/?hanacode=main_TNB_getabout\"\n",
    "html = requests.get(url)"
   ]
  },
  {
   "cell_type": "markdown",
   "metadata": {},
   "source": [
    "###  1. 기본개념\n",
    "**Requests :**  \n",
    "요청(requests)은 클라이언트가 서버로 전달해서 서버의 액션이 일어나게 하는 메시지.  \n",
    "\n",
    "**Response :**   \n",
    "응답(response)은 요청에 대한 서버의 답변.\n",
    "\n",
    "| 용어 | 역할 | 비고 |\n",
    "| :---: | :---: | :---: |\n",
    "| 클라이언트(requests) | 요청하는 컴퓨터 | 사용자 컴퓨터 |\n",
    "| 서버 (response) |  주는 컴퓨터 | 기업체 컴퓨터 |"
   ]
  },
  {
   "cell_type": "code",
   "execution_count": 8,
   "metadata": {},
   "outputs": [
    {
     "name": "stdout",
     "output_type": "stream",
     "text": [
      "200 \n",
      "\n",
      "\n"
     ]
    }
   ],
   "source": [
    "# 상태코드 보기\n",
    "print(html.status_code, '\\n\\n')"
   ]
  },
  {
   "cell_type": "markdown",
   "metadata": {},
   "source": [
    "### 2. HTTP response 상태 코드\n",
    "자주볼 수 있는 상태코드 및 설명 [전문보기](https://ko.wikipedia.org/wiki/HTTP_%EC%83%81%ED%83%9C_%EC%BD%94%EB%93%9C)\n",
    "\n",
    "- **200(성공) :**   \n",
    "    서버가 요청을 제대로 처리했다는 뜻이다.     \n",
    "    이는 주로 서버가 요청한 페이지를 제공했다는 의미로 쓰인다.   \n",
    "- **404(Not Found, 찾을 수 없음) :**    \n",
    "    서버가 요청한 페이지(Resource)를 찾을 수 없다. <br>예를 들어 서버에 존재하지 않는 페이지에 대한 요청이 있을 경우<br> 서버는 이 코드를 제공한다.   \n",
    "- **503(서비스를 사용할 수 없음) :**   \n",
    "    서버가 오버로드되었거나 유지관리를 위해 다운되었기 때문에<br> 현재 서버를 사용할 수 없다. 이는 대개 일시적인 상태이다.   "
   ]
  },
  {
   "cell_type": "code",
   "execution_count": null,
   "metadata": {},
   "outputs": [],
   "source": [
    "# 홈페이지 전체 코드 보기\n",
    "print(html,'\\n')\n",
    "print(html.text)"
   ]
  },
  {
   "cell_type": "markdown",
   "metadata": {},
   "source": [
    "\n",
    "###  3. HTML 코드 출력\n",
    "- requests.get(url)      : 상태코드로 결과값 출력\n",
    "- requests.get(url).text : 웹페이지 전체 코드 출력"
   ]
  },
  {
   "cell_type": "markdown",
   "metadata": {},
   "source": [
    "### 4. 참고문헌 requests API    \n",
    "- [requests API](http://2.python-requests.org/en/master/api/)   \n",
    "- [requests USER-GUIDE](http://2.python-requests.org/en/master/#the-user-guide)   \n",
    "- [Python requests 모듈 간단 정리](https://dgkim5360.tistory.com/entry/python-requests)  \n",
    "\n"
   ]
  },
  {
   "cell_type": "code",
   "execution_count": null,
   "metadata": {},
   "outputs": [],
   "source": []
  }
 ],
 "metadata": {
  "kernelspec": {
   "display_name": "Python 3",
   "language": "python",
   "name": "python3"
  },
  "language_info": {
   "codemirror_mode": {
    "name": "ipython",
    "version": 3
   },
   "file_extension": ".py",
   "mimetype": "text/x-python",
   "name": "python",
   "nbconvert_exporter": "python",
   "pygments_lexer": "ipython3",
   "version": "3.7.4"
  }
 },
 "nbformat": 4,
 "nbformat_minor": 2
}
