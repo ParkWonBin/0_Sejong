{
 "cells": [
  {
   "cell_type": "markdown",
   "metadata": {},
   "source": [
    "## 트립어드바이저   [Tripadvisor](https://www.tripadvisor.co.kr/Hotel_Review-g294197-d306130-Reviews-Lotte_Hotel_Seoul-Seoul.html)\n",
    "#### 댓글 크롤링\n",
    "#### 전체코드 "
   ]
  },
  {
   "cell_type": "code",
   "execution_count": 24,
   "metadata": {
    "collapsed": true
   },
   "outputs": [
    {
     "name": "stdout",
     "output_type": "stream",
     "text": [
      " # 1 : 2020년 1월\n",
      "이름 : 루키즌스\n",
      "제목 : 설연휴 마지막날 휴식\n",
      "내용 : 설연휴의 마지막날을 와이프와 함께 휴식차 방문 하였습니다. 독감 바이러스때문에 걱정되어 아기는 데리고 오지 못했는데 체크인데스크에 바이러스 대비 열화상카메라,소독제를 설치해두었더라구요.  특급호텔이라 외국인들 방문도 많아 저희 부부만 방문하는것도 걱정됐는데 그런부분을보니 조금이나마 안심이되었습니다^^  다소 늦은 체크인에도 직원분이 전망좋은 객실 배정해주셔 이번 호캉스를 잘 보낼 수 있었습니다. \n",
      "\n",
      " # 2 : 2020년 1월\n",
      "이름 : syul\n",
      "제목 : 설 연휴의 꿈같은 휴식\n",
      "내용 : 그동안 너무 쉬지못해 설 연휴에 나와 아내를 위한 휴식을 선택했는데 정말 좋은 호텔을 선택하게 되어 편한히 쉴수 있었습니다 호텔에 도착하면 첫인상이 중요한데 저희를 안내해주신 Daisy 라는 직원분이  너무 친절하게 안내해 주셔서 기분좋게 시작할수 있없습니다 전체적으로 호텔 시설이 너부 체계적으로 잘 되어있어서 어떤 시설을 이용해도 부족합이 없없던거 같습니다 특히 수영장은 겨울에 움추린 제몸의 긴장을 풀기에 너무 좋앗습니다 객시에서의 취침은 정말 오랜만에 깊은 잠을 청할수 있도록 푹 안기는듯했고  개운한 아침을 맞아 찾은 조식은 아침을 잘 안먹는 저에겐 좋은 약을 먹는것처럼 행복했습니다 다음에 다시 쉼이 필요할땐 항상 이곳을 찾도록 하겠습니다 이번 여행에 도움을주신 ,Daisy님께 다시한번 감사 말씀드립니다 \n",
      "\n",
      " # 3 : 2020년 1월\n",
      "이름 : 이주현\n",
      "제목 : 친절과 디테일로 완성시켜준 호캉스\n",
      "내용 : 구정 연휴 말미, 아이를 데리고 가족단위로 투숙하였습니다. 아직 아이가 너무 어리기에 온돌 방으로 요청드렸으며 어쩌다 보니, 체크인 시간보다 조금 이른 시간에 도착하였습니다. 칭얼거리는 아이가 신경쓰이던 찰나, 프런트 직원분께서 싹싹하게 아이도 챙겨주셨고, 혹 온돌 방이면 아기용 요, 이불 등 추가로 필요한 것이 있는지 먼저 물어봐 주신 덕에, 저희가 미처 생각지 못한 부분까지 잘 챙길 수 있었습니다. 덕분에 연휴의 마지막을 행복하게 잘 보냈습니다. \n",
      "\n",
      " # 4 : 2020년 1월\n",
      "이름 : kangta choi\n",
      "제목 : 설연휴 기분좋은 휴가\n",
      "내용 : 설연휴 가족과 함께한 롯데호텔 클럽룸 연휴라그런지클럽라운지에 매우많은 손님들이 있었지만 직원분들의 친절과 배려로 기분좋게 이용할 수 있었습니다 도심속에서의 수영장 또한 즐거운 경험 이었습니다 \n",
      "\n",
      " # 5 : 2019년 12월\n",
      "이름 : Cocojang\n",
      "제목 : 롯데호텔 최고!!!\n",
      "내용 : 재작년에 이어 2019년 연말에도 가족과 함께 롯데호텔 다녀왔습니다 직원분들도 모두 친절하고 룸컨디션도 클럽라운지도 모두 대만족~~울 가족 모두 힐링하고 왔습니다~~ 올 연말에도 롯데호텔에서 보낼거에요~♡ \n",
      "\n",
      " # 6 : 2020년 1월\n",
      "이름 : 루키즌스\n",
      "제목 : 설연휴 마지막날 휴식\n",
      "내용 : 설연휴의 마지막날을 와이프와 함께 휴식차 방문 하였습니다. 독감 바이러스때문에 걱정되어 아기는 데리고 오지 못했는데 체크인데스크에 바이러스 대비 열화상카메라,소독제를 설치해두었더라구요.  특급호텔이라 외국인들 방문도 많아 저희 부부만 방문하는것도 걱정됐는데 그런부분을보니 조금이나마 안심이되었습니다^^  다소 늦은 체크인에도 직원분이 전망좋은 객실 배정해주셔 이번 호캉스를 잘 보낼 수 있었습니다. \n",
      "\n",
      " # 7 : 2020년 1월\n",
      "이름 : syul\n",
      "제목 : 설 연휴의 꿈같은 휴식\n",
      "내용 : 그동안 너무 쉬지못해 설 연휴에 나와 아내를 위한 휴식을 선택했는데 정말 좋은 호텔을 선택하게 되어 편한히 쉴수 있었습니다 호텔에 도착하면 첫인상이 중요한데 저희를 안내해주신 Daisy 라는 직원분이  너무 친절하게 안내해 주셔서 기분좋게 시작할수 있없습니다 전체적으로 호텔 시설이 너부 체계적으로 잘 되어있어서 어떤 시설을 이용해도 부족합이 없없던거 같습니다 특히 수영장은 겨울에 움추린 제몸의 긴장을 풀기에 너무 좋앗습니다 객시에서의 취침은 정말 오랜만에 깊은 잠을 청할수 있도록 푹 안기는듯했고  개운한 아침을 맞아 찾은 조식은 아침을 잘 안먹는 저에겐 좋은 약을 먹는것처럼 행복했습니다 다음에 다시 쉼이 필요할땐 항상 이곳을 찾도록 하겠습니다 이번 여행에 도움을주신 ,Daisy님께 다시한번 감사 말씀드립니다 \n",
      "\n",
      " # 8 : 2020년 1월\n",
      "이름 : 이주현\n",
      "제목 : 친절과 디테일로 완성시켜준 호캉스\n",
      "내용 : 구정 연휴 말미, 아이를 데리고 가족단위로 투숙하였습니다. 아직 아이가 너무 어리기에 온돌 방으로 요청드렸으며 어쩌다 보니, 체크인 시간보다 조금 이른 시간에 도착하였습니다. 칭얼거리는 아이가 신경쓰이던 찰나, 프런트 직원분께서 싹싹하게 아이도 챙겨주셨고, 혹 온돌 방이면 아기용 요, 이불 등 추가로 필요한 것이 있는지 먼저 물어봐 주신 덕에, 저희가 미처 생각지 못한 부분까지 잘 챙길 수 있었습니다. 덕분에 연휴의 마지막을 행복하게 잘 보냈습니다. \n",
      "\n",
      " # 9 : 2020년 1월\n",
      "이름 : kangta choi\n",
      "제목 : 설연휴 기분좋은 휴가\n",
      "내용 : 설연휴 가족과 함께한 롯데호텔 클럽룸 연휴라그런지클럽라운지에 매우많은 손님들이 있었지만 직원분들의 친절과 배려로 기분좋게 이용할 수 있었습니다 도심속에서의 수영장 또한 즐거운 경험 이었습니다 \n",
      "\n",
      " # 10 : 2019년 12월\n",
      "이름 : Cocojang\n",
      "제목 : 롯데호텔 최고!!!\n",
      "내용 : 재작년에 이어 2019년 연말에도 가족과 함께 롯데호텔 다녀왔습니다 직원분들도 모두 친절하고 룸컨디션도 클럽라운지도 모두 대만족~~울 가족 모두 힐링하고 왔습니다~~ 올 연말에도 롯데호텔에서 보낼거에요~♡ \n",
      "\n"
     ]
    }
   ],
   "source": [
    "from selenium import webdriver\n",
    "from bs4 import BeautifulSoup \n",
    "\n",
    "# 로드된 페이지 읽고 데이터 추가\n",
    "def AddData() :\n",
    "    html = driver.page_source\n",
    "    soup = BeautifulSoup(html, \"lxml\")\n",
    "    \n",
    "    global ReviewID,ReviewTitle,ReviewText,ReviewDate\n",
    "    ReviewID    += soup.select('.social-member-event-MemberEventOnObjectBlock__event_type--3njyv span a')\n",
    "    ReviewTitle += soup.select('.location-review-review-list-parts-ReviewTitle__reviewTitleText--2tFRT')\n",
    "    ReviewText  += soup.select('.location-review-review-list-parts-ExpandableReview__reviewText--gOmRC')\n",
    "    ReviewDate  += soup.select('.location-review-review-list-parts-EventDate__event_date--1epHa')\n",
    "\n",
    "# 데이터 리셋    \n",
    "def ResetData() :\n",
    "    global ReviewID,ReviewTitle,ReviewText,ReviewDate\n",
    "    ReviewID,ReviewTitle,ReviewText,ReviewDate = [],[],[],[]\n",
    "    # 1페이지로 이동\n",
    "    url = \"https://www.tripadvisor.co.kr/Hotel_Review-g294197-d306130-Reviews-Lotte_Hotel_Seoul-Seoul.html\"\n",
    "    driver.get(url)\n",
    "      \n",
    "# 다음 페이지 버튼 클릭\n",
    "def NextPage() :\n",
    "    selector = \".ui_button.nav.next.primary \"\n",
    "    driver.find_element_by_css_selector(selector).click()\n",
    "    \n",
    "#저장된 자료 출력\n",
    "def PrintData() :\n",
    "    for i in range(len(ReviewID)):\n",
    "        print(\" #\",i+1,':', ReviewDate[i].text.lstrip('숙박 날짜 :')) \n",
    "        print('이름 :', ReviewID[i].text) \n",
    "        print('제목 :', ReviewTitle[i].text)\n",
    "        print('내용 :', ReviewText[i].text,'\\n')    \n",
    "    \n",
    "\n",
    "# 트립어드바이저 페이지로 이동\n",
    "driver = webdriver.Chrome('C:/chromedriver.exe')\n",
    "url = \"https://www.tripadvisor.co.kr/Hotel_Review-g294197-d306130-Reviews-Lotte_Hotel_Seoul-Seoul.html\"\n",
    "driver.get(url)\n",
    "\n",
    "# 여러 패이지 돌면서 출력\n",
    "ResetData()\n",
    "for i in range(2) :\n",
    "    AddData()     # 저장\n",
    "    NextPage()    # 다음 페이\n",
    "PrintData()   # 출력\n"
   ]
  },
  {
   "cell_type": "markdown",
   "metadata": {},
   "source": [
    "# 따라하기\n",
    "\n",
    "### Part 1 : Import "
   ]
  },
  {
   "cell_type": "code",
   "execution_count": 9,
   "metadata": {},
   "outputs": [],
   "source": [
    "from selenium import webdriver # 봇으로 페이지 들어가기\n",
    "from bs4 import BeautifulSoup  # 페이지 특정 부분 추출하기"
   ]
  },
  {
   "cell_type": "markdown",
   "metadata": {},
   "source": [
    "설명 바로가기 :\n",
    "[import & 모듈설치](./[Test]_00_import.ipynb)"
   ]
  },
  {
   "cell_type": "markdown",
   "metadata": {},
   "source": [
    "### Part 2 : Use Webdriver"
   ]
  },
  {
   "cell_type": "code",
   "execution_count": 10,
   "metadata": {},
   "outputs": [],
   "source": [
    "# 크롬 브라우저 열기\n",
    "driver = webdriver.Chrome('C:/chromedriver.exe')\n",
    "\n",
    "# 롯데호텔 룸 프로모션 화면으로 이동\n",
    "url = \"https://www.tripadvisor.co.kr/Hotel_Review-g294197-d306130-Reviews-Lotte_Hotel_Seoul-Seoul.html\"\n",
    "driver.get(url)"
   ]
  },
  {
   "cell_type": "markdown",
   "metadata": {},
   "source": [
    "링크 바로가기 :\n",
    "[웹드라이버 다운로드](https://sites.google.com/a/chromium.org/chromedriver/downloads)\n"
   ]
  },
  {
   "cell_type": "markdown",
   "metadata": {},
   "source": [
    "### Part 3 : Use BeautifulSoup"
   ]
  },
  {
   "cell_type": "code",
   "execution_count": 11,
   "metadata": {
    "scrolled": true
   },
   "outputs": [],
   "source": [
    "# BeautifulSoup로 소스 받아오기\n",
    "html = driver.page_source\n",
    "soup = BeautifulSoup(html, \"lxml\")"
   ]
  },
  {
   "cell_type": "markdown",
   "metadata": {},
   "source": [
    "### Part 4 : Select Tags Using BeautifulSoup"
   ]
  },
  {
   "cell_type": "code",
   "execution_count": 12,
   "metadata": {
    "scrolled": true
   },
   "outputs": [],
   "source": [
    "ReviewID    = soup.select('.social-member-event-MemberEventOnObjectBlock__event_type--3njyv span a')\n",
    "ReviewTitle = soup.select('.location-review-review-list-parts-ReviewTitle__reviewTitleText--2tFRT')\n",
    "ReviewText  = soup.select('.location-review-review-list-parts-ExpandableReview__reviewText--gOmRC')\n",
    "ReviewDate  = soup.select('.location-review-review-list-parts-EventDate__event_date--1epHa')"
   ]
  },
  {
   "cell_type": "markdown",
   "metadata": {},
   "source": [
    "### Part 5 : Clean and Print Tags "
   ]
  },
  {
   "cell_type": "code",
   "execution_count": 7,
   "metadata": {
    "collapsed": true
   },
   "outputs": [
    {
     "name": "stdout",
     "output_type": "stream",
     "text": [
      " # 1 : 2020년 1월\n",
      "이름 : 루키즌스\n",
      "제목 : 설연휴 마지막날 휴식\n",
      "내용 : 설연휴의 마지막날을 와이프와 함께 휴식차 방문 하였습니다. 독감 바이러스때문에 걱정되어 아기는 데리고 오지 못했는데 체크인데스크에 바이러스 대비 열화상카메라,소독제를 설치해두었더라구요.  특급호텔이라 외국인들 방문도 많아 저희 부부만 방문하는것도 걱정됐는데 그런부분을보니 조금이나마 안심이되었습니다^^  다소 늦은 체크인에도 직원분이 전망좋은 객실 배정해주셔 이번 호캉스를 잘 보낼 수 있었습니다. \n",
      "\n",
      " # 2 : 2020년 1월\n",
      "이름 : syul\n",
      "제목 : 설 연휴의 꿈같은 휴식\n",
      "내용 : 그동안 너무 쉬지못해 설 연휴에 나와 아내를 위한 휴식을 선택했는데 정말 좋은 호텔을 선택하게 되어 편한히 쉴수 있었습니다 호텔에 도착하면 첫인상이 중요한데 저희를 안내해주신 Daisy 라는 직원분이  너무 친절하게 안내해 주셔서 기분좋게 시작할수 있없습니다 전체적으로 호텔 시설이 너부 체계적으로 잘 되어있어서 어떤 시설을 이용해도 부족합이 없없던거 같습니다 특히 수영장은 겨울에 움추린 제몸의 긴장을 풀기에 너무 좋앗습니다 객시에서의 취침은 정말 오랜만에 깊은 잠을 청할수 있도록 푹 안기는듯했고  개운한 아침을 맞아 찾은 조식은 아침을 잘 안먹는 저에겐 좋은 약을 먹는것처럼 행복했습니다 다음에 다시 쉼이 필요할땐 항상 이곳을 찾도록 하겠습니다 이번 여행에 도움을주신 ,Daisy님께 다시한번 감사 말씀드립니다 \n",
      "\n",
      " # 3 : 2020년 1월\n",
      "이름 : 이주현\n",
      "제목 : 친절과 디테일로 완성시켜준 호캉스\n",
      "내용 : 구정 연휴 말미, 아이를 데리고 가족단위로 투숙하였습니다. 아직 아이가 너무 어리기에 온돌 방으로 요청드렸으며 어쩌다 보니, 체크인 시간보다 조금 이른 시간에 도착하였습니다. 칭얼거리는 아이가 신경쓰이던 찰나, 프런트 직원분께서 싹싹하게 아이도 챙겨주셨고, 혹 온돌 방이면 아기용 요, 이불 등 추가로 필요한 것이 있는지 먼저 물어봐 주신 덕에, 저희가 미처 생각지 못한 부분까지 잘 챙길 수 있었습니다. 덕분에 연휴의 마지막을 행복하게 잘 보냈습니다. \n",
      "\n",
      " # 4 : 2020년 1월\n",
      "이름 : kangta choi\n",
      "제목 : 설연휴 기분좋은 휴가\n",
      "내용 : 설연휴 가족과 함께한 롯데호텔 클럽룸 연휴라그런지클럽라운지에 매우많은 손님들이 있었지만 직원분들의 친절과 배려로 기분좋게 이용할 수 있었습니다 도심속에서의 수영장 또한 즐거운 경험 이었습니다 \n",
      "\n",
      " # 5 : 2019년 12월\n",
      "이름 : Cocojang\n",
      "제목 : 롯데호텔 최고!!!\n",
      "내용 : 재작년에 이어 2019년 연말에도 가족과 함께 롯데호텔 다녀왔습니다 직원분들도 모두 친절하고 룸컨디션도 클럽라운지도 모두 대만족~~울 가족 모두 힐링하고 왔습니다~~ 올 연말에도 롯데호텔에서 보낼거에요~♡ \n",
      "\n"
     ]
    }
   ],
   "source": [
    "for i in range(len(ReviewID)):\n",
    "    print(\" #\",i+1,':', ReviewDate[i].text.lstrip('숙박 날짜 :')) \n",
    "    print('이름 :', ReviewID[i].text) \n",
    "    print('제목 :', ReviewTitle[i].text)\n",
    "    print('내용 :', ReviewText[i].text,'\\n')"
   ]
  },
  {
   "cell_type": "markdown",
   "metadata": {},
   "source": [
    "### Part 6 : Click NextPage"
   ]
  },
  {
   "cell_type": "code",
   "execution_count": 19,
   "metadata": {},
   "outputs": [],
   "source": [
    "selector = \".ui_button.nav.next.primary \"\n",
    "driver.find_element_by_css_selector(selector).click()"
   ]
  },
  {
   "cell_type": "code",
   "execution_count": null,
   "metadata": {},
   "outputs": [],
   "source": []
  },
  {
   "cell_type": "markdown",
   "metadata": {
    "collapsed": true
   },
   "source": [
    "### 다음페이지 문제\n",
    "\n",
    "1. 주소로 링크 에러\n",
    "1.1. 증상 : 새로고침 되면서 1페이지로 돌아감   \n",
    "1.2. 코드 :    \n",
    "```python\n",
    "    pageNum = 5\n",
    "    url = 'https://www.tripadvisor.co.kr/Hotel_Review-g294197-d306130-Reviews-or'+str((pageNum)*5)+'-Lotte_Hotel_Seoul-Seoul.html#REVIEWS'\n",
    "    driver.get(url)\n",
    "```\n",
    "1.3. 해결 : 다음 버튼 눌러서 로드하기로 함.   \n",
    "1.4. 이유 : 해당 페이지에서 '주소 직접 입력'은 막아놓은 듯, 다음 버튼 눌러서 들어가야 세션 유지됨.   \n"
   ]
  },
  {
   "cell_type": "code",
   "execution_count": null,
   "metadata": {},
   "outputs": [],
   "source": []
  }
 ],
 "metadata": {
  "kernelspec": {
   "display_name": "Python 3",
   "language": "python",
   "name": "python3"
  },
  "language_info": {
   "codemirror_mode": {
    "name": "ipython",
    "version": 3
   },
   "file_extension": ".py",
   "mimetype": "text/x-python",
   "name": "python",
   "nbconvert_exporter": "python",
   "pygments_lexer": "ipython3",
   "version": "3.7.4"
  }
 },
 "nbformat": 4,
 "nbformat_minor": 2
}
