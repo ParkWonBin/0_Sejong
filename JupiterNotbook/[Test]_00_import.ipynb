{
 "cells": [
  {
   "cell_type": "markdown",
   "metadata": {},
   "source": [
    "#### [Import 문법](https://kongdols-room.tistory.com/46)\n",
    "\n",
    "1. import **(module name)**\n",
    "2. import **(module name)** as **(nickname)**\n",
    "3. from **(module name)** import **(module element)**\n",
    "4. from **(module name)** import **(module element)** as **(nickname)**\n"
   ]
  },
  {
   "cell_type": "code",
   "execution_count": 1,
   "metadata": {},
   "outputs": [],
   "source": [
    "import requests                \n",
    "from bs4 import BeautifulSoup \n",
    "from urllib import request   \n",
    "import os    "
   ]
  },
  {
   "cell_type": "markdown",
   "metadata": {},
   "source": [
    "### 모듈 설치   \n",
    "import 하기 전에 모듈이 설치되어있어야 한다.\n",
    " \n",
    "1. BeautifulSoup : cmd창에서 **pip install bs4**\n",
    "2. Selenium : cmd 창에서 **pip install selenium**   \n",
    "3. Webdriver : 브라우저 버전 확인 후 [다운로드](https://sites.google.com/a/chromium.org/chromedriver/downloads)\n",
    "\n",
    "**SessionNotCreatedException**  \n",
    "원인 : 크롬 브라우저와 드라이버의 버전이 다를 때 발생하는 오류   \n",
    "해결 : [크롬 - 더보기 - 도움말 - chrome 정보] 브라우저 버전확인 후 [다운로드](https://sites.google.com/a/chromium.org/chromedriver/downloads)"
   ]
  },
  {
   "cell_type": "markdown",
   "metadata": {},
   "source": [
    "**설명 바로가기**\n",
    "1. [requests](./[Test]_01_requests.ipynb)\n",
    "2. [BeautifulSoup](./[Test]_02_BeautifulSoup.ipynb)\n",
    "3. [Urllib - request](./[Test]_04_urllib_request.ipynb)\n",
    "4. [OS - CreateFolder](./[Test]_03_OS_CreateFolder.ipynb)\n"
   ]
  },
  {
   "cell_type": "code",
   "execution_count": null,
   "metadata": {},
   "outputs": [],
   "source": []
  }
 ],
 "metadata": {
  "kernelspec": {
   "display_name": "Python 3",
   "language": "python",
   "name": "python3"
  },
  "language_info": {
   "codemirror_mode": {
    "name": "ipython",
    "version": 3
   },
   "file_extension": ".py",
   "mimetype": "text/x-python",
   "name": "python",
   "nbconvert_exporter": "python",
   "pygments_lexer": "ipython3",
   "version": "3.7.4"
  }
 },
 "nbformat": 4,
 "nbformat_minor": 2
}
