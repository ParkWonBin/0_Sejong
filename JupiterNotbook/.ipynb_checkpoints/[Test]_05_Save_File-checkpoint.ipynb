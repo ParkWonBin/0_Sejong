{
 "cells": [
  {
   "cell_type": "markdown",
   "metadata": {},
   "source": [
    "## txt 파일 수정/저장\n",
    "열기 : open(\"파일 경로\", \"모드\")   \n",
    "닫기 : close()"
   ]
  },
  {
   "cell_type": "markdown",
   "metadata": {},
   "source": [
    "4. 파일로 저장   \n",
    "4.1. https://codedragon.tistory.com/9342    \n",
    "4.2. https://wikidocs.net/26   \n",
    "\n",
    "[파일쓰기](https://wikidocs.net/26)\n",
    "\n",
    "\n",
    "[이미지 저장](./[Test]_04_urllib_request.ipynb)"
   ]
  },
  {
   "cell_type": "code",
   "execution_count": 5,
   "metadata": {},
   "outputs": [
    {
     "name": "stdout",
     "output_type": "stream",
     "text": [
      "C:\\Users\\pwb11/Desktop/\n"
     ]
    }
   ],
   "source": [
    "import os\n",
    "folderURL = os.path.expanduser(\"~\")+\"/Desktop/\"\n",
    "print(folderURL)"
   ]
  },
  {
   "cell_type": "code",
   "execution_count": 15,
   "metadata": {},
   "outputs": [
    {
     "name": "stdout",
     "output_type": "stream",
     "text": [
      "텍스트 파일이 저장되었습니다...!\n",
      "이 셀을 여러번 반복 실행한 후 임시파일을 열어보세요.\n"
     ]
    }
   ],
   "source": [
    "# 텍스트 파일 생성 및 열기\n",
    "file_1 = open(folderURL+\"/임시파일.txt\",\"a\")\n",
    "\n",
    "# 텍스트 파일 내용 생성\n",
    "print('내용이 추가되었습니다. \\n', file = file_1)\n",
    "\n",
    "# 텍스트 파일 종료\n",
    "file_1.close()\n",
    "\n",
    "print(\"텍스트 파일이 저장되었습니다...!\")\n",
    "print(\"이 셀을 여러번 반복 실행한 후 임시파일을 열어보세요.\")"
   ]
  },
  {
   "cell_type": "code",
   "execution_count": null,
   "metadata": {},
   "outputs": [],
   "source": []
  }
 ],
 "metadata": {
  "kernelspec": {
   "display_name": "Python 3",
   "language": "python",
   "name": "python3"
  },
  "language_info": {
   "codemirror_mode": {
    "name": "ipython",
    "version": 3
   },
   "file_extension": ".py",
   "mimetype": "text/x-python",
   "name": "python",
   "nbconvert_exporter": "python",
   "pygments_lexer": "ipython3",
   "version": "3.7.4"
  }
 },
 "nbformat": 4,
 "nbformat_minor": 2
}
