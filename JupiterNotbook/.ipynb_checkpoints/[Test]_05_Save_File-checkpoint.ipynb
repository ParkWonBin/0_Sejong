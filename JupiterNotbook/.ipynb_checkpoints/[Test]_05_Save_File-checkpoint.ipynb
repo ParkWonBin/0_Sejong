{
 "cells": [
  {
   "cell_type": "markdown",
   "metadata": {},
   "source": [
    "4. 파일로 저장   \n",
    "4.1. https://codedragon.tistory.com/9342    \n",
    "4.2. https://wikidocs.net/26   \n",
    "\n",
    "[파일쓰기](https://wikidocs.net/26)\n"
   ]
  },
  {
   "cell_type": "code",
   "execution_count": null,
   "metadata": {},
   "outputs": [],
   "source": [
    "for i in range(len(RankDesk)):      \n",
    "\n",
    "    # 텍스트 파일 생성 및 열기\n",
    "    out = open(folderURL+\"/hana_top4.txt\",\"a\")\n",
    "    \n",
    "    # 텍스트 파일 내용 생성\n",
    "    print('내용 :' , RankDesk[i].text,'\\n', file = out)\n",
    "    \n",
    "    # 텍스트 파일 종료\n",
    "    out.close()\n",
    "    print(\"텍스트 파일이 저장되었습니다...!\")"
   ]
  }
 ],
 "metadata": {
  "kernelspec": {
   "display_name": "Python 3",
   "language": "python",
   "name": "python3"
  },
  "language_info": {
   "codemirror_mode": {
    "name": "ipython",
    "version": 3
   },
   "file_extension": ".py",
   "mimetype": "text/x-python",
   "name": "python",
   "nbconvert_exporter": "python",
   "pygments_lexer": "ipython3",
   "version": "3.7.4"
  }
 },
 "nbformat": 4,
 "nbformat_minor": 2
}
