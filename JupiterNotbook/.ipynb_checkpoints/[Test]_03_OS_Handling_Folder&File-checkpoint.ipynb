{
 "cells": [
  {
   "cell_type": "markdown",
   "metadata": {},
   "source": [
    "### OS 관련 내용 정리\n"
   ]
  },
  {
   "cell_type": "markdown",
   "metadata": {},
   "source": [
    "[OS API](https://docs.python.org/ko/3.7/library/os.path.html?highlight=path#module-os.path)\n",
    "\n",
    "---\n",
    "#### NT \n",
    "Windows NT의 정확한 의미는 Windows New Technology이다.   \n",
    "[출처 : ](https://namu.wiki/w/Windows%20NT)\n",
    "\n",
    "---\n",
    "#### POSIX \n",
    "POSIX는 IEEE가 제정한 유닉스의 애플리케이션 프로그래밍 인터페이스(API) 규격이다. 이 규격을 따르면 유닉스와 직접적인 연관이 없어도 유닉스 호환(Unix-like) 운영 체제라고 부른다. \n",
    "\n",
    "---\n",
    "#### 자세한 이야기\n",
    "Solaris와 macOS 등은 P(OSIX 인증을 받은 운영체제이고, Linux와 OpenBSD와 VxWorks와 Android 등은 POSIX 인증은 받지 않았지만 대부분의 기능이 POSIX 표준을 지키는 운영체제이다.\n",
    "\n",
    "MS Windows는 일부 POSIX 표준을 지키는 것이 있지만 대부분은 POSIX 표준을 따르지 않는다.\n",
    "\n",
    "Windows 10 Anniversary Update에 들어서 WSL(Windows Subsystem for Linux)이라는 리눅스 서브시스템을 다시 탑재하여 POSIX 환경을 이용할 수 있게 되었다.\n",
    "[출처 : 백과사전](https://article2.tistory.com/1170)\n"
   ]
  },
  {
   "cell_type": "code",
   "execution_count": 51,
   "metadata": {
    "scrolled": true
   },
   "outputs": [
    {
     "name": "stdout",
     "output_type": "stream",
     "text": [
      "\n",
      "os.mkdir(\"경로\")                 # 폴더 만들기\n",
      "os.rmdir(\"경로\")                 # 폴더 지우기\n",
      "os.rename(\"대상파일\",\"바꿀이름\") # 파일 이름 변경\n",
      "os.path.expanduser(\"~\")          # 사용자 폴더 경로\n",
      "os.name                          # 운영체제 (윈도우 NT, 맥 POSIX)\n",
      "os.getcwd()                      # 현재 폴더 경로\n",
      "os.listdir()                     # 현재 폴더 요소 리스트\n",
      "\n",
      "사용자 폴더 경로 : C:\\Users\\pwb11\n",
      "\n",
      "현재 운영체제 : nt\n",
      "\n",
      "현재 폴더 : C:\\Users\\pwb11\\OneDrive\\문서\\GitHub\\Python\\JupiterNotbook\n",
      "\n",
      "현재 폴더 내 다른 주소 : \n",
      ".ipynb_checkpoints\n",
      "debug.log\n",
      "img\n",
      "new.txt\n",
      "source\n",
      "[Code] Youtube subclip Download .ipynb\n",
      "[Code]_00_Naver.ipynb\n",
      "[Code]_00_YouTube_For_Student.ipynb\n",
      "[Code]_00_YouTube_For_Teacher.ipynb\n",
      "[Code]_01_Hanatour_SaveFile_BeautifulSoup.ipynb\n",
      "[Code]_02_LotteHotel_GetData_BeautifulSoup.ipynb\n",
      "[Code]_03_ShillaHotels_Login_Selenium.ipynb\n",
      "[Code]_04_Tripadvisor_Reviews_BeautifulSoup.ipynb\n",
      "[Test]_00_import.ipynb\n",
      "[Test]_01_requests.ipynb\n",
      "[Test]_02_BeautifulSoup.ipynb\n",
      "[Test]_03_OS_CreatFolder_CreatFile.ipynb\n",
      "[Test]_04_urllib_request.ipynb\n",
      "[Test]_05_Save_File.ipynb\n",
      "[Test]_06_Click_Webdriver.ipynb\n",
      "정리.ipynb\n"
     ]
    }
   ],
   "source": [
    "import os\n",
    "\n",
    "text = \"\"\"\n",
    "os.mkdir(\"경로\")                 # 폴더 만들기\n",
    "os.rmdir(\"경로\")                 # 폴더 지우기\n",
    "os.rename(\"기존파일명\",\"신규파일명\") # 파일 이름 변경\n",
    "os.path.expanduser(\"~\")          # 사용자 폴더 경로 / \"~\" : 사용자 홈 디렉토리\n",
    "os.name                          # 운영체제 (윈도우 NT, 맥 POSIX)\n",
    "os.getcwd()                      # 현재 폴더 경로(current working directory)\n",
    "os.listdir()                     # 현재 폴더 요소 리스트\n",
    "\"\"\"\n",
    "print(text)\n",
    "\n",
    "print(\"사용자 폴더 경로 :\",os.path.expanduser(\"~\"))\n",
    " \n",
    "print(\"\\n현재 운영체제 :\",os.name)\n",
    "# 윈도우 : NT\n",
    "# 맥 : POSIX 로 출력됨\n",
    "\n",
    "print(\"\\n현재 폴더 :\",os.getcwd())\n",
    "\n",
    "print(\"\\n현재 폴더 내 다른 주소 : \")\n",
    "for file in os.listdir() : print(file)"
   ]
  },
  {
   "cell_type": "markdown",
   "metadata": {},
   "source": [
    "**참고자료**\n",
    "- [Python 경로 및 폴더 생성/제거](https://rfriend.tistory.com/429)   \n",
    "- [파일과 디렉토리 경로 다루기](http://pythonstudy.xyz/python/article/507-%ED%8C%8C%EC%9D%BC%EA%B3%BC-%EB%94%94%EB%A0%89%ED%86%A0%EB%A6%AC)"
   ]
  },
  {
   "cell_type": "markdown",
   "metadata": {},
   "source": [
    "# 파일 생성 및 이름 변경\n",
    "열기 : open(\"파일 경로\", \"모드\")   \n",
    "닫기 : close()"
   ]
  },
  {
   "cell_type": "markdown",
   "metadata": {},
   "source": [
    "4. 파일로 저장   \n",
    "4.1. https://codedragon.tistory.com/9342    \n",
    "4.2. https://wikidocs.net/26   \n",
    "\n",
    "[파일쓰기](https://wikidocs.net/26)\n",
    "\n",
    "\n",
    "[이미지 저장](./[Test]_04_urllib_request.ipynb)"
   ]
  },
  {
   "cell_type": "code",
   "execution_count": 1,
   "metadata": {},
   "outputs": [
    {
     "name": "stdout",
     "output_type": "stream",
     "text": [
      "텍스트 파일이 저장되었습니다...!\n"
     ]
    }
   ],
   "source": [
    "import os\n",
    "folderURL = os.path.expanduser(\"~\")+\"/Desktop/\"\n",
    "\n",
    "# 텍스트 파일 생성 및 열기\n",
    "file_1 = open(folderURL+\"/임시파일.txt\",\"a\")\n",
    "\n",
    "# 텍스트 파일 내용 생성\n",
    "print('내용이 추가되었습니다. \\n', file = file_1)\n",
    "\n",
    "# 텍스트 파일 종료\n",
    "file_1.close()\n",
    "\n",
    "print(\"텍스트 파일이 저장되었습니다...!\")"
   ]
  },
  {
   "cell_type": "code",
   "execution_count": 47,
   "metadata": {},
   "outputs": [],
   "source": [
    "# 파일을 생성하고 이름을 변경합니다.\n",
    "with open(\"original.txt\",\"w\") as file:\n",
    "    file.write(\"hello\")\n",
    "os.rename(\"original.txt\",\"new.txt\")"
   ]
  },
  {
   "cell_type": "markdown",
   "metadata": {},
   "source": [
    "### OS : 폴더 만들기  \n",
    "역할 : 경로 및 폴더 관리\n",
    "\n",
    "주요 명령어 :   \n",
    "<pre>\n",
    "os.path.expanduser(\"~\")  : 사용자 폴더 위치 반환   \n",
    "os.path.exists(\"경로명\") : 경로가 유효하면 True 반환   \n",
    "os.makedirs(\"경로명\")    : 경로를 갖는 폴더를 생성   \n",
    "</pre>"
   ]
  },
  {
   "cell_type": "code",
   "execution_count": 20,
   "metadata": {},
   "outputs": [],
   "source": [
    "import os\n",
    "\n",
    "# 폴더 만들기 함수 \n",
    "def createFolder(directory):\n",
    "    try:\n",
    "        \n",
    "        # 경로가 유효하지 않을 떄\n",
    "        if not os.path.exists(directory):\n",
    "            \n",
    "            # 입력받은 경로에 폴더를 만든다.\n",
    "            os.makedirs(directory)  \n",
    "        \n",
    "        # 경로가 유효하다면 아무것도 하지 않고 함수를 종료한다.\n",
    "\n",
    "    except OSError:\n",
    "\n",
    "        # 이 함수 때문에 에러 생기면 콘솔에 표시하도록 한다.\n",
    "        print('Error: Creating directory. ' + directory)"
   ]
  },
  {
   "cell_type": "markdown",
   "metadata": {},
   "source": [
    "####  함수 내용 축약\n",
    "해당 경로에 폴더가 없을 때만 함수 실행시키기"
   ]
  },
  {
   "cell_type": "code",
   "execution_count": 14,
   "metadata": {},
   "outputs": [],
   "source": [
    "if not os.path.exists(forderURL): os.makedirs(forderURL)"
   ]
  },
  {
   "cell_type": "markdown",
   "metadata": {},
   "source": [
    "#### 예제 1 폴더 만들기\n",
    "에러 : 해당 경로에 폴더가 있을 때 에러"
   ]
  },
  {
   "cell_type": "code",
   "execution_count": 32,
   "metadata": {},
   "outputs": [
    {
     "name": "stdout",
     "output_type": "stream",
     "text": [
      "C:/Users/pwb11/Desktop/폴더만들기\n"
     ]
    }
   ],
   "source": [
    "UserName = \"pwb11\"\n",
    "forderName = \"폴더만들기\"\n",
    "forderURL = f\"C:/Users/{UserName}/Desktop/{forderName}\"\n",
    "print(forderURL)\n",
    "\n",
    "createFolder(forderURL)    "
   ]
  },
  {
   "cell_type": "markdown",
   "metadata": {},
   "source": [
    "#### 예제 2 폴더 만들기 \n",
    "유저 이름 자동입력"
   ]
  },
  {
   "cell_type": "code",
   "execution_count": 31,
   "metadata": {},
   "outputs": [
    {
     "name": "stdout",
     "output_type": "stream",
     "text": [
      "C:\\Users\\pwb11/Desktop/폴더만들기\n"
     ]
    }
   ],
   "source": [
    "user = os.path.expanduser(\"~\")\n",
    "forderName = \"폴더만들기\"\n",
    "forderURL = f\"{user}/Desktop/{forderName}\"\n",
    "print(forderURL)\n",
    "\n",
    "createFolder(forderURL)    "
   ]
  }
 ],
 "metadata": {
  "kernelspec": {
   "display_name": "Python 3",
   "language": "python",
   "name": "python3"
  },
  "language_info": {
   "codemirror_mode": {
    "name": "ipython",
    "version": 3
   },
   "file_extension": ".py",
   "mimetype": "text/x-python",
   "name": "python",
   "nbconvert_exporter": "python",
   "pygments_lexer": "ipython3",
   "version": "3.7.4"
  }
 },
 "nbformat": 4,
 "nbformat_minor": 2
}
