{
 "cells": [
  {
   "cell_type": "markdown",
   "metadata": {},
   "source": [
    "확장기능\n",
    "\n",
    "1. 주피터 노트북 루트경로 변경   \n",
    "1.1. 참고 : [링크](https://jackerlab.com/jupyter-notebook-directory-change/)  \n",
    "1.2. 참고 : [tistory](https://hikwail.tistory.com/8)  \n",
    "1.3. 주의 : 시작메뉴의 타겟에서 %홈 부분을 삭제한다.  \n",
    "\n",
    "\n",
    "2. 풀스크롤 스샷  \n",
    "2.1. 참고 :[blog](https://m.blog.naver.com/PostView.nhn?blogId=walire&logNo=221342752879&proxyReferer=https%3A%2F%2Fwww.google.com%2F)  \n",
    "2.2. 다운 :[webstore](https://chrome.google.com/webstore/detail/full-page-screen-capture/fdpohaocaechififmbbbbbknoalclacl?hl=ko)  \n",
    "\n",
    "\n",
    "3. 마크다운  \n",
    "3.1 사용법 : [heropy](https://heropy.blog/2017/09/30/markdown/)  "
   ]
  },
  {
   "cell_type": "code",
   "execution_count": null,
   "metadata": {},
   "outputs": [],
   "source": []
  }
 ],
 "metadata": {
  "kernelspec": {
   "display_name": "Python 3",
   "language": "python",
   "name": "python3"
  },
  "language_info": {
   "codemirror_mode": {
    "name": "ipython",
    "version": 3
   },
   "file_extension": ".py",
   "mimetype": "text/x-python",
   "name": "python",
   "nbconvert_exporter": "python",
   "pygments_lexer": "ipython3",
   "version": "3.7.4"
  }
 },
 "nbformat": 4,
 "nbformat_minor": 2
}
