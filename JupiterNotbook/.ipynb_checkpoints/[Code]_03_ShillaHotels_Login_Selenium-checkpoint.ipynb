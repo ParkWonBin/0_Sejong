{
 "cells": [
  {
   "cell_type": "markdown",
   "metadata": {},
   "source": [
    "## 신라호텔   [Shillahotels](http://info.hanatour.com/?hanacode=main_TNB_getabout)\n",
    "#### 자동 로그인\n",
    "#### 전체코드 "
   ]
  },
  {
   "cell_type": "markdown",
   "metadata": {},
   "source": [
    "<img src=\"img/HowToCrawl.png\" width=\"600px\" align=\"left\">"
   ]
  },
  {
   "cell_type": "markdown",
   "metadata": {},
   "source": [
    "#### 전체코드 "
   ]
  },
  {
   "cell_type": "code",
   "execution_count": null,
   "metadata": {},
   "outputs": [],
   "source": [
    "from selenium import webdriver\n",
    "\n",
    "driver = webdriver.Chrome('c:/chromedriver')\n",
    "\n",
    "url = 'https://shillahotels.com/membership/mbr/login/memLogin.do?resvYn=Y'\n",
    "driver.get(url)\n",
    "\n",
    "gest = True\n",
    "\n",
    "if(gest): \n",
    "    # 비회원 로그인\n",
    "    driver.find_element_by_id('rMemberNone').click() \n",
    "\n",
    "    sendkeyResvId ='23'\n",
    "    sendkeyFirstnm = 'WonBin'\n",
    "    sendkeyLastnm ='Park'\n",
    "\n",
    "    driver.find_element_by_id('resvId').send_keys(sendkeyResvId)\n",
    "    driver.find_element_by_name('guestEnFnm').send_keys(sendkeyFirstnm)\n",
    "    driver.find_element_by_name('guestEnLnm').send_keys(sendkeyLastnm)\n",
    "    \n",
    "else:  \n",
    "    # 회원 로그인\n",
    "    driver.find_element_by_id('rMember').click() \n",
    "    \n",
    "    j_username ='selenium'\n",
    "    j_password = 'python'\n",
    "\n",
    "    driver.find_element_by_id('j_username').send_keys(j_username)\n",
    "    driver.find_element_by_id('j_password').send_keys(j_password)\n",
    "    \n",
    "# 로그인 버튼 클릭    \n",
    "driver.find_element_by_class_name(\"btnLogin\").click()\n",
    "\n",
    "# 창 종료\n",
    "driver.quit()"
   ]
  },
  {
   "cell_type": "markdown",
   "metadata": {},
   "source": [
    "# 따라하기\n",
    "\n",
    "### Part 1 : Import "
   ]
  },
  {
   "cell_type": "code",
   "execution_count": 1,
   "metadata": {},
   "outputs": [],
   "source": [
    "from selenium import webdriver # 봇으로 페이지 들어가기"
   ]
  },
  {
   "cell_type": "markdown",
   "metadata": {},
   "source": [
    "설명 바로가기 :\n",
    "[import & 모듈설치](./[Test]_00_import.ipynb)"
   ]
  },
  {
   "cell_type": "markdown",
   "metadata": {},
   "source": [
    "### Part 2 : Use Webdriver"
   ]
  },
  {
   "cell_type": "code",
   "execution_count": 2,
   "metadata": {},
   "outputs": [],
   "source": [
    "# 크롬 브라우저 열기\n",
    "driver = webdriver.Chrome('c:/chromedriver')\n",
    "\n",
    "# 브라우저 로딩 기다리기\n",
    "driver.implicitly_wait(3)\n",
    "\n",
    "# 신라호텔 로그인 화면으로 이동\n",
    "url = 'https://shillahotels.com/membership/mbr/login/memLogin.do?resvYn=Y'\n",
    "driver.get(url)"
   ]
  },
  {
   "cell_type": "markdown",
   "metadata": {},
   "source": [
    "링크 바로가기 :\n",
    "[웹드라이버 다운로드](https://sites.google.com/a/chromium.org/chromedriver/downloads)\n"
   ]
  },
  {
   "cell_type": "markdown",
   "metadata": {},
   "source": [
    "### Part 3 : Gest Login"
   ]
  },
  {
   "cell_type": "code",
   "execution_count": 3,
   "metadata": {},
   "outputs": [],
   "source": [
    "# 비회원 로그인 \n",
    "\n",
    "# 체크박스 누르기\n",
    "driver.find_element_by_id('rMemberNone').click() \n",
    "\n",
    "# 테이터 분리\n",
    "sendkeyResvId ='23'\n",
    "sendkeyFirstnm = 'WonBin'\n",
    "sendkeyLastnm ='Park'\n",
    "\n",
    "# 예약 번호 / 이름 입력\n",
    "driver.find_element_by_id('resvId').send_keys(sendkeyResvId)\n",
    "driver.find_element_by_name('guestEnFnm').send_keys(sendkeyFirstnm)\n",
    "driver.find_element_by_name('guestEnLnm').send_keys(sendkeyLastnm)"
   ]
  },
  {
   "cell_type": "markdown",
   "metadata": {},
   "source": [
    "신라호텔에서 강제한 입력값 조건\n",
    "1. 예약번호 : 문자 입력 시 자동삭제\n",
    "2. 이름입력 : 숫자 입력 시 자동삭제, 소문자 입력 시 대문자로 변환"
   ]
  },
  {
   "cell_type": "markdown",
   "metadata": {},
   "source": [
    "설명 바로가기 :\n",
    "[BeautifulSoup](./[Test]_02_BeautifulSoup.ipynb)   \n",
    "설명 바로가기 :\n",
    "[Click_Webdriver](./[Test]_06_Click_Webdriver.ipynb)"
   ]
  },
  {
   "cell_type": "markdown",
   "metadata": {},
   "source": [
    "### Part 4 : Member Login\n"
   ]
  },
  {
   "cell_type": "code",
   "execution_count": 4,
   "metadata": {},
   "outputs": [],
   "source": [
    "# 회원 로그인\n",
    "\n",
    "# 체크박스 누르기\n",
    "driver.find_element_by_id('rMember').click() \n",
    "\n",
    "# 테이터 분리\n",
    "j_username ='selenium'\n",
    "j_password = 'python'\n",
    "\n",
    "# 아이디 / 비밀번호 입력\n",
    "driver.find_element_by_id('j_username').send_keys(j_username)\n",
    "driver.find_element_by_id('j_password').send_keys(j_password)    "
   ]
  },
  {
   "cell_type": "markdown",
   "metadata": {},
   "source": [
    "### Part 5 : Login Btn Click\n",
    "\n",
    "**로그인 버튼 구조**\n",
    "```html\n",
    "<div class=\"loginBtn\">\n",
    "    <a href=\"javascript:loginSubmit();\" title=\"Login\">\n",
    "        <img src=\"#\" alt=\"로그인\" class=\"btnLogin\">\n",
    "    </a>\n",
    "</div>```\n",
    "\n",
    "**방법 : xpath**  \n",
    "원리 : 웹페이지에서 직접 노드로 접근하는 경로(path)를 지정함.   \n",
    "장점 : ID/Class 값이 없는 태크, 복잡한 경로에서 유용함.   \n",
    "단점 : 웹구조가 실시간으로 변하는 페이지의 경우 경로가 수시로 바뀔 수 있음"
   ]
  },
  {
   "cell_type": "code",
   "execution_count": 5,
   "metadata": {},
   "outputs": [],
   "source": [
    "driver.find_element_by_xpath('//*[@id=\"loginForm\"]/div[3]/a').click() "
   ]
  },
  {
   "cell_type": "markdown",
   "metadata": {},
   "source": [
    "설명 바로가기 :\n",
    "[Click_Webdriver](./[Test]_06_Click_Webdriver.ipynb)"
   ]
  },
  {
   "cell_type": "markdown",
   "metadata": {},
   "source": [
    "### Part 6 : Quit\n"
   ]
  },
  {
   "cell_type": "code",
   "execution_count": 6,
   "metadata": {},
   "outputs": [],
   "source": [
    "driver.quit()"
   ]
  },
  {
   "cell_type": "code",
   "execution_count": null,
   "metadata": {},
   "outputs": [],
   "source": []
  }
 ],
 "metadata": {
  "kernelspec": {
   "display_name": "Python 3",
   "language": "python",
   "name": "python3"
  },
  "language_info": {
   "codemirror_mode": {
    "name": "ipython",
    "version": 3
   },
   "file_extension": ".py",
   "mimetype": "text/x-python",
   "name": "python",
   "nbconvert_exporter": "python",
   "pygments_lexer": "ipython3",
   "version": "3.7.4"
  }
 },
 "nbformat": 4,
 "nbformat_minor": 2
}
