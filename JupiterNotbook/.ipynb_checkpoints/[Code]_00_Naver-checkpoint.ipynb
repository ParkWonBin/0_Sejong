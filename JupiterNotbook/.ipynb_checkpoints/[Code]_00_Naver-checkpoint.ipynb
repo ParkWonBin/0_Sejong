{
 "cells": [
  {
   "cell_type": "markdown",
   "metadata": {},
   "source": [
    "## 네이버 [Naver](https://www.naver.com)\n",
    "#### 웹페이지 열기, 데이터 추출"
   ]
  },
  {
   "cell_type": "markdown",
   "metadata": {},
   "source": [
    "<img src=\"img/HowToCrawl.png\" width=\"600px\" align=\"left\">"
   ]
  },
  {
   "cell_type": "code",
   "execution_count": 15,
   "metadata": {
    "collapsed": true
   },
   "outputs": [
    {
     "name": "stdout",
     "output_type": "stream",
     "text": [
      "메일\n",
      "카페\n",
      "블로그\n",
      "지식인\n",
      "쇼핑\n",
      "네이버페이\n",
      "네이버TV\n",
      "사전\n",
      "뉴스\n",
      "증권(금융)\n",
      "부동산\n",
      "지도\n",
      "영화\n",
      "뮤직\n",
      "책\n",
      "만화 / 웹툰\n"
     ]
    }
   ],
   "source": [
    "from selenium import webdriver \n",
    "from bs4 import BeautifulSoup  \n",
    "\n",
    "# 크롬 브라우저 열기\n",
    "driver = webdriver.Chrome('C:/chromedriver.exe')\n",
    "\n",
    "# 네이버 메인 화면으로 이동\n",
    "url = \"https://www.naver.com\"\n",
    "driver.get(url)\n",
    "\n",
    "# BeautifulSoup로 소스 받기\n",
    "html = driver.page_source\n",
    "soup = BeautifulSoup(html, \"lxml\")\n",
    "\n",
    "# 데이터 추출\n",
    "navigation = soup.select('.area_navigation .an_txt')\n",
    "\n",
    "# 데이터 출력\n",
    "for nav in navigation:\n",
    "    print(nav.text.strip())"
   ]
  },
  {
   "cell_type": "markdown",
   "metadata": {},
   "source": [
    "# 따라하기\n",
    "\n",
    "### Part 1 : Import "
   ]
  },
  {
   "cell_type": "code",
   "execution_count": 1,
   "metadata": {
    "scrolled": true
   },
   "outputs": [],
   "source": [
    "from selenium import webdriver # 봇으로 페이지 들어가기\n",
    "from bs4 import BeautifulSoup  # 페이지 특정 부분 추출하기"
   ]
  },
  {
   "cell_type": "markdown",
   "metadata": {},
   "source": [
    "설명 바로가기 :\n",
    "[import & 모듈설치](./[Test]_00_import.ipynb)"
   ]
  },
  {
   "cell_type": "markdown",
   "metadata": {},
   "source": [
    "### Part 2 : Use Webdriver"
   ]
  },
  {
   "cell_type": "code",
   "execution_count": 1,
   "metadata": {
    "scrolled": true
   },
   "outputs": [],
   "source": [
    "# 크롬 브라우저 열기\n",
    "driver = webdriver.Chrome('C:/chromedriver.exe')\n",
    "\n",
    "# 네이버 메인 화면으로 이동\n",
    "url = \"https://www.naver.com\"\n",
    "driver.get(url)"
   ]
  },
  {
   "cell_type": "markdown",
   "metadata": {},
   "source": [
    "링크 바로가기 :\n",
    "[웹드라이버 다운로드](https://sites.google.com/a/chromium.org/chromedriver/downloads)\n"
   ]
  },
  {
   "cell_type": "markdown",
   "metadata": {},
   "source": [
    "### Part 3 : Use BeautifulSoup"
   ]
  },
  {
   "cell_type": "code",
   "execution_count": null,
   "metadata": {},
   "outputs": [],
   "source": [
    "# BeautifulSoup로 소스 받기\n",
    "html = driver.page_source\n",
    "soup = BeautifulSoup(html, \"lxml\")"
   ]
  },
  {
   "cell_type": "markdown",
   "metadata": {},
   "source": [
    "### Part 4 : Select Tags Using BeautifulSoup"
   ]
  },
  {
   "cell_type": "code",
   "execution_count": 18,
   "metadata": {},
   "outputs": [
    {
     "name": "stdout",
     "output_type": "stream",
     "text": [
      "<span class=\"an_txt\">메일</span>\n",
      "<span class=\"an_txt\">카페</span>\n",
      "<span class=\"an_txt\">블로그</span>\n",
      "<span class=\"an_txt\">지식인</span>\n",
      "<span class=\"an_txt\">쇼핑</span>\n",
      "<span class=\"an_txt\">네이버페이</span>\n",
      "<span class=\"an_txt\">네이버TV</span>\n",
      "<span class=\"an_txt\">사전</span>\n",
      "<span class=\"an_txt\">뉴스</span>\n",
      "<span class=\"an_txt\">증권(금융)</span>\n",
      "<span class=\"an_txt\">부동산</span>\n",
      "<span class=\"an_txt\">지도</span>\n",
      "<span class=\"an_txt\">영화</span>\n",
      "<span class=\"an_txt\">뮤직</span>\n",
      "<span class=\"an_txt\">책</span>\n",
      "<span class=\"an_txt\">만화 / 웹툰</span>\n"
     ]
    }
   ],
   "source": [
    "# 데이터 추출\n",
    "navigation = soup.select('.area_navigation .an_txt')\n",
    "\n",
    "# 데이터 출력\n",
    "for nav in navigation : print(nav)"
   ]
  },
  {
   "cell_type": "markdown",
   "metadata": {},
   "source": [
    "설명 바로가기 :\n",
    "[BeautifulSoup](./[Test]_02_BeautifulSoup.ipynb)"
   ]
  },
  {
   "cell_type": "markdown",
   "metadata": {},
   "source": [
    "### Part 5 : Clean and Print tegs"
   ]
  },
  {
   "cell_type": "code",
   "execution_count": 20,
   "metadata": {},
   "outputs": [
    {
     "name": "stdout",
     "output_type": "stream",
     "text": [
      "메일\n",
      "카페\n",
      "블로그\n",
      "지식인\n",
      "쇼핑\n",
      "네이버페이\n",
      "네이버TV\n",
      "사전\n",
      "뉴스\n",
      "증권(금융)\n",
      "부동산\n",
      "지도\n",
      "영화\n",
      "뮤직\n",
      "책\n",
      "만화 / 웹툰\n"
     ]
    }
   ],
   "source": [
    "# .text : 태그의 내용만 보여준다.\n",
    "for nav in navigation : print(nav.text)"
   ]
  },
  {
   "cell_type": "code",
   "execution_count": null,
   "metadata": {},
   "outputs": [],
   "source": []
  }
 ],
 "metadata": {
  "kernelspec": {
   "display_name": "Python 3",
   "language": "python",
   "name": "python3"
  },
  "language_info": {
   "codemirror_mode": {
    "name": "ipython",
    "version": 3
   },
   "file_extension": ".py",
   "mimetype": "text/x-python",
   "name": "python",
   "nbconvert_exporter": "python",
   "pygments_lexer": "ipython3",
   "version": "3.7.4"
  }
 },
 "nbformat": 4,
 "nbformat_minor": 2
}
