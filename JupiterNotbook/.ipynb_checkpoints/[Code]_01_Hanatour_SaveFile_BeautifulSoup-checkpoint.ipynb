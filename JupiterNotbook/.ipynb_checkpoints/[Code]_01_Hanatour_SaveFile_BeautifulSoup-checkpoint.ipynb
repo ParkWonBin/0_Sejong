{
 "cells": [
  {
   "cell_type": "markdown",
   "metadata": {},
   "source": [
    "## 하나투어   [Hanatour](http://info.hanatour.com/?hanacode=main_TNB_getabout)\n",
    "#### 이미지,텍스트 파일 저장"
   ]
  },
  {
   "cell_type": "markdown",
   "metadata": {},
   "source": [
    "<img src=\"img/HowToCrawl.png\" width=600px align=left>"
   ]
  },
  {
   "cell_type": "markdown",
   "metadata": {},
   "source": [
    "#### 전체코드 "
   ]
  },
  {
   "cell_type": "code",
   "execution_count": 1,
   "metadata": {},
   "outputs": [
    {
     "name": "stdout",
     "output_type": "stream",
     "text": [
      "이미지 파일이 저장되었습니다...!\n",
      "이미지 파일이 저장되었습니다...!\n",
      "이미지 파일이 저장되었습니다...!\n",
      "이미지 파일이 저장되었습니다...!\n"
     ]
    }
   ],
   "source": [
    "import requests              \n",
    "from bs4 import BeautifulSoup\n",
    "from urllib import request    \n",
    "import os                     \n",
    "        \n",
    "# 데이터 추출    \n",
    "url = \"http://info.hanatour.com/?hanacode=main_TNB_getabout\"\n",
    "html = requests.get(url)\n",
    "soup = BeautifulSoup(html.text, \"lxml\")\n",
    "\n",
    "rankList = \".tabConts #hntxml_grp2 .rankingList\"\n",
    "RankImg = soup.select(rankList+' img')\n",
    "RankTitle = soup.select(rankList+' .title')\n",
    "RankDesk = soup.select(rankList+' .desc')\n",
    "\n",
    "userName='pwb11'\n",
    "folderURL ='C:/Users/'+userName+'/hana/'\n",
    "\n",
    "# 폴더 생성\n",
    "if not os.path.exists(folderURL):os.makedirs(folderURL)    \n",
    "\n",
    "# 자료 저장\n",
    "for i in range(len(RankImg)):        \n",
    "\n",
    "    imgLink = RankImg[i].get(\"src\")\n",
    "    replace_ranktitle = RankTitle[i].text.replace(\"/\",\" \")\n",
    "    savename =  folderURL + replace_ranktitle + \".jpg\"\n",
    "    \n",
    "    request.urlretrieve(imgLink, savename)\n",
    "    print(\"이미지 파일이 저장되었습니다...!\")\n",
    "    \n",
    "    out = open(folderURL+\"/hana_top4.txt\",\"a\")\n",
    "    print('내용 :' , RankDesk[i].text,'\\n', file = out)\n",
    "    out.close()"
   ]
  },
  {
   "cell_type": "markdown",
   "metadata": {},
   "source": [
    "# 따라하기\n",
    "\n",
    "### Part 1 : Import & Definition"
   ]
  },
  {
   "cell_type": "code",
   "execution_count": 20,
   "metadata": {},
   "outputs": [],
   "source": [
    "import requests                # 크롤링\n",
    "from bs4 import BeautifulSoup # 인터넷 특정 부분 추출하기\n",
    "from urllib import request    # 인터넷 자원 다운로드\n",
    "import os                     # 폴더 경로 설정용\n",
    "\n",
    "# 폴더 만들기 함수 \n",
    "def createFolder(directory):\n",
    "    try:\n",
    "        if not os.path.exists(directory):\n",
    "            os.makedirs(directory)         \n",
    "    except OSError:\n",
    "        print('Error: Creating directory. ' + directory)\n",
    "    # 입력받은 경로가 존재하지 않으면 폴더 생성\n",
    "    # 입력받은 경로가 존재하면 아무것도 하지 않음"
   ]
  },
  {
   "cell_type": "markdown",
   "metadata": {},
   "source": [
    "설명 바로가기 :\n",
    "[import](./[Test]_00_import.ipynb)"
   ]
  },
  {
   "cell_type": "markdown",
   "metadata": {},
   "source": [
    "### Part 2 : Use Requests"
   ]
  },
  {
   "cell_type": "code",
   "execution_count": 21,
   "metadata": {},
   "outputs": [],
   "source": [
    "url = \"http://info.hanatour.com/?hanacode=main_TNB_getabout\"\n",
    "html = requests.get(url)\n",
    "# print(html)\n",
    "# print(html.text)"
   ]
  },
  {
   "cell_type": "markdown",
   "metadata": {},
   "source": [
    "설명 바로가기 :\n",
    "[requests](./[Test]_01_requests.ipynb)"
   ]
  },
  {
   "cell_type": "markdown",
   "metadata": {},
   "source": [
    "### Part 3 : Use BeautifulSoup"
   ]
  },
  {
   "cell_type": "code",
   "execution_count": 22,
   "metadata": {},
   "outputs": [],
   "source": [
    "soup = BeautifulSoup(html.text, \"lxml\")\n",
    "# print(soup)"
   ]
  },
  {
   "cell_type": "markdown",
   "metadata": {},
   "source": [
    "설명 바로가기 :\n",
    "[BeautifulSoup](./[Test]_02_BeautifulSoup.ipynb)"
   ]
  },
  {
   "cell_type": "markdown",
   "metadata": {},
   "source": [
    "### Part 4 : Select Tags Using BeautifulSoup"
   ]
  },
  {
   "cell_type": "code",
   "execution_count": 23,
   "metadata": {},
   "outputs": [
    {
     "name": "stdout",
     "output_type": "stream",
     "text": [
      "사진 : <img src=\"http://image1.hanatour.com/_images/main/top4/cn/cn_81.jpg\"/>\n",
      "제목 : <p class=\"title\">하이난 아틀란티스 리조트100%성공 가족여행</p>\n",
      "내용 : <p class=\"desc\">최신 워터파크 무료이용리조트내 아쿠아리움하나투어 단독 시내왕복 셔틀</p> \n",
      "\n",
      "사진 : <img src=\"http://image1.hanatour.com/_images/main/top4/cn/cn_46.jpg\"/>\n",
      "제목 : <p class=\"title\">장가계/원가계 4~7일천문산케이블카/마사지</p>\n",
      "내용 : <p class=\"desc\">아바타 배경의 장가계세계자연유산 기묘한 절경!5성급/리무진/보봉호수</p> \n",
      "\n",
      "사진 : <img src=\"http://image1.hanatour.com/_images/main/top4/cn/cn_38.jpg\"/>\n",
      "제목 : <p class=\"title\">계림/양삭 5,6일베스트셀러</p>\n",
      "내용 : <p class=\"desc\">한폭의 수채화 같은 풍경계림에서 즐기는 이강유람고즈넉한 풍경속에서 힐링</p> \n",
      "\n",
      "사진 : <img src=\"http://image1.hanatour.com/_images/main/top4/cn/cn_79.jpg\"/>\n",
      "제목 : <p class=\"title\">청도 3일중국속 작은 유럽</p>\n",
      "내용 : <p class=\"desc\">중국속 작은 유럽미식여행2박3일 짧지만 알찬 여행</p> \n",
      "\n"
     ]
    }
   ],
   "source": [
    "rankList = \".tabConts #hntxml_grp2 .rankingList\"\n",
    "RankImg = soup.select(rankList+' img')\n",
    "RankTitle = soup.select(rankList+' .title')\n",
    "RankDesk = soup.select(rankList+' .desc')\n",
    "\n",
    "for i in range(len(RankImg)):    \n",
    "    print('사진 :' , RankImg[i])\n",
    "    print('제목 :' , RankTitle[i])\n",
    "    print('내용 :' , RankDesk[i],'\\n')"
   ]
  },
  {
   "cell_type": "markdown",
   "metadata": {},
   "source": [
    "### Part 5 : Clean Tags"
   ]
  },
  {
   "cell_type": "code",
   "execution_count": 24,
   "metadata": {},
   "outputs": [
    {
     "name": "stdout",
     "output_type": "stream",
     "text": [
      "사진 : http://image1.hanatour.com/_images/main/top4/cn/cn_81.jpg\n",
      "제목 : 하이난 아틀란티스 리조트100%성공 가족여행\n",
      "내용 : 최신 워터파크 무료이용리조트내 아쿠아리움하나투어 단독 시내왕복 셔틀 \n",
      "\n",
      "사진 : http://image1.hanatour.com/_images/main/top4/cn/cn_46.jpg\n",
      "제목 : 장가계/원가계 4~7일천문산케이블카/마사지\n",
      "내용 : 아바타 배경의 장가계세계자연유산 기묘한 절경!5성급/리무진/보봉호수 \n",
      "\n",
      "사진 : http://image1.hanatour.com/_images/main/top4/cn/cn_38.jpg\n",
      "제목 : 계림/양삭 5,6일베스트셀러\n",
      "내용 : 한폭의 수채화 같은 풍경계림에서 즐기는 이강유람고즈넉한 풍경속에서 힐링 \n",
      "\n",
      "사진 : http://image1.hanatour.com/_images/main/top4/cn/cn_79.jpg\n",
      "제목 : 청도 3일중국속 작은 유럽\n",
      "내용 : 중국속 작은 유럽미식여행2박3일 짧지만 알찬 여행 \n",
      "\n"
     ]
    }
   ],
   "source": [
    "for i in range(len(RankImg)):    \n",
    "    print('사진 :' , RankImg[i].get(\"src\"))\n",
    "    print('제목 :' , RankTitle[i].text)\n",
    "    print('내용 :' , RankDesk[i].text,'\\n')"
   ]
  },
  {
   "cell_type": "markdown",
   "metadata": {},
   "source": [
    "### Part 6 : Create Folder"
   ]
  },
  {
   "cell_type": "code",
   "execution_count": 25,
   "metadata": {},
   "outputs": [],
   "source": [
    "# 반드시 본인 계정명으로 수정 바람\n",
    "#===================================\n",
    "userName='pwb11'\n",
    "#====================================\n",
    "\n",
    "folderURL ='C:/Users/'+userName+'/hana/'  # 폴더 경로 설정\n",
    "createFolder(folderURL)                   # 폴더 생성 Part1 참고"
   ]
  },
  {
   "cell_type": "markdown",
   "metadata": {},
   "source": [
    "설명 바로가기 :\n",
    "[OS - CreateFolder](./[Test]_03_OS_CreateFolder.ipynb)"
   ]
  },
  {
   "cell_type": "markdown",
   "metadata": {},
   "source": [
    "### Part 7 : Save Image"
   ]
  },
  {
   "cell_type": "code",
   "execution_count": 13,
   "metadata": {},
   "outputs": [
    {
     "name": "stdout",
     "output_type": "stream",
     "text": [
      "이미지 파일이 저장되었습니다...!\n",
      "이미지 파일이 저장되었습니다...!\n",
      "이미지 파일이 저장되었습니다...!\n",
      "이미지 파일이 저장되었습니다...!\n"
     ]
    }
   ],
   "source": [
    "for i in range(len(RankImg)):        \n",
    "\n",
    "    # 이미지 링크 리스트로 저장\n",
    "    imgLink = RankImg[i].get(\"src\")\n",
    "\n",
    "    # 이미지 이름에서 '/' 삭제\n",
    "    replace_ranktitle = RankTitle[i].text.replace(\"/\",\" \")\n",
    "\n",
    "    # 이미지 저장될 경로(이름) \n",
    "    savename =  folderURL + replace_ranktitle + \".jpg\"\n",
    "    \n",
    "    # 이미지 파일로 저장\n",
    "    request.urlretrieve(imgLink, savename)\n",
    "    print(\"이미지 파일이 저장되었습니다...!\")"
   ]
  },
  {
   "cell_type": "markdown",
   "metadata": {},
   "source": [
    "설명 바로가기 :\n",
    "[Urllib - request](./[Test]_04_urllib_request.ipynb)"
   ]
  },
  {
   "cell_type": "markdown",
   "metadata": {},
   "source": [
    "### Part 8 : Save Text"
   ]
  },
  {
   "cell_type": "code",
   "execution_count": 28,
   "metadata": {},
   "outputs": [
    {
     "name": "stdout",
     "output_type": "stream",
     "text": [
      "텍스트 파일이 저장되었습니다...!\n",
      "텍스트 파일이 저장되었습니다...!\n",
      "텍스트 파일이 저장되었습니다...!\n",
      "텍스트 파일이 저장되었습니다...!\n"
     ]
    }
   ],
   "source": [
    "for i in range(len(RankDesk)):      \n",
    "\n",
    "    # 텍스트 파일 생성 및 열기\n",
    "    out = open(folderURL+\"/hana_top4.txt\",\"a\")\n",
    "    \n",
    "    # 텍스트 파일 내용 생성\n",
    "    print('내용 :' , RankDesk[i].text,'\\n', file = out)\n",
    "    \n",
    "    # 텍스트 파일 종료\n",
    "    out.close()\n",
    "    print(\"텍스트 파일이 저장되었습니다...!\")"
   ]
  },
  {
   "cell_type": "markdown",
   "metadata": {},
   "source": [
    "설명 바로가기 : [Save_File](./[Test]_05_Save_File.ipynb)"
   ]
  },
  {
   "cell_type": "code",
   "execution_count": null,
   "metadata": {},
   "outputs": [],
   "source": []
  }
 ],
 "metadata": {
  "kernelspec": {
   "display_name": "Python 3",
   "language": "python",
   "name": "python3"
  },
  "language_info": {
   "codemirror_mode": {
    "name": "ipython",
    "version": 3
   },
   "file_extension": ".py",
   "mimetype": "text/x-python",
   "name": "python",
   "nbconvert_exporter": "python",
   "pygments_lexer": "ipython3",
   "version": "3.7.4"
  }
 },
 "nbformat": 4,
 "nbformat_minor": 2
}
