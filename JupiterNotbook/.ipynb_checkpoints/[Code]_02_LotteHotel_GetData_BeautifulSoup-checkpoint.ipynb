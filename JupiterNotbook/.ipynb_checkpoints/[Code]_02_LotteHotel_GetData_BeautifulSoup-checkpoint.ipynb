{
 "cells": [
  {
   "cell_type": "markdown",
   "metadata": {},
   "source": [
    "## 롯데호텔 [Lottehotel](https://www.lottehotel.com/global/ko/hotel-offers/room-promotions.html)\n",
    "#### 웹페이지 열기, 데이터 추출"
   ]
  },
  {
   "cell_type": "markdown",
   "metadata": {},
   "source": [
    "<img src=\"img/HowToCrawl.png\" width=\"600px\" align=\"left\">"
   ]
  },
  {
   "cell_type": "markdown",
   "metadata": {},
   "source": [
    "#### 전체코드 "
   ]
  },
  {
   "cell_type": "code",
   "execution_count": null,
   "metadata": {},
   "outputs": [],
   "source": [
    "from selenium import webdriver \n",
    "from bs4 import BeautifulSoup  \n",
    "\n",
    "# 크롬 브라우저 열기\n",
    "driver = webdriver.Chrome('C:/chromedriver.exe')\n",
    "\n",
    "# 롯데호텔 룸 프로모션 화면으로 이동\n",
    "url = \"https://www.lottehotel.com/global/ko/hotel-offers/room-promotions.html\"\n",
    "driver.get(url)\n",
    "\n",
    "# BeautifulSoup로 소스 받기\n",
    "html = driver.page_source\n",
    "soup = BeautifulSoup(html, \"lxml\")\n",
    "\n",
    "# 데이터 추출\n",
    "promotion__title = soup.select('.promotion__title')\n",
    "promotion__date = soup.select('.promotion__date')\n",
    "promotion_price__number = soup.select('.promotion-price__number')\n",
    "\n",
    "# 데이터 출력\n",
    "for i in range(len(promotion__title)):\n",
    "    print('제목 :', promotion__title[i].text)\n",
    "    print('날짜 :', promotion__date[i].text.strip().lstrip('예약 ,투숙 '))\n",
    "    print('가격 :', promotion_price__number[i].text)   \n",
    "    print('\\n')"
   ]
  },
  {
   "cell_type": "markdown",
   "metadata": {},
   "source": [
    "# 따라하기\n",
    "\n",
    "### Part 1 : Import "
   ]
  },
  {
   "cell_type": "code",
   "execution_count": 3,
   "metadata": {
    "scrolled": true
   },
   "outputs": [],
   "source": [
    "from selenium import webdriver # 봇으로 페이지 들어가기\n",
    "from bs4 import BeautifulSoup  # 페이지 특정 부분 추출하기"
   ]
  },
  {
   "cell_type": "markdown",
   "metadata": {},
   "source": [
    "설명 바로가기 :\n",
    "[import & 모듈설치](./[Test]_00_import.ipynb)"
   ]
  },
  {
   "cell_type": "markdown",
   "metadata": {},
   "source": [
    "### Part 2 : Use Webdriver"
   ]
  },
  {
   "cell_type": "code",
   "execution_count": 4,
   "metadata": {},
   "outputs": [],
   "source": [
    "# 크롬 브라우저 열기\n",
    "driver = webdriver.Chrome('C:/chromedriver.exe')\n",
    "\n",
    "# 롯데호텔 룸 프로모션 화면으로 이동\n",
    "url = \"https://www.lottehotel.com/global/ko/hotel-offers/room-promotions.html\"\n",
    "driver.get(url)"
   ]
  },
  {
   "cell_type": "markdown",
   "metadata": {},
   "source": [
    "링크 바로가기 :\n",
    "[웹드라이버 다운로드](https://sites.google.com/a/chromium.org/chromedriver/downloads)\n"
   ]
  },
  {
   "cell_type": "markdown",
   "metadata": {},
   "source": [
    "### Part 3 : Use BeautifulSoup"
   ]
  },
  {
   "cell_type": "code",
   "execution_count": 5,
   "metadata": {
    "scrolled": true
   },
   "outputs": [],
   "source": [
    "# BeautifulSoup로 소스 받아오기설명 바로가기 :\n",
    "html = driver.page_source\n",
    "soup = BeautifulSoup(html, \"lxml\")"
   ]
  },
  {
   "cell_type": "markdown",
   "metadata": {},
   "source": [
    "설명 바로가기 :\n",
    "[BeautifulSoup](./[Test]_02_BeautifulSoup.ipynb)"
   ]
  },
  {
   "cell_type": "markdown",
   "metadata": {},
   "source": [
    "### Part 4 : Select Tags Using BeautifulSoup"
   ]
  },
  {
   "cell_type": "code",
   "execution_count": 9,
   "metadata": {
    "scrolled": true
   },
   "outputs": [],
   "source": [
    "# 데이터 선택해서 리스트로 저장\n",
    "promotion__title = soup.select('.promotion__title')\n",
    "promotion__date = soup.select('.promotion__date')\n",
    "promotion_price__number = soup.select('.promotion-price__number')"
   ]
  },
  {
   "cell_type": "markdown",
   "metadata": {},
   "source": [
    "### Part 5 : Clean and Print Tags "
   ]
  },
  {
   "cell_type": "code",
   "execution_count": null,
   "metadata": {},
   "outputs": [],
   "source": [
    "# 저장한 데이터 출력\n",
    "for i in range(len(promotion__title)):\n",
    "    print('제목 :', promotion__title[i].text)\n",
    "    print('날짜 :', promotion__date[i].text.strip().lstrip('예약 ,투숙 '))\n",
    "    print('가격 :', promotion_price__number[i].text)   \n",
    "    print('\\n')"
   ]
  },
  {
   "cell_type": "markdown",
   "metadata": {},
   "source": [
    "# Requests와 Selenium 비교\n",
    "\n",
    "\n",
    "**Requests :** 서버에서 바로 코드가져온다. JS코드가 그대로 노출됨.   \n",
    "**Selenium :** 웹브라우저로 페이지를 로드한 후에 코드 가져옴. JS연산이 끝난 결과물 가져옴"
   ]
  },
  {
   "cell_type": "code",
   "execution_count": 13,
   "metadata": {},
   "outputs": [
    {
     "name": "stdout",
     "output_type": "stream",
     "text": [
      "제목 : {{ vitem.fields.title }}\n",
      "날짜 : {{ vitem.fields.bookingStart | formatDate }}  ~  {{ vitem.fields.bookingEnd | formatDate }}\n",
      "가격 : {{ vitem.fields.convertPrice | formatMoney }}  ~ \n",
      "\n",
      "\n"
     ]
    }
   ],
   "source": [
    "import requests\n",
    "from bs4 import BeautifulSoup\n",
    "\n",
    "url = \"https://www.lottehotel.com/global/ko/hotel-offers/room-promotions.html\"\n",
    "html = requests.get(url).text\n",
    "soup = BeautifulSoup(html, \"lxml\")\n",
    "\n",
    "# 데이터 선택해서 리스트로 저장\n",
    "promotion__title = soup.select('.promotion__title')\n",
    "promotion__date = soup.select('.promotion__date')\n",
    "promotion_price__number = soup.select('.promotion-price__number')\n",
    "\n",
    "# 저장한 데이터 출력\n",
    "for i in range(len(promotion__title)):\n",
    "    print('제목 :', promotion__title[i].text)\n",
    "    print('날짜 :', promotion__date[i].text.strip().lstrip(\"예약 \"))\n",
    "    print('가격 :', promotion_price__number[i].text)   \n",
    "    print('\\n')"
   ]
  },
  {
   "cell_type": "markdown",
   "metadata": {},
   "source": [
    "설명 바로가기 :\n",
    "[requests](./[Test]_01_requests.ipynb)"
   ]
  },
  {
   "cell_type": "code",
   "execution_count": null,
   "metadata": {},
   "outputs": [],
   "source": []
  }
 ],
 "metadata": {
  "kernelspec": {
   "display_name": "Python 3",
   "language": "python",
   "name": "python3"
  },
  "language_info": {
   "codemirror_mode": {
    "name": "ipython",
    "version": 3
   },
   "file_extension": ".py",
   "mimetype": "text/x-python",
   "name": "python",
   "nbconvert_exporter": "python",
   "pygments_lexer": "ipython3",
   "version": "3.7.4"
  }
 },
 "nbformat": 4,
 "nbformat_minor": 2
}
