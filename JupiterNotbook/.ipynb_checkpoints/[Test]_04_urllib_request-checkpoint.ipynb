{
 "cells": [
  {
   "cell_type": "markdown",
   "metadata": {},
   "source": [
    "#### 설명용 문서 4.urllib.request      \n",
    "역할 : 인터넷 자원 다운로드   \n",
    "주의 : requests 다름   \n",
    "사용 : request.urlretrieve(imglink, savename)\n",
    "\n",
    "- [urllib.request API](https://docs.python.org/ko/3/library/urllib.request.html#module-urllib.request)\n",
    "\n",
    "\n",
    "\n",
    "- [이미지 동영상 다운로드](https://blog.naver.com/kiddwannabe/221358581642)"
   ]
  },
  {
   "cell_type": "code",
   "execution_count": null,
   "metadata": {},
   "outputs": [],
   "source": [
    "for i in range(len(RankImg)):        \n",
    "\n",
    "    # 이미지 링크 리스트로 저장\n",
    "    imgLink = RankImg[i].get(\"src\")\n",
    "\n",
    "    # 이미지 이름에서 '/' 삭제\n",
    "    replace_ranktitle = RankTitle[i].text.replace(\"/\",\" \")\n",
    "\n",
    "    # 이미지 저장될 경로(이름) \n",
    "    savename =  folderURL + replace_ranktitle + \".jpg\"\n",
    "    \n",
    "    # 이미지 파일로 저장\n",
    "    request.urlretrieve(imgLink, savename)\n",
    "    print(\"이미지 파일이 저장되었습니다...!\")"
   ]
  }
 ],
 "metadata": {
  "kernelspec": {
   "display_name": "Python 3",
   "language": "python",
   "name": "python3"
  },
  "language_info": {
   "codemirror_mode": {
    "name": "ipython",
    "version": 3
   },
   "file_extension": ".py",
   "mimetype": "text/x-python",
   "name": "python",
   "nbconvert_exporter": "python",
   "pygments_lexer": "ipython3",
   "version": "3.7.4"
  }
 },
 "nbformat": 4,
 "nbformat_minor": 2
}
