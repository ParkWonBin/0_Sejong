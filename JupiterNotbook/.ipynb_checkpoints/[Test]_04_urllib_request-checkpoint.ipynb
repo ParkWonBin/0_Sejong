{
 "cells": [
  {
   "cell_type": "markdown",
   "metadata": {},
   "source": [
    "## urllib.request      \n",
    "역할 : 인터넷 자원 다운로드   \n",
    "주의 : requests와 다름   \n",
    "사용 : request.urlretrieve(\"인터넷 자원 주소\", \"이름 설정\")"
   ]
  },
  {
   "cell_type": "markdown",
   "metadata": {},
   "source": [
    "#### 예제 : 바탕화면에 이미지 저장"
   ]
  },
  {
   "cell_type": "code",
   "execution_count": 4,
   "metadata": {},
   "outputs": [
    {
     "name": "stdout",
     "output_type": "stream",
     "text": [
      "이미지 파일이 저장되었습니다...!\n"
     ]
    }
   ],
   "source": [
    "from urllib import request    \n",
    "\n",
    "# 사용자 이름 (바탕화면)\n",
    "UserName = \"pwb11\"\n",
    "Folder=f\"C:/Users/{UserName}/Desktop/\"\n",
    "\n",
    "# 이미지 링크 \n",
    "imgLink = \"https://i.picsum.photos/id/1/200/300.jpg\"\n",
    "\n",
    "# 파일명 설정\n",
    "imgName = \"TestImg\"\n",
    "\n",
    "# 이미지 경로(이름) \n",
    "savename = Folder+imgName+\".jpg\"\n",
    "\n",
    "# 이미지 파일로 저장\n",
    "request.urlretrieve(imgLink, savename)\n",
    "\n",
    "print(\"이미지 파일이 저장되었습니다...!\")"
   ]
  },
  {
   "cell_type": "markdown",
   "metadata": {},
   "source": [
    "#### 참고사항\n",
    "- [urllib.request API](https://docs.python.org/ko/3/library/urllib.request.html#module-urllib.request)\n",
    "- [이미지 동영상 다운로드](https://blog.naver.com/kiddwannabe/221358581642)"
   ]
  },
  {
   "cell_type": "code",
   "execution_count": null,
   "metadata": {},
   "outputs": [],
   "source": []
  }
 ],
 "metadata": {
  "kernelspec": {
   "display_name": "Python 3",
   "language": "python",
   "name": "python3"
  },
  "language_info": {
   "codemirror_mode": {
    "name": "ipython",
    "version": 3
   },
   "file_extension": ".py",
   "mimetype": "text/x-python",
   "name": "python",
   "nbconvert_exporter": "python",
   "pygments_lexer": "ipython3",
   "version": "3.7.4"
  }
 },
 "nbformat": 4,
 "nbformat_minor": 2
}
