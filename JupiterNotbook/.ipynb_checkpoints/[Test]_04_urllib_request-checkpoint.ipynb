{
 "cells": [
  {
   "cell_type": "markdown",
   "metadata": {},
   "source": [
    "## urllib.request      \n",
    "역할 : 인터넷 자원 다운로드   \n",
    "주의 : requests와 다름   \n",
    "사용 : request.urlretrieve(\"인터넷 자원 주소\", \"이름 설정\")"
   ]
  },
  {
   "cell_type": "markdown",
   "metadata": {},
   "source": [
    "#### 예제 : 바탕화면에 이미지 저장"
   ]
  },
  {
   "cell_type": "code",
   "execution_count": 1,
   "metadata": {},
   "outputs": [
    {
     "name": "stdout",
     "output_type": "stream",
     "text": [
      "이미지 파일이 저장되었습니다...!\n"
     ]
    }
   ],
   "source": [
    "from urllib import request    \n",
    "\n",
    "# 사용자 이름 (바탕화면)\n",
    "UserName = \"pwb11\"\n",
    "Folder=f\"C:/Users/{UserName}/Desktop/\"\n",
    "\n",
    "# 이미지 링크 (세종대학교 호텔경영학과)\n",
    "imgLink = \"data:image/jpeg;base64,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\"\n",
    "\n",
    "# 파일명 설정\n",
    "imgName = \"TestImg\"\n",
    "\n",
    "# 이미지 경로(이름) \n",
    "savename = Folder+imgName+\".jpg\"\n",
    "\n",
    "# 이미지 파일로 저장\n",
    "request.urlretrieve(imgLink, savename)\n",
    "\n",
    "print(\"이미지 파일이 저장되었습니다...!\")"
   ]
  },
  {
   "cell_type": "markdown",
   "metadata": {},
   "source": [
    "#### 참고사항\n",
    "- [urllib.request API](https://docs.python.org/ko/3/library/urllib.request.html#module-urllib.request)\n",
    "- [이미지 동영상 다운로드](https://blog.naver.com/kiddwannabe/221358581642)"
   ]
  },
  {
   "cell_type": "code",
   "execution_count": null,
   "metadata": {},
   "outputs": [],
   "source": []
  }
 ],
 "metadata": {
  "kernelspec": {
   "display_name": "Python 3",
   "language": "python",
   "name": "python3"
  },
  "language_info": {
   "codemirror_mode": {
    "name": "ipython",
    "version": 3
   },
   "file_extension": ".py",
   "mimetype": "text/x-python",
   "name": "python",
   "nbconvert_exporter": "python",
   "pygments_lexer": "ipython3",
   "version": "3.7.4"
  }
 },
 "nbformat": 4,
 "nbformat_minor": 2
}
