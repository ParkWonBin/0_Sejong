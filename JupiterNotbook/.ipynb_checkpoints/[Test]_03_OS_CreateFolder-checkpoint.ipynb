{
 "cells": [
  {
   "cell_type": "markdown",
   "metadata": {},
   "source": [
    "### OS : 폴더 만들기  \n",
    "역할 : 경로 및 폴더 관리\n",
    "\n",
    "명령어 :   \n",
    "os.path.exists(\"경로명\") : 입력받은 경로가 유효하면 True 반환   \n",
    "os.makedirs(\"경로명\")    : 입력받은 경로를 갖는 폴더를 생성   "
   ]
  },
  {
   "cell_type": "code",
   "execution_count": 2,
   "metadata": {},
   "outputs": [],
   "source": [
    "import os\n",
    "\n",
    "# 폴더 만들기 함수 \n",
    "def createFolder(directory):\n",
    "    try:\n",
    "        \n",
    "        # 경로가 유효하지 않을 떄\n",
    "        if not os.path.exists(directory):\n",
    "            \n",
    "            # 입력받은 경로에 폴더를 만든다.\n",
    "            os.makedirs(directory)         \n",
    "        \n",
    "        # 경로가 유효하다면 아무것도 하지 않고 함수를 종료한다.\n",
    "            \n",
    "    except OSError:\n",
    "\n",
    "        # 이 함수 때문에 에러 생기면 콘솔에 표시하도록 한다.\n",
    "        print('Error: Creating directory. ' + directory)"
   ]
  },
  {
   "cell_type": "markdown",
   "metadata": {},
   "source": [
    "#### 예제 1 폴더 만들기\n",
    "에러 : 해당 경로에 폴더가 있을 때 에러"
   ]
  },
  {
   "cell_type": "code",
   "execution_count": 11,
   "metadata": {},
   "outputs": [],
   "source": [
    "UserName = \"pwb11\"\n",
    "forderName = \"폴더만들기\"\n",
    "forderURL = f\"C:/Users/{UserName}/Desktop/{forderName}\"\n",
    "\n",
    "os.makedirs(forderURL)    "
   ]
  },
  {
   "cell_type": "markdown",
   "metadata": {},
   "source": [
    "#### 예제 2 조건문으로 폴더 만들기\n",
    "개선 : 해당 경로에 폴더가 있어도 에러 안남   "
   ]
  },
  {
   "cell_type": "code",
   "execution_count": 14,
   "metadata": {},
   "outputs": [],
   "source": [
    "if not os.path.exists(forderURL):\n",
    "    os.makedirs(forderURL)    "
   ]
  },
  {
   "cell_type": "markdown",
   "metadata": {},
   "source": [
    "**참고자료**\n",
    "- [Python 경로 및 폴더 생성/제거](https://rfriend.tistory.com/429)   \n",
    "- [파일과 디렉토리 경로 다루기](http://pythonstudy.xyz/python/article/507-%ED%8C%8C%EC%9D%BC%EA%B3%BC-%EB%94%94%EB%A0%89%ED%86%A0%EB%A6%AC)"
   ]
  },
  {
   "cell_type": "code",
   "execution_count": null,
   "metadata": {},
   "outputs": [],
   "source": []
  }
 ],
 "metadata": {
  "kernelspec": {
   "display_name": "Python 3",
   "language": "python",
   "name": "python3"
  },
  "language_info": {
   "codemirror_mode": {
    "name": "ipython",
    "version": 3
   },
   "file_extension": ".py",
   "mimetype": "text/x-python",
   "name": "python",
   "nbconvert_exporter": "python",
   "pygments_lexer": "ipython3",
   "version": "3.7.4"
  }
 },
 "nbformat": 4,
 "nbformat_minor": 2
}
