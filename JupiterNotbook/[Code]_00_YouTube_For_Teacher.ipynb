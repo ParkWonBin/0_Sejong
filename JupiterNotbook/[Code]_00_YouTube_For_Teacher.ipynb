{
 "cells": [
  {
   "cell_type": "markdown",
   "metadata": {},
   "source": [
    "## 유튜브 다운로드"
   ]
  },
  {
   "cell_type": "code",
   "execution_count": null,
   "metadata": {
    "scrolled": false
   },
   "outputs": [
    {
     "name": "stdout",
     "output_type": "stream",
     "text": [
      "제목 : [세종대학교/Sejong University] ★솔직한 학과이야기★_호텔관광대\n",
      "0 번 영상 화질 : 360p\n",
      "1 번 영상 화질 : 720p\n"
     ]
    }
   ],
   "source": [
    "import os\n",
    "from pytube import YouTube\n",
    "\n",
    "UserName = \"pwb11\"                                 # 본인 컴퓨터 사용자 계정\n",
    "forderName = \"0_sejong\"                            # 폴더명\n",
    "forderPath = f\"c:/Users/{UserName}/{forderName}\"  # 주피터 기본 경로 + 폴더명\n",
    "\n",
    "if not os.path.isdir(forderPath): os.makedirs(forderPath)\n",
    "    \n",
    "# 다운받을 유튜브 링크 입력\n",
    "yt = YouTube(\"https://www.youtube.com/watch?v=zCaDXYjGDbE\")\n",
    "\n",
    "# mp4 확장자로 필터링\n",
    "yt_streams = yt.streams.filter(progressive=True, file_extension='mp4').all()\n",
    "\n",
    "print(\"제목 :\",   yt.title)\n",
    "for i in range(len(yt_streams)) :  \n",
    "    print(f\"{i} 번 영상 화질 : {yt_streams[i].resolution}\")\n",
    "    \n",
    "num=int(input(\"다운받을 영상의 번호를 입력해주세요.  \"))\n",
    "yt_streams[num].download(forderPath)"
   ]
  },
  {
   "cell_type": "markdown",
   "metadata": {},
   "source": [
    "**1. pytube3 다운로드**"
   ]
  },
  {
   "cell_type": "code",
   "execution_count": 2,
   "metadata": {
    "scrolled": false
   },
   "outputs": [
    {
     "name": "stdout",
     "output_type": "stream",
     "text": [
      "Requirement already satisfied: pytube3 in c:\\users\\pwb11\\anaconda3\\lib\\site-packages (9.6.1)\n",
      "Requirement already satisfied: typing-extensions in c:\\users\\pwb11\\anaconda3\\lib\\site-packages (from pytube3) (3.7.4.1)\n"
     ]
    }
   ],
   "source": [
    "! pip install pytube3"
   ]
  },
  {
   "cell_type": "markdown",
   "metadata": {},
   "source": [
    "**2. pytube3.YouTube 불러오기**"
   ]
  },
  {
   "cell_type": "code",
   "execution_count": 1,
   "metadata": {},
   "outputs": [],
   "source": [
    "from pytube import YouTube"
   ]
  },
  {
   "cell_type": "markdown",
   "metadata": {},
   "source": [
    "**3. 폴더 생성**"
   ]
  },
  {
   "cell_type": "code",
   "execution_count": 5,
   "metadata": {},
   "outputs": [],
   "source": [
    "import os\n",
    "\n",
    "UserName = \"pwb11\"                                 # 본인 컴퓨터 사용자 계정\n",
    "forderName = \"0_sejong\"                            # 폴더명\n",
    "forderPath = f\"c:/Users/{UserName}/{forderName}/\"  # 주피터 기본 경로 + 폴더명\n",
    "\n",
    "if not os.path.exists(forderPath):os.makedirs(forderPath) "
   ]
  },
  {
   "cell_type": "markdown",
   "metadata": {},
   "source": [
    "os.makedirs(“경로”) :    \n",
    "해당 경로에 폴더를 만드는 명령    \n",
    "\n",
    "f-string :    \n",
    "파이썬 3.6이상에서는 format 문자열을 접두사 f를 붙여     \n",
    "다음과 같이 나타낼 수 있다. f“문자열{변수명}내용”\n"
   ]
  },
  {
   "cell_type": "markdown",
   "metadata": {},
   "source": [
    "**4. YouTube 영상 정보 확인**"
   ]
  },
  {
   "cell_type": "code",
   "execution_count": 2,
   "metadata": {},
   "outputs": [
    {
     "name": "stdout",
     "output_type": "stream",
     "text": [
      "영상 제목 : [세종대학교/Sejong University] ★솔직한 학과이야기★_호텔관광대\n",
      "영상 길이 : 610 초\n",
      "영상 평점 : 4.9310346\n",
      "연령 제한 : False\n",
      "영상 게시자 : 세종대학교\n",
      "영상 썸네일 : https://i.ytimg.com/vi/zCaDXYjGDbE/maxresdefault.jpg\n",
      "영상 조회수 :  5931\n",
      "영상 설명글 :  안녕하세요 세온입니다!\n",
      "세종대학교 솔직한 학과이야기!\n",
      "이번에 들려드릴 학과 이야기는 바로 바로 ~~\n",
      "'호텔관광대' 랍니다!\n",
      "QS 세계대학평가에서 국내 1위를 차지한 세종대학교 호텔관광대! +_+\n",
      "평소에 호텔관광대에 대해 궁금했던 이야기들을\n",
      "지금 영상에서 확인해보세요~ X)\n",
      "세종대의 더 많은 소식을 듣고 싶다면?\n",
      "☞세종대 페이스북 : https://www.facebook.com/sejongpr/\n",
      "☞세종대 블로그 : https://blog.naver.com/sejong_univ\n",
      "☞세종대 인스타그램 : https://www.instagram.com/sejong_univ/\n"
     ]
    }
   ],
   "source": [
    "youtube_url = \"https://www.youtube.com/watch?v=zCaDXYjGDbE\"\n",
    "yt = YouTube(youtube_url)\n",
    "\n",
    "print(\"영상 제목 :\",   yt.title)\n",
    "print(\"영상 길이 :\",   yt.length,\"초\")\n",
    "print(\"영상 평점 :\",   yt.rating)\n",
    "print(\"연령 제한 :\",   yt.age_restricted)\n",
    "print(\"영상 게시자 :\", yt.author) \n",
    "print(\"영상 썸네일 :\", yt.thumbnail_url)\n",
    "print(\"영상 조회수 : \",yt.views)\n",
    "print(\"영상 설명글 : \",yt.description.strip())"
   ]
  },
  {
   "cell_type": "markdown",
   "metadata": {},
   "source": [
    "**5.stream Query 객체 생성**"
   ]
  },
  {
   "cell_type": "code",
   "execution_count": 3,
   "metadata": {},
   "outputs": [
    {
     "name": "stdout",
     "output_type": "stream",
     "text": [
      "stream 객체 전체보기 :\n",
      "0  :  <Stream: itag=\"18\" mime_type=\"video/mp4\" res=\"360p\" fps=\"30fps\" vcodec=\"avc1.42001E\" acodec=\"mp4a.40.2\" progressive=\"True\" type=\"video\">\n",
      "1  :  <Stream: itag=\"22\" mime_type=\"video/mp4\" res=\"720p\" fps=\"30fps\" vcodec=\"avc1.64001F\" acodec=\"mp4a.40.2\" progressive=\"True\" type=\"video\">\n",
      "2  :  <Stream: itag=\"137\" mime_type=\"video/mp4\" res=\"1080p\" fps=\"30fps\" vcodec=\"avc1.640028\" progressive=\"False\" type=\"video\">\n",
      "3  :  <Stream: itag=\"248\" mime_type=\"video/webm\" res=\"1080p\" fps=\"30fps\" vcodec=\"vp9\" progressive=\"False\" type=\"video\">\n",
      "4  :  <Stream: itag=\"136\" mime_type=\"video/mp4\" res=\"720p\" fps=\"30fps\" vcodec=\"avc1.4d4016\" progressive=\"False\" type=\"video\">\n",
      "5  :  <Stream: itag=\"247\" mime_type=\"video/webm\" res=\"720p\" fps=\"30fps\" vcodec=\"vp9\" progressive=\"False\" type=\"video\">\n",
      "6  :  <Stream: itag=\"135\" mime_type=\"video/mp4\" res=\"480p\" fps=\"30fps\" vcodec=\"avc1.4d4014\" progressive=\"False\" type=\"video\">\n",
      "7  :  <Stream: itag=\"244\" mime_type=\"video/webm\" res=\"480p\" fps=\"30fps\" vcodec=\"vp9\" progressive=\"False\" type=\"video\">\n",
      "8  :  <Stream: itag=\"134\" mime_type=\"video/mp4\" res=\"360p\" fps=\"30fps\" vcodec=\"avc1.4d401e\" progressive=\"False\" type=\"video\">\n",
      "9  :  <Stream: itag=\"243\" mime_type=\"video/webm\" res=\"360p\" fps=\"30fps\" vcodec=\"vp9\" progressive=\"False\" type=\"video\">\n",
      "10  :  <Stream: itag=\"133\" mime_type=\"video/mp4\" res=\"240p\" fps=\"30fps\" vcodec=\"avc1.4d400c\" progressive=\"False\" type=\"video\">\n",
      "11  :  <Stream: itag=\"242\" mime_type=\"video/webm\" res=\"240p\" fps=\"30fps\" vcodec=\"vp9\" progressive=\"False\" type=\"video\">\n",
      "12  :  <Stream: itag=\"160\" mime_type=\"video/mp4\" res=\"144p\" fps=\"30fps\" vcodec=\"avc1.4d400b\" progressive=\"False\" type=\"video\">\n",
      "13  :  <Stream: itag=\"278\" mime_type=\"video/webm\" res=\"144p\" fps=\"30fps\" vcodec=\"vp9\" progressive=\"False\" type=\"video\">\n",
      "14  :  <Stream: itag=\"140\" mime_type=\"audio/mp4\" abr=\"128kbps\" acodec=\"mp4a.40.2\" progressive=\"False\" type=\"audio\">\n",
      "15  :  <Stream: itag=\"251\" mime_type=\"audio/webm\" abr=\"160kbps\" acodec=\"opus\" progressive=\"False\" type=\"audio\">\n"
     ]
    }
   ],
   "source": [
    "# streamQuery 객체를 생성\n",
    "yt_streams = yt.streams\n",
    "\n",
    "print(\"stream 객체 전체보기 :\") \n",
    "yt_streams_list = yt_streams.all()   \n",
    "for i in range(len(yt_streams_list)) : print(i, \" : \", yt_streams_list[i])"
   ]
  },
  {
   "cell_type": "markdown",
   "metadata": {},
   "source": [
    "**6. YouTube mp4 확장자만 표시**"
   ]
  },
  {
   "cell_type": "code",
   "execution_count": 6,
   "metadata": {
    "scrolled": true
   },
   "outputs": [
    {
     "name": "stdout",
     "output_type": "stream",
     "text": [
      "고화질 mp4 화질순 정렬 :\n",
      "0  :  <Stream: itag=\"18\" mime_type=\"video/mp4\" res=\"360p\" fps=\"30fps\" vcodec=\"avc1.42001E\" acodec=\"mp4a.40.2\" progressive=\"True\" type=\"video\">\n",
      "1  :  <Stream: itag=\"22\" mime_type=\"video/mp4\" res=\"720p\" fps=\"30fps\" vcodec=\"avc1.64001F\" acodec=\"mp4a.40.2\" progressive=\"True\" type=\"video\">\n"
     ]
    }
   ],
   "source": [
    "# 확장자 mp4로 필터링하여 화실 순으로 정렬\n",
    "yt_mp4 = yt_streams.filter(progressive=True, file_extension='mp4').order_by('resolution').all()\n",
    "print(\"고화질 mp4 화질순 정렬 :\") \n",
    "for i in range(len(yt_mp4)) : print(i, \" : \", yt_mp4[i])"
   ]
  },
  {
   "cell_type": "markdown",
   "metadata": {},
   "source": [
    "**7. YouTube 다운로드**"
   ]
  },
  {
   "cell_type": "code",
   "execution_count": 7,
   "metadata": {
    "scrolled": true
   },
   "outputs": [
    {
     "name": "stdout",
     "output_type": "stream",
     "text": [
      "영상을 선택하세요.0\n"
     ]
    },
    {
     "data": {
      "text/plain": [
       "'c:/Users/pwb11/0_sejong/[세종대학교Sejong University] ★솔직한 학과이야기★_호텔관광대.mp4'"
      ]
     },
     "execution_count": 7,
     "metadata": {},
     "output_type": "execute_result"
    }
   ],
   "source": [
    "num = int(input(\"영상을 선택하세요.\"))\n",
    "yt_mp4[num].download(forderPath) # 기본 경로는 현제 주피터노트북 파일 위치"
   ]
  },
  {
   "cell_type": "markdown",
   "metadata": {},
   "source": [
    "**ex1. progressive False 다운로드 시도**"
   ]
  },
  {
   "cell_type": "code",
   "execution_count": null,
   "metadata": {},
   "outputs": [
    {
     "name": "stdout",
     "output_type": "stream",
     "text": [
      "고화질 mp4 화질순 정렬 :\n",
      "0  :  <Stream: itag=\"18\" mime_type=\"video/mp4\" res=\"360p\" fps=\"30fps\" vcodec=\"avc1.42001E\" acodec=\"mp4a.40.2\" progressive=\"True\" type=\"video\">\n",
      "1  :  <Stream: itag=\"22\" mime_type=\"video/mp4\" res=\"720p\" fps=\"30fps\" vcodec=\"avc1.64001F\" acodec=\"mp4a.40.2\" progressive=\"True\" type=\"video\">\n",
      "2  :  <Stream: itag=\"137\" mime_type=\"video/mp4\" res=\"1080p\" fps=\"30fps\" vcodec=\"avc1.640028\" progressive=\"False\" type=\"video\">\n",
      "3  :  <Stream: itag=\"136\" mime_type=\"video/mp4\" res=\"720p\" fps=\"30fps\" vcodec=\"avc1.4d4016\" progressive=\"False\" type=\"video\">\n",
      "4  :  <Stream: itag=\"135\" mime_type=\"video/mp4\" res=\"480p\" fps=\"30fps\" vcodec=\"avc1.4d4014\" progressive=\"False\" type=\"video\">\n"
     ]
    }
   ],
   "source": [
    "# progressive False 파일을 다운로드 하려고 하면 HTTP 404 오류가 뜬다.\n",
    "yt_mp4 = yt_streams.filter(progressive=False, file_extension='mp4').all()\n",
    "print(\"고화질 mp4 화질순 정렬 :\") \n",
    "for i in range(5) : print(i, \" : \", yt_mp4[i])\n",
    "    \n",
    "num = int(input(\"영상을 선택하세요.\"))\n",
    "yt_mp4[num].download(forderPath) # 기본 경로는 현제 주피터노트북 파일 위치"
   ]
  },
  {
   "cell_type": "markdown",
   "metadata": {},
   "source": [
    "#### ex2. 영상 다운로드(간소화)"
   ]
  },
  {
   "cell_type": "code",
   "execution_count": 11,
   "metadata": {
    "scrolled": true
   },
   "outputs": [
    {
     "data": {
      "text/plain": [
       "'C:\\\\Users\\\\pwb11\\\\PythonStudy\\\\JupiterNotbook\\\\[세종대학교Sejong University] ★솔직한 학과이야기★_호텔관광대.mp4'"
      ]
     },
     "execution_count": 11,
     "metadata": {},
     "output_type": "execute_result"
    }
   ],
   "source": [
    "from pytube import YouTube\n",
    "\n",
    "YouTube('https://www.youtube.com/watch?v=zCaDXYjGDbE').streams. \\\n",
    "    filter(progressive=True, file_extension='mp4').first().download(forderPath)"
   ]
  },
  {
   "cell_type": "markdown",
   "metadata": {},
   "source": [
    "#### 유튜브 명령어 관련"
   ]
  },
  {
   "cell_type": "markdown",
   "metadata": {},
   "source": [
    "참고사항\n",
    "1. [유튜브 영상/자막 다운로드](https://kiddwannabe.blog.me/221790727905)\n",
    "1. [pytube API](https://pypi.org/project/pytube3/)\n",
    "1. [pytube Guide](https://pytube3.readthedocs.io/en/latest/)\n",
    "1. [유튜브 비디오 다운로드](https://yagisanatode.com/2018/03/09/how-do-i-download-youtube-videos-with-python-3-using-pytube/)\n",
    "\n",
    "중요한거\n",
    "1. [제일 잘 정리된 블로그](https://m.blog.naver.com/skyshin0304/221620513883)\n",
    "1. [stream 관련 정리](https://python-pytube.readthedocs.io/en/latest/user/quickstart.html)\n",
    "1. [pytube3 API](https://pytube3.readthedocs.io/en/latest/api.html#youtube-object)\n",
    "1. [자세한 설명](https://blog.naver.com/skyshin0304/221620513883)\n",
    "1. [403에러 뜰 때](https://m.blog.naver.com/PostView.nhn?blogId=skyshin0304&logNo=221619995838&proxyReferer=https%3A%2F%2Fwww.google.com%2F)\n",
    "\n",
    "심화내용\n",
    "1. [유튜브 mp3 변환](https://niceman.tistory.com/92)\n",
    "1. [뷰티플스프 크롤링](https://jh-0323.tistory.com/entry/%ED%8C%8C%EC%9D%B4%EC%8D%AC%EC%9D%84-%EC%9D%B4%EC%9A%A9%ED%95%9C-%EC%9C%A0%ED%8A%9C%EB%B8%8C-%EC%B1%84%EB%84%90-%ED%81%AC%EB%A1%A4%EB%A7%81-csv%ED%8C%8C%EC%9D%BC%EB%A1%9C-%EB%A7%8C%EB%93%A4%EA%B8%B0)\n",
    "1. [셀레늄으로 크롤링](https://shinminyong.tistory.com/2?category=835486) "
   ]
  },
  {
   "cell_type": "markdown",
   "metadata": {},
   "source": [
    "### 수정 전 코드"
   ]
  },
  {
   "cell_type": "code",
   "execution_count": null,
   "metadata": {},
   "outputs": [],
   "source": [
    "### 수정 전 코드! pip install pytube3\n",
    "\n",
    "import os\n",
    "from pytube import YouTube\n",
    "\n",
    "UserName = \"pwb11\"\n",
    "forderName = \"pytube3\"\n",
    "forderURL = f\"C:/Users/{UserName}/Desktop/{forderName}\"\n",
    "\n",
    "if not os.path.exists(forderURL):os.makedirs(forderURL) \n",
    "\n",
    "youtube_url = \"https://www.youtube.com/watch?v=zCaDXYjGDbE\"\n",
    "yt = YouTube(youtube_url)\n",
    "\n",
    "print(\"영상 제목 :\",   yt.title)\n",
    "print(\"영상 길이 :\",   yt.length,\"초\")\n",
    "print(\"영상 평점 :\",   yt.rating)\n",
    "print(\"연령 제한 :\",   yt.age_restricted)\n",
    "print(\"영상 게시자 :\", yt.author) \n",
    "print(\"영상 썸네일 :\", yt.thumbnail_url)\n",
    "print(\"영상 조회수 : \",yt.views)\n",
    "print(\"영상 설명글 : \",yt.description.strip())\n",
    "\n",
    "yt.streams \\\n",
    "    .filter(progressive=True, file_extension='mp4') \\\n",
    "    .order_by('resolution').desc().first().download(forderURL)"
   ]
  },
  {
   "cell_type": "markdown",
   "metadata": {},
   "source": [
    "### 자막 관련"
   ]
  },
  {
   "cell_type": "code",
   "execution_count": 2,
   "metadata": {},
   "outputs": [],
   "source": [
    "#참고 링크\n",
    "\n",
    "# 한국어\n",
    "URL_KR ='https://www.youtube.com/watch?v=oNCRJ8egk5E&t=1s'\n",
    "\n",
    "# 영어\n",
    "URL_ENG ='https://youtu.be/7GP_ymLQ-FU'\n",
    "\n",
    "# 일본어\n",
    "URL_JR ='https://www.youtube.com/watch?v=SaGSE4Ipp8s'"
   ]
  },
  {
   "cell_type": "code",
   "execution_count": 5,
   "metadata": {
    "collapsed": true
   },
   "outputs": [
    {
     "name": "stdout",
     "output_type": "stream",
     "text": [
      "다운가능한 영상 자막 정보 :\n",
      "0  :  <Caption lang=\"일본어 (자동 생성됨)\" code=\"ja\">\n",
      "언어를 선택하세요 (code 입력): \n",
      "ja\n",
      "선택된 caption :  <Caption lang=\"일본어 (자동 생성됨)\" code=\"ja\">\n",
      "선택된 자막 보여주기 :\n",
      "1\n",
      "00:00:00,000 --> 00:00:03,199\n",
      "だーっ当たっちゃ\n",
      "\n",
      "2\n",
      "00:00:04,980 --> 00:00:12,740\n",
      "ほんっ惚れ惚れ暇う気っ風の良さかでバカだったん\n",
      "\n",
      "3\n",
      "00:00:12,800 --> 00:00:15,790\n",
      "本ライターいい\n",
      "\n",
      "4\n",
      "00:00:14,210 --> 00:00:18,180\n",
      "[音楽]\n",
      "\n",
      "5\n",
      "00:00:15,790 --> 00:00:18,180\n",
      "ぷっ\n",
      "\n",
      "6\n",
      "00:00:19,210 --> 00:00:22,370\n",
      "[音楽]\n",
      "\n",
      "7\n",
      "00:00:24,890 --> 00:00:27,820\n",
      "揃いました\n",
      "\n",
      "8\n",
      "00:00:29,120 --> 00:00:31,210\n",
      "ce ん\n",
      "\n",
      "9\n",
      "00:00:29,870 --> 00:00:32,590\n",
      "[音楽]\n",
      "\n",
      "10\n",
      "00:00:31,210 --> 00:00:34,079\n",
      "市新野長\n",
      "\n",
      "11\n",
      "00:00:32,590 --> 00:00:35,150\n",
      "[音楽]\n",
      "\n",
      "12\n",
      "00:00:34,079 --> 00:00:39,560\n",
      "dee\n",
      "\n",
      "13\n",
      "00:00:35,150 --> 00:00:42,380\n",
      "ぽい音を外れちまったなぁに博打は水もの\n",
      "\n",
      "14\n",
      "00:00:39,560 --> 00:00:43,660\n",
      "たまにはこんなこともあるだろんさあん\n",
      "\n",
      "15\n",
      "00:00:42,380 --> 00:00:47,340\n",
      "[音楽]\n",
      "\n",
      "16\n",
      "00:00:43,660 --> 00:00:47,340\n",
      "つい入りますあ\n",
      "\n",
      "17\n",
      "00:00:47,370 --> 00:00:50,719\n",
      "そうおっっ\n",
      "\n",
      "18\n",
      "00:00:53,510 --> 00:00:56,640\n",
      "[音楽]\n",
      "\n",
      "19\n",
      "00:01:00,840 --> 00:01:03,660\n",
      "3\n",
      "\n",
      "20\n",
      "00:01:02,170 --> 00:01:05,760\n",
      "えっ\n",
      "\n",
      "21\n",
      "00:01:03,660 --> 00:01:07,260\n",
      "残り全て\n",
      "\n",
      "22\n",
      "00:01:05,760 --> 00:01:11,700\n",
      "超だ\n",
      "\n",
      "23\n",
      "00:01:07,260 --> 00:01:13,590\n",
      "いろよここで1世時代の王15分たーーー\n",
      "\n",
      "24\n",
      "00:01:11,700 --> 00:01:17,150\n",
      "生きられたんだな\n",
      "\n",
      "25\n",
      "00:01:13,590 --> 00:01:19,870\n",
      "省唱歌ハイター\n",
      "\n",
      "26\n",
      "00:01:17,150 --> 00:01:19,870\n",
      "tan\n",
      "\n",
      "27\n",
      "00:01:20,670 --> 00:01:28,640\n",
      "[音楽]\n",
      "\n",
      "28\n",
      "00:01:28,930 --> 00:01:34,579\n",
      "早漏いましたらいい\n",
      "\n",
      "29\n",
      "00:01:32,159 --> 00:01:34,579\n",
      "シェイ\n",
      "\n",
      "30\n",
      "00:01:38,740 --> 00:01:44,310\n",
      "地主義の本はよまたはずゲー\n",
      "\n",
      "31\n",
      "00:01:45,350 --> 00:01:48,550\n",
      "too\n",
      "\n",
      "32\n",
      "00:01:46,460 --> 00:01:49,700\n",
      "[音楽]\n",
      "\n",
      "33\n",
      "00:01:48,550 --> 00:01:52,430\n",
      "me\n",
      "\n",
      "34\n",
      "00:01:49,700 --> 00:01:54,490\n",
      "不不不不不不不不不不不不不不不不不不不不不不不不不不不不不不不不不不不不不不不\n",
      "\n",
      "35\n",
      "00:01:52,430 --> 00:01:54,490\n",
      "不\n",
      "\n",
      "36\n",
      "00:02:06,010 --> 00:02:13,060\n",
      "[音楽]\n",
      "\n",
      "37\n",
      "00:02:08,360 --> 00:02:16,050\n",
      "いよいよ親いくらさんまぞ\n",
      "\n",
      "38\n",
      "00:02:13,060 --> 00:02:16,050\n",
      "うーんジュルー\n",
      "\n",
      "39\n",
      "00:02:16,310 --> 00:02:22,330\n",
      "ゆっええええええ\n",
      "\n",
      "40\n",
      "00:02:18,740 --> 00:02:22,330\n",
      "大府エラー下声\n",
      "\n",
      "41\n",
      "00:02:23,570 --> 00:02:29,629\n",
      "[音楽]\n",
      "\n",
      "42\n",
      "00:02:24,900 --> 00:02:29,629\n",
      "駅なもてなしもできるじゃねーか\n",
      "\n",
      "43\n",
      "00:02:34,210 --> 00:02:38,370\n",
      "おめーら野球へエアー\n",
      "\n",
      "44\n",
      "00:02:40,350 --> 00:02:44,000\n",
      "[音楽]\n",
      "\n",
      "45\n",
      "00:02:42,550 --> 00:02:47,200\n",
      "wh\n",
      "\n",
      "46\n",
      "00:02:44,000 --> 00:02:48,490\n",
      "[拍手]\n",
      "\n",
      "47\n",
      "00:02:47,200 --> 00:02:51,300\n",
      "どれ\n",
      "\n",
      "48\n",
      "00:02:48,490 --> 00:02:51,300\n",
      "ni\n",
      "\n",
      "49\n",
      "00:02:52,850 --> 00:02:59,250\n",
      "大神官 ana\n",
      "\n",
      "50\n",
      "00:02:56,380 --> 00:02:59,250\n",
      "dare\n",
      "\n",
      "51\n",
      "00:03:08,060 --> 00:03:13,830\n",
      "[音楽]\n",
      "\n",
      "52\n",
      "00:03:11,270 --> 00:03:17,460\n",
      "ええええええ\n",
      "\n",
      "53\n",
      "00:03:13,830 --> 00:03:19,010\n",
      "こよ平井でも願いみんなたを生き破った\n",
      "\n",
      "54\n",
      "00:03:17,460 --> 00:03:21,730\n",
      "ああ\n",
      "\n",
      "55\n",
      "00:03:19,010 --> 00:03:21,730\n",
      "うんうん\n",
      "\n",
      "56\n",
      "00:03:24,630 --> 00:03:31,790\n",
      "えっえっ\n",
      "\n",
      "57\n",
      "00:03:26,750 --> 00:03:34,920\n",
      "ファイヤーしばらくはからなぁ渡る世間は今日目と判明\n",
      "\n",
      "58\n",
      "00:03:31,790 --> 00:03:38,959\n",
      "良いと悪いは一つを切ってねー\n",
      "\n",
      "59\n",
      "00:03:34,920 --> 00:03:38,959\n",
      "過去等で家うち道を過ぎや車\n",
      "\n",
      "60\n",
      "00:03:39,360 --> 00:03:43,690\n",
      "すっ\n",
      "\n",
      "61\n",
      "00:03:41,000 --> 00:03:46,810\n",
      "ということでデータ月産\n",
      "\n",
      "62\n",
      "00:03:43,690 --> 00:03:52,390\n",
      "最後の勝負はケチが付いちまったからね\n",
      "\n",
      "63\n",
      "00:03:46,810 --> 00:03:54,569\n",
      "旦那の上がりはこれまでの勝ち運ってことで道でござんしようねえっ\n",
      "\n",
      "64\n",
      "00:03:52,390 --> 00:03:54,569\n",
      "てい\n",
      "\n",
      "65\n",
      "00:03:56,560 --> 00:04:02,940\n",
      "衛兵乗務的にパパくるじゃねぇ\n",
      "end\n"
     ]
    }
   ],
   "source": [
    "from pytube import YouTube\n",
    "# 라이브러리 가져오기\n",
    "\n",
    "yt = YouTube(URL_JR)\n",
    "# 동영상 링크를 이용해 YouTube 객체 생성\n",
    "\n",
    "yt_captions = yt.captions\n",
    "# YouTube 객체에서 caption 객체를 가져옴\n",
    "\n",
    "print(\"다운가능한 영상 자막 정보 :\")\n",
    "for i, cap in enumerate(yt.captions.all()):\n",
    "    print(i, \" : \", cap)\n",
    "\n",
    "print(\"언어를 선택하세요 (code 입력): \")\n",
    "code = input()\n",
    "my_caption = yt_captions.get_by_language_code(code)\n",
    "print(\"선택된 caption : \", my_caption)\n",
    "print(\"선택된 자막 보여주기 :\")\n",
    "print(my_caption.generate_srt_captions())\n",
    "\n",
    "print(\"end\")"
   ]
  },
  {
   "cell_type": "code",
   "execution_count": 11,
   "metadata": {},
   "outputs": [
    {
     "ename": "URLError",
     "evalue": "<urlopen error [Errno 11001] getaddrinfo failed>",
     "output_type": "error",
     "traceback": [
      "\u001b[1;31m---------------------------------------------------------------------------\u001b[0m",
      "\u001b[1;31mgaierror\u001b[0m                                  Traceback (most recent call last)",
      "\u001b[1;32m~\\Anaconda3\\lib\\urllib\\request.py\u001b[0m in \u001b[0;36mdo_open\u001b[1;34m(self, http_class, req, **http_conn_args)\u001b[0m\n\u001b[0;32m   1316\u001b[0m                 h.request(req.get_method(), req.selector, req.data, headers,\n\u001b[1;32m-> 1317\u001b[1;33m                           encode_chunked=req.has_header('Transfer-encoding'))\n\u001b[0m\u001b[0;32m   1318\u001b[0m             \u001b[1;32mexcept\u001b[0m \u001b[0mOSError\u001b[0m \u001b[1;32mas\u001b[0m \u001b[0merr\u001b[0m\u001b[1;33m:\u001b[0m \u001b[1;31m# timeout error\u001b[0m\u001b[1;33m\u001b[0m\u001b[1;33m\u001b[0m\u001b[0m\n",
      "\u001b[1;32m~\\Anaconda3\\lib\\http\\client.py\u001b[0m in \u001b[0;36mrequest\u001b[1;34m(self, method, url, body, headers, encode_chunked)\u001b[0m\n\u001b[0;32m   1243\u001b[0m         \u001b[1;34m\"\"\"Send a complete request to the server.\"\"\"\u001b[0m\u001b[1;33m\u001b[0m\u001b[1;33m\u001b[0m\u001b[0m\n\u001b[1;32m-> 1244\u001b[1;33m         \u001b[0mself\u001b[0m\u001b[1;33m.\u001b[0m\u001b[0m_send_request\u001b[0m\u001b[1;33m(\u001b[0m\u001b[0mmethod\u001b[0m\u001b[1;33m,\u001b[0m \u001b[0murl\u001b[0m\u001b[1;33m,\u001b[0m \u001b[0mbody\u001b[0m\u001b[1;33m,\u001b[0m \u001b[0mheaders\u001b[0m\u001b[1;33m,\u001b[0m \u001b[0mencode_chunked\u001b[0m\u001b[1;33m)\u001b[0m\u001b[1;33m\u001b[0m\u001b[1;33m\u001b[0m\u001b[0m\n\u001b[0m\u001b[0;32m   1245\u001b[0m \u001b[1;33m\u001b[0m\u001b[0m\n",
      "\u001b[1;32m~\\Anaconda3\\lib\\http\\client.py\u001b[0m in \u001b[0;36m_send_request\u001b[1;34m(self, method, url, body, headers, encode_chunked)\u001b[0m\n\u001b[0;32m   1289\u001b[0m             \u001b[0mbody\u001b[0m \u001b[1;33m=\u001b[0m \u001b[0m_encode\u001b[0m\u001b[1;33m(\u001b[0m\u001b[0mbody\u001b[0m\u001b[1;33m,\u001b[0m \u001b[1;34m'body'\u001b[0m\u001b[1;33m)\u001b[0m\u001b[1;33m\u001b[0m\u001b[1;33m\u001b[0m\u001b[0m\n\u001b[1;32m-> 1290\u001b[1;33m         \u001b[0mself\u001b[0m\u001b[1;33m.\u001b[0m\u001b[0mendheaders\u001b[0m\u001b[1;33m(\u001b[0m\u001b[0mbody\u001b[0m\u001b[1;33m,\u001b[0m \u001b[0mencode_chunked\u001b[0m\u001b[1;33m=\u001b[0m\u001b[0mencode_chunked\u001b[0m\u001b[1;33m)\u001b[0m\u001b[1;33m\u001b[0m\u001b[1;33m\u001b[0m\u001b[0m\n\u001b[0m\u001b[0;32m   1291\u001b[0m \u001b[1;33m\u001b[0m\u001b[0m\n",
      "\u001b[1;32m~\\Anaconda3\\lib\\http\\client.py\u001b[0m in \u001b[0;36mendheaders\u001b[1;34m(self, message_body, encode_chunked)\u001b[0m\n\u001b[0;32m   1238\u001b[0m             \u001b[1;32mraise\u001b[0m \u001b[0mCannotSendHeader\u001b[0m\u001b[1;33m(\u001b[0m\u001b[1;33m)\u001b[0m\u001b[1;33m\u001b[0m\u001b[1;33m\u001b[0m\u001b[0m\n\u001b[1;32m-> 1239\u001b[1;33m         \u001b[0mself\u001b[0m\u001b[1;33m.\u001b[0m\u001b[0m_send_output\u001b[0m\u001b[1;33m(\u001b[0m\u001b[0mmessage_body\u001b[0m\u001b[1;33m,\u001b[0m \u001b[0mencode_chunked\u001b[0m\u001b[1;33m=\u001b[0m\u001b[0mencode_chunked\u001b[0m\u001b[1;33m)\u001b[0m\u001b[1;33m\u001b[0m\u001b[1;33m\u001b[0m\u001b[0m\n\u001b[0m\u001b[0;32m   1240\u001b[0m \u001b[1;33m\u001b[0m\u001b[0m\n",
      "\u001b[1;32m~\\Anaconda3\\lib\\http\\client.py\u001b[0m in \u001b[0;36m_send_output\u001b[1;34m(self, message_body, encode_chunked)\u001b[0m\n\u001b[0;32m   1025\u001b[0m         \u001b[1;32mdel\u001b[0m \u001b[0mself\u001b[0m\u001b[1;33m.\u001b[0m\u001b[0m_buffer\u001b[0m\u001b[1;33m[\u001b[0m\u001b[1;33m:\u001b[0m\u001b[1;33m]\u001b[0m\u001b[1;33m\u001b[0m\u001b[1;33m\u001b[0m\u001b[0m\n\u001b[1;32m-> 1026\u001b[1;33m         \u001b[0mself\u001b[0m\u001b[1;33m.\u001b[0m\u001b[0msend\u001b[0m\u001b[1;33m(\u001b[0m\u001b[0mmsg\u001b[0m\u001b[1;33m)\u001b[0m\u001b[1;33m\u001b[0m\u001b[1;33m\u001b[0m\u001b[0m\n\u001b[0m\u001b[0;32m   1027\u001b[0m \u001b[1;33m\u001b[0m\u001b[0m\n",
      "\u001b[1;32m~\\Anaconda3\\lib\\http\\client.py\u001b[0m in \u001b[0;36msend\u001b[1;34m(self, data)\u001b[0m\n\u001b[0;32m    965\u001b[0m             \u001b[1;32mif\u001b[0m \u001b[0mself\u001b[0m\u001b[1;33m.\u001b[0m\u001b[0mauto_open\u001b[0m\u001b[1;33m:\u001b[0m\u001b[1;33m\u001b[0m\u001b[1;33m\u001b[0m\u001b[0m\n\u001b[1;32m--> 966\u001b[1;33m                 \u001b[0mself\u001b[0m\u001b[1;33m.\u001b[0m\u001b[0mconnect\u001b[0m\u001b[1;33m(\u001b[0m\u001b[1;33m)\u001b[0m\u001b[1;33m\u001b[0m\u001b[1;33m\u001b[0m\u001b[0m\n\u001b[0m\u001b[0;32m    967\u001b[0m             \u001b[1;32melse\u001b[0m\u001b[1;33m:\u001b[0m\u001b[1;33m\u001b[0m\u001b[1;33m\u001b[0m\u001b[0m\n",
      "\u001b[1;32m~\\Anaconda3\\lib\\http\\client.py\u001b[0m in \u001b[0;36mconnect\u001b[1;34m(self)\u001b[0m\n\u001b[0;32m   1405\u001b[0m \u001b[1;33m\u001b[0m\u001b[0m\n\u001b[1;32m-> 1406\u001b[1;33m             \u001b[0msuper\u001b[0m\u001b[1;33m(\u001b[0m\u001b[1;33m)\u001b[0m\u001b[1;33m.\u001b[0m\u001b[0mconnect\u001b[0m\u001b[1;33m(\u001b[0m\u001b[1;33m)\u001b[0m\u001b[1;33m\u001b[0m\u001b[1;33m\u001b[0m\u001b[0m\n\u001b[0m\u001b[0;32m   1407\u001b[0m \u001b[1;33m\u001b[0m\u001b[0m\n",
      "\u001b[1;32m~\\Anaconda3\\lib\\http\\client.py\u001b[0m in \u001b[0;36mconnect\u001b[1;34m(self)\u001b[0m\n\u001b[0;32m    937\u001b[0m         self.sock = self._create_connection(\n\u001b[1;32m--> 938\u001b[1;33m             (self.host,self.port), self.timeout, self.source_address)\n\u001b[0m\u001b[0;32m    939\u001b[0m         \u001b[0mself\u001b[0m\u001b[1;33m.\u001b[0m\u001b[0msock\u001b[0m\u001b[1;33m.\u001b[0m\u001b[0msetsockopt\u001b[0m\u001b[1;33m(\u001b[0m\u001b[0msocket\u001b[0m\u001b[1;33m.\u001b[0m\u001b[0mIPPROTO_TCP\u001b[0m\u001b[1;33m,\u001b[0m \u001b[0msocket\u001b[0m\u001b[1;33m.\u001b[0m\u001b[0mTCP_NODELAY\u001b[0m\u001b[1;33m,\u001b[0m \u001b[1;36m1\u001b[0m\u001b[1;33m)\u001b[0m\u001b[1;33m\u001b[0m\u001b[1;33m\u001b[0m\u001b[0m\n",
      "\u001b[1;32m~\\Anaconda3\\lib\\socket.py\u001b[0m in \u001b[0;36mcreate_connection\u001b[1;34m(address, timeout, source_address)\u001b[0m\n\u001b[0;32m    706\u001b[0m     \u001b[0merr\u001b[0m \u001b[1;33m=\u001b[0m \u001b[1;32mNone\u001b[0m\u001b[1;33m\u001b[0m\u001b[1;33m\u001b[0m\u001b[0m\n\u001b[1;32m--> 707\u001b[1;33m     \u001b[1;32mfor\u001b[0m \u001b[0mres\u001b[0m \u001b[1;32min\u001b[0m \u001b[0mgetaddrinfo\u001b[0m\u001b[1;33m(\u001b[0m\u001b[0mhost\u001b[0m\u001b[1;33m,\u001b[0m \u001b[0mport\u001b[0m\u001b[1;33m,\u001b[0m \u001b[1;36m0\u001b[0m\u001b[1;33m,\u001b[0m \u001b[0mSOCK_STREAM\u001b[0m\u001b[1;33m)\u001b[0m\u001b[1;33m:\u001b[0m\u001b[1;33m\u001b[0m\u001b[1;33m\u001b[0m\u001b[0m\n\u001b[0m\u001b[0;32m    708\u001b[0m         \u001b[0maf\u001b[0m\u001b[1;33m,\u001b[0m \u001b[0msocktype\u001b[0m\u001b[1;33m,\u001b[0m \u001b[0mproto\u001b[0m\u001b[1;33m,\u001b[0m \u001b[0mcanonname\u001b[0m\u001b[1;33m,\u001b[0m \u001b[0msa\u001b[0m \u001b[1;33m=\u001b[0m \u001b[0mres\u001b[0m\u001b[1;33m\u001b[0m\u001b[1;33m\u001b[0m\u001b[0m\n",
      "\u001b[1;32m~\\Anaconda3\\lib\\socket.py\u001b[0m in \u001b[0;36mgetaddrinfo\u001b[1;34m(host, port, family, type, proto, flags)\u001b[0m\n\u001b[0;32m    747\u001b[0m     \u001b[0maddrlist\u001b[0m \u001b[1;33m=\u001b[0m \u001b[1;33m[\u001b[0m\u001b[1;33m]\u001b[0m\u001b[1;33m\u001b[0m\u001b[1;33m\u001b[0m\u001b[0m\n\u001b[1;32m--> 748\u001b[1;33m     \u001b[1;32mfor\u001b[0m \u001b[0mres\u001b[0m \u001b[1;32min\u001b[0m \u001b[0m_socket\u001b[0m\u001b[1;33m.\u001b[0m\u001b[0mgetaddrinfo\u001b[0m\u001b[1;33m(\u001b[0m\u001b[0mhost\u001b[0m\u001b[1;33m,\u001b[0m \u001b[0mport\u001b[0m\u001b[1;33m,\u001b[0m \u001b[0mfamily\u001b[0m\u001b[1;33m,\u001b[0m \u001b[0mtype\u001b[0m\u001b[1;33m,\u001b[0m \u001b[0mproto\u001b[0m\u001b[1;33m,\u001b[0m \u001b[0mflags\u001b[0m\u001b[1;33m)\u001b[0m\u001b[1;33m:\u001b[0m\u001b[1;33m\u001b[0m\u001b[1;33m\u001b[0m\u001b[0m\n\u001b[0m\u001b[0;32m    749\u001b[0m         \u001b[0maf\u001b[0m\u001b[1;33m,\u001b[0m \u001b[0msocktype\u001b[0m\u001b[1;33m,\u001b[0m \u001b[0mproto\u001b[0m\u001b[1;33m,\u001b[0m \u001b[0mcanonname\u001b[0m\u001b[1;33m,\u001b[0m \u001b[0msa\u001b[0m \u001b[1;33m=\u001b[0m \u001b[0mres\u001b[0m\u001b[1;33m\u001b[0m\u001b[1;33m\u001b[0m\u001b[0m\n",
      "\u001b[1;31mgaierror\u001b[0m: [Errno 11001] getaddrinfo failed",
      "\nDuring handling of the above exception, another exception occurred:\n",
      "\u001b[1;31mURLError\u001b[0m                                  Traceback (most recent call last)",
      "\u001b[1;32m<ipython-input-11-75f72027f68d>\u001b[0m in \u001b[0;36m<module>\u001b[1;34m\u001b[0m\n\u001b[1;32m----> 1\u001b[1;33m \u001b[0myt\u001b[0m \u001b[1;33m=\u001b[0m \u001b[0mYouTube\u001b[0m\u001b[1;33m(\u001b[0m\u001b[0mURL_JR\u001b[0m\u001b[1;33m)\u001b[0m\u001b[1;33m\u001b[0m\u001b[1;33m\u001b[0m\u001b[0m\n\u001b[0m\u001b[0;32m      2\u001b[0m \u001b[0mcap\u001b[0m \u001b[1;33m=\u001b[0m \u001b[0myt\u001b[0m\u001b[1;33m.\u001b[0m\u001b[0mcaptions\u001b[0m\u001b[1;33m.\u001b[0m\u001b[0mget_by_language_code\u001b[0m\u001b[1;33m(\u001b[0m\u001b[0mja\u001b[0m\u001b[1;33m)\u001b[0m\u001b[1;33m.\u001b[0m\u001b[0mgenerate_srt_captions\u001b[0m\u001b[1;33m(\u001b[0m\u001b[1;33m)\u001b[0m\u001b[1;33m\u001b[0m\u001b[1;33m\u001b[0m\u001b[0m\n\u001b[0;32m      3\u001b[0m \u001b[0mprint\u001b[0m\u001b[1;33m(\u001b[0m\u001b[0mtype\u001b[0m\u001b[1;33m(\u001b[0m\u001b[0mcap\u001b[0m\u001b[1;33m)\u001b[0m\u001b[1;33m)\u001b[0m\u001b[1;33m\u001b[0m\u001b[1;33m\u001b[0m\u001b[0m\n",
      "\u001b[1;32m~\\Anaconda3\\lib\\site-packages\\pytube\\__main__.py\u001b[0m in \u001b[0;36m__init__\u001b[1;34m(self, url, defer_prefetch_init, on_progress_callback, on_complete_callback, proxies)\u001b[0m\n\u001b[0;32m     92\u001b[0m \u001b[1;33m\u001b[0m\u001b[0m\n\u001b[0;32m     93\u001b[0m         \u001b[1;32mif\u001b[0m \u001b[1;32mnot\u001b[0m \u001b[0mdefer_prefetch_init\u001b[0m\u001b[1;33m:\u001b[0m\u001b[1;33m\u001b[0m\u001b[1;33m\u001b[0m\u001b[0m\n\u001b[1;32m---> 94\u001b[1;33m             \u001b[0mself\u001b[0m\u001b[1;33m.\u001b[0m\u001b[0mprefetch\u001b[0m\u001b[1;33m(\u001b[0m\u001b[1;33m)\u001b[0m\u001b[1;33m\u001b[0m\u001b[1;33m\u001b[0m\u001b[0m\n\u001b[0m\u001b[0;32m     95\u001b[0m             \u001b[0mself\u001b[0m\u001b[1;33m.\u001b[0m\u001b[0mdescramble\u001b[0m\u001b[1;33m(\u001b[0m\u001b[1;33m)\u001b[0m\u001b[1;33m\u001b[0m\u001b[1;33m\u001b[0m\u001b[0m\n\u001b[0;32m     96\u001b[0m \u001b[1;33m\u001b[0m\u001b[0m\n",
      "\u001b[1;32m~\\Anaconda3\\lib\\site-packages\\pytube\\__main__.py\u001b[0m in \u001b[0;36mprefetch\u001b[1;34m(self)\u001b[0m\n\u001b[0;32m    171\u001b[0m \u001b[1;33m\u001b[0m\u001b[0m\n\u001b[0;32m    172\u001b[0m         \"\"\"\n\u001b[1;32m--> 173\u001b[1;33m         \u001b[0mself\u001b[0m\u001b[1;33m.\u001b[0m\u001b[0mwatch_html\u001b[0m \u001b[1;33m=\u001b[0m \u001b[0mrequest\u001b[0m\u001b[1;33m.\u001b[0m\u001b[0mget\u001b[0m\u001b[1;33m(\u001b[0m\u001b[0murl\u001b[0m\u001b[1;33m=\u001b[0m\u001b[0mself\u001b[0m\u001b[1;33m.\u001b[0m\u001b[0mwatch_url\u001b[0m\u001b[1;33m)\u001b[0m\u001b[1;33m\u001b[0m\u001b[1;33m\u001b[0m\u001b[0m\n\u001b[0m\u001b[0;32m    174\u001b[0m         if (\n\u001b[0;32m    175\u001b[0m             \u001b[0mself\u001b[0m\u001b[1;33m.\u001b[0m\u001b[0mwatch_html\u001b[0m \u001b[1;32mis\u001b[0m \u001b[1;32mNone\u001b[0m\u001b[1;33m\u001b[0m\u001b[1;33m\u001b[0m\u001b[0m\n",
      "\u001b[1;32m~\\Anaconda3\\lib\\site-packages\\pytube\\request.py\u001b[0m in \u001b[0;36mget\u001b[1;34m(url)\u001b[0m\n\u001b[0;32m     21\u001b[0m         \u001b[0mUTF\u001b[0m\u001b[1;33m-\u001b[0m\u001b[1;36m8\u001b[0m \u001b[0mencoded\u001b[0m \u001b[0mstring\u001b[0m \u001b[0mof\u001b[0m \u001b[0mresponse\u001b[0m\u001b[1;33m\u001b[0m\u001b[1;33m\u001b[0m\u001b[0m\n\u001b[0;32m     22\u001b[0m     \"\"\"\n\u001b[1;32m---> 23\u001b[1;33m     \u001b[1;32mreturn\u001b[0m \u001b[0m_execute_request\u001b[0m\u001b[1;33m(\u001b[0m\u001b[0murl\u001b[0m\u001b[1;33m)\u001b[0m\u001b[1;33m.\u001b[0m\u001b[0mread\u001b[0m\u001b[1;33m(\u001b[0m\u001b[1;33m)\u001b[0m\u001b[1;33m.\u001b[0m\u001b[0mdecode\u001b[0m\u001b[1;33m(\u001b[0m\u001b[1;34m\"utf-8\"\u001b[0m\u001b[1;33m)\u001b[0m\u001b[1;33m\u001b[0m\u001b[1;33m\u001b[0m\u001b[0m\n\u001b[0m\u001b[0;32m     24\u001b[0m \u001b[1;33m\u001b[0m\u001b[0m\n\u001b[0;32m     25\u001b[0m \u001b[1;33m\u001b[0m\u001b[0m\n",
      "\u001b[1;32m~\\Anaconda3\\lib\\site-packages\\pytube\\request.py\u001b[0m in \u001b[0;36m_execute_request\u001b[1;34m(url)\u001b[0m\n\u001b[0;32m      9\u001b[0m     \u001b[1;32mif\u001b[0m \u001b[1;32mnot\u001b[0m \u001b[0murl\u001b[0m\u001b[1;33m.\u001b[0m\u001b[0mlower\u001b[0m\u001b[1;33m(\u001b[0m\u001b[1;33m)\u001b[0m\u001b[1;33m.\u001b[0m\u001b[0mstartswith\u001b[0m\u001b[1;33m(\u001b[0m\u001b[1;34m\"http\"\u001b[0m\u001b[1;33m)\u001b[0m\u001b[1;33m:\u001b[0m\u001b[1;33m\u001b[0m\u001b[1;33m\u001b[0m\u001b[0m\n\u001b[0;32m     10\u001b[0m         \u001b[1;32mraise\u001b[0m \u001b[0mValueError\u001b[0m\u001b[1;33m\u001b[0m\u001b[1;33m\u001b[0m\u001b[0m\n\u001b[1;32m---> 11\u001b[1;33m     \u001b[1;32mreturn\u001b[0m \u001b[0murlopen\u001b[0m\u001b[1;33m(\u001b[0m\u001b[0mRequest\u001b[0m\u001b[1;33m(\u001b[0m\u001b[0murl\u001b[0m\u001b[1;33m,\u001b[0m \u001b[0mheaders\u001b[0m\u001b[1;33m=\u001b[0m\u001b[1;33m{\u001b[0m\u001b[1;34m\"User-Agent\"\u001b[0m\u001b[1;33m:\u001b[0m \u001b[1;34m\"Mozilla/5.0\"\u001b[0m\u001b[1;33m}\u001b[0m\u001b[1;33m)\u001b[0m\u001b[1;33m)\u001b[0m  \u001b[1;31m# nosec\u001b[0m\u001b[1;33m\u001b[0m\u001b[1;33m\u001b[0m\u001b[0m\n\u001b[0m\u001b[0;32m     12\u001b[0m \u001b[1;33m\u001b[0m\u001b[0m\n\u001b[0;32m     13\u001b[0m \u001b[1;33m\u001b[0m\u001b[0m\n",
      "\u001b[1;32m~\\Anaconda3\\lib\\urllib\\request.py\u001b[0m in \u001b[0;36murlopen\u001b[1;34m(url, data, timeout, cafile, capath, cadefault, context)\u001b[0m\n\u001b[0;32m    220\u001b[0m     \u001b[1;32melse\u001b[0m\u001b[1;33m:\u001b[0m\u001b[1;33m\u001b[0m\u001b[1;33m\u001b[0m\u001b[0m\n\u001b[0;32m    221\u001b[0m         \u001b[0mopener\u001b[0m \u001b[1;33m=\u001b[0m \u001b[0m_opener\u001b[0m\u001b[1;33m\u001b[0m\u001b[1;33m\u001b[0m\u001b[0m\n\u001b[1;32m--> 222\u001b[1;33m     \u001b[1;32mreturn\u001b[0m \u001b[0mopener\u001b[0m\u001b[1;33m.\u001b[0m\u001b[0mopen\u001b[0m\u001b[1;33m(\u001b[0m\u001b[0murl\u001b[0m\u001b[1;33m,\u001b[0m \u001b[0mdata\u001b[0m\u001b[1;33m,\u001b[0m \u001b[0mtimeout\u001b[0m\u001b[1;33m)\u001b[0m\u001b[1;33m\u001b[0m\u001b[1;33m\u001b[0m\u001b[0m\n\u001b[0m\u001b[0;32m    223\u001b[0m \u001b[1;33m\u001b[0m\u001b[0m\n\u001b[0;32m    224\u001b[0m \u001b[1;32mdef\u001b[0m \u001b[0minstall_opener\u001b[0m\u001b[1;33m(\u001b[0m\u001b[0mopener\u001b[0m\u001b[1;33m)\u001b[0m\u001b[1;33m:\u001b[0m\u001b[1;33m\u001b[0m\u001b[1;33m\u001b[0m\u001b[0m\n",
      "\u001b[1;32m~\\Anaconda3\\lib\\urllib\\request.py\u001b[0m in \u001b[0;36mopen\u001b[1;34m(self, fullurl, data, timeout)\u001b[0m\n\u001b[0;32m    523\u001b[0m             \u001b[0mreq\u001b[0m \u001b[1;33m=\u001b[0m \u001b[0mmeth\u001b[0m\u001b[1;33m(\u001b[0m\u001b[0mreq\u001b[0m\u001b[1;33m)\u001b[0m\u001b[1;33m\u001b[0m\u001b[1;33m\u001b[0m\u001b[0m\n\u001b[0;32m    524\u001b[0m \u001b[1;33m\u001b[0m\u001b[0m\n\u001b[1;32m--> 525\u001b[1;33m         \u001b[0mresponse\u001b[0m \u001b[1;33m=\u001b[0m \u001b[0mself\u001b[0m\u001b[1;33m.\u001b[0m\u001b[0m_open\u001b[0m\u001b[1;33m(\u001b[0m\u001b[0mreq\u001b[0m\u001b[1;33m,\u001b[0m \u001b[0mdata\u001b[0m\u001b[1;33m)\u001b[0m\u001b[1;33m\u001b[0m\u001b[1;33m\u001b[0m\u001b[0m\n\u001b[0m\u001b[0;32m    526\u001b[0m \u001b[1;33m\u001b[0m\u001b[0m\n\u001b[0;32m    527\u001b[0m         \u001b[1;31m# post-process response\u001b[0m\u001b[1;33m\u001b[0m\u001b[1;33m\u001b[0m\u001b[1;33m\u001b[0m\u001b[0m\n",
      "\u001b[1;32m~\\Anaconda3\\lib\\urllib\\request.py\u001b[0m in \u001b[0;36m_open\u001b[1;34m(self, req, data)\u001b[0m\n\u001b[0;32m    541\u001b[0m         \u001b[0mprotocol\u001b[0m \u001b[1;33m=\u001b[0m \u001b[0mreq\u001b[0m\u001b[1;33m.\u001b[0m\u001b[0mtype\u001b[0m\u001b[1;33m\u001b[0m\u001b[1;33m\u001b[0m\u001b[0m\n\u001b[0;32m    542\u001b[0m         result = self._call_chain(self.handle_open, protocol, protocol +\n\u001b[1;32m--> 543\u001b[1;33m                                   '_open', req)\n\u001b[0m\u001b[0;32m    544\u001b[0m         \u001b[1;32mif\u001b[0m \u001b[0mresult\u001b[0m\u001b[1;33m:\u001b[0m\u001b[1;33m\u001b[0m\u001b[1;33m\u001b[0m\u001b[0m\n\u001b[0;32m    545\u001b[0m             \u001b[1;32mreturn\u001b[0m \u001b[0mresult\u001b[0m\u001b[1;33m\u001b[0m\u001b[1;33m\u001b[0m\u001b[0m\n",
      "\u001b[1;32m~\\Anaconda3\\lib\\urllib\\request.py\u001b[0m in \u001b[0;36m_call_chain\u001b[1;34m(self, chain, kind, meth_name, *args)\u001b[0m\n\u001b[0;32m    501\u001b[0m         \u001b[1;32mfor\u001b[0m \u001b[0mhandler\u001b[0m \u001b[1;32min\u001b[0m \u001b[0mhandlers\u001b[0m\u001b[1;33m:\u001b[0m\u001b[1;33m\u001b[0m\u001b[1;33m\u001b[0m\u001b[0m\n\u001b[0;32m    502\u001b[0m             \u001b[0mfunc\u001b[0m \u001b[1;33m=\u001b[0m \u001b[0mgetattr\u001b[0m\u001b[1;33m(\u001b[0m\u001b[0mhandler\u001b[0m\u001b[1;33m,\u001b[0m \u001b[0mmeth_name\u001b[0m\u001b[1;33m)\u001b[0m\u001b[1;33m\u001b[0m\u001b[1;33m\u001b[0m\u001b[0m\n\u001b[1;32m--> 503\u001b[1;33m             \u001b[0mresult\u001b[0m \u001b[1;33m=\u001b[0m \u001b[0mfunc\u001b[0m\u001b[1;33m(\u001b[0m\u001b[1;33m*\u001b[0m\u001b[0margs\u001b[0m\u001b[1;33m)\u001b[0m\u001b[1;33m\u001b[0m\u001b[1;33m\u001b[0m\u001b[0m\n\u001b[0m\u001b[0;32m    504\u001b[0m             \u001b[1;32mif\u001b[0m \u001b[0mresult\u001b[0m \u001b[1;32mis\u001b[0m \u001b[1;32mnot\u001b[0m \u001b[1;32mNone\u001b[0m\u001b[1;33m:\u001b[0m\u001b[1;33m\u001b[0m\u001b[1;33m\u001b[0m\u001b[0m\n\u001b[0;32m    505\u001b[0m                 \u001b[1;32mreturn\u001b[0m \u001b[0mresult\u001b[0m\u001b[1;33m\u001b[0m\u001b[1;33m\u001b[0m\u001b[0m\n",
      "\u001b[1;32m~\\Anaconda3\\lib\\urllib\\request.py\u001b[0m in \u001b[0;36mhttps_open\u001b[1;34m(self, req)\u001b[0m\n\u001b[0;32m   1358\u001b[0m         \u001b[1;32mdef\u001b[0m \u001b[0mhttps_open\u001b[0m\u001b[1;33m(\u001b[0m\u001b[0mself\u001b[0m\u001b[1;33m,\u001b[0m \u001b[0mreq\u001b[0m\u001b[1;33m)\u001b[0m\u001b[1;33m:\u001b[0m\u001b[1;33m\u001b[0m\u001b[1;33m\u001b[0m\u001b[0m\n\u001b[0;32m   1359\u001b[0m             return self.do_open(http.client.HTTPSConnection, req,\n\u001b[1;32m-> 1360\u001b[1;33m                 context=self._context, check_hostname=self._check_hostname)\n\u001b[0m\u001b[0;32m   1361\u001b[0m \u001b[1;33m\u001b[0m\u001b[0m\n\u001b[0;32m   1362\u001b[0m         \u001b[0mhttps_request\u001b[0m \u001b[1;33m=\u001b[0m \u001b[0mAbstractHTTPHandler\u001b[0m\u001b[1;33m.\u001b[0m\u001b[0mdo_request_\u001b[0m\u001b[1;33m\u001b[0m\u001b[1;33m\u001b[0m\u001b[0m\n",
      "\u001b[1;32m~\\Anaconda3\\lib\\urllib\\request.py\u001b[0m in \u001b[0;36mdo_open\u001b[1;34m(self, http_class, req, **http_conn_args)\u001b[0m\n\u001b[0;32m   1317\u001b[0m                           encode_chunked=req.has_header('Transfer-encoding'))\n\u001b[0;32m   1318\u001b[0m             \u001b[1;32mexcept\u001b[0m \u001b[0mOSError\u001b[0m \u001b[1;32mas\u001b[0m \u001b[0merr\u001b[0m\u001b[1;33m:\u001b[0m \u001b[1;31m# timeout error\u001b[0m\u001b[1;33m\u001b[0m\u001b[1;33m\u001b[0m\u001b[0m\n\u001b[1;32m-> 1319\u001b[1;33m                 \u001b[1;32mraise\u001b[0m \u001b[0mURLError\u001b[0m\u001b[1;33m(\u001b[0m\u001b[0merr\u001b[0m\u001b[1;33m)\u001b[0m\u001b[1;33m\u001b[0m\u001b[1;33m\u001b[0m\u001b[0m\n\u001b[0m\u001b[0;32m   1320\u001b[0m             \u001b[0mr\u001b[0m \u001b[1;33m=\u001b[0m \u001b[0mh\u001b[0m\u001b[1;33m.\u001b[0m\u001b[0mgetresponse\u001b[0m\u001b[1;33m(\u001b[0m\u001b[1;33m)\u001b[0m\u001b[1;33m\u001b[0m\u001b[1;33m\u001b[0m\u001b[0m\n\u001b[0;32m   1321\u001b[0m         \u001b[1;32mexcept\u001b[0m\u001b[1;33m:\u001b[0m\u001b[1;33m\u001b[0m\u001b[1;33m\u001b[0m\u001b[0m\n",
      "\u001b[1;31mURLError\u001b[0m: <urlopen error [Errno 11001] getaddrinfo failed>"
     ]
    }
   ],
   "source": [
    "yt = YouTube(URL_JR)\n",
    "cap = yt.captions.get_by_language_code(ja).generate_srt_captions()\n",
    "print(type(cap))"
   ]
  },
  {
   "cell_type": "code",
   "execution_count": null,
   "metadata": {},
   "outputs": [],
   "source": []
  }
 ],
 "metadata": {
  "kernelspec": {
   "display_name": "Python 3",
   "language": "python",
   "name": "python3"
  },
  "language_info": {
   "codemirror_mode": {
    "name": "ipython",
    "version": 3
   },
   "file_extension": ".py",
   "mimetype": "text/x-python",
   "name": "python",
   "nbconvert_exporter": "python",
   "pygments_lexer": "ipython3",
   "version": "3.7.4"
  }
 },
 "nbformat": 4,
 "nbformat_minor": 2
}
