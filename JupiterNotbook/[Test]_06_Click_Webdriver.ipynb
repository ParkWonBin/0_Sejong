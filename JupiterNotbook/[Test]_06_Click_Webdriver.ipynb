{
 "cells": [
  {
   "cell_type": "markdown",
   "metadata": {},
   "source": [
    "###  Click() Using Selenium.Webdriver"
   ]
  },
  {
   "cell_type": "code",
   "execution_count": 1,
   "metadata": {},
   "outputs": [],
   "source": [
    "from selenium import webdriver\n",
    "\n",
    "driver = webdriver.Chrome('c:/chromedriver')\n",
    "\n",
    "url = 'https://shillahotels.com/membership/mbr/login/memLogin.do?resvYn=Y'\n",
    "driver.get(url)"
   ]
  },
  {
   "cell_type": "markdown",
   "metadata": {},
   "source": [
    "**로그인 버튼 구조 예시**\n",
    "```html\n",
    "<div class=\"loginBtn\">\n",
    "    <a href=\"javascript:loginSubmit();\" title=\"Login\">\n",
    "        <img src=\"#\" alt=\"로그인\" class=\"btnLogin\">\n",
    "    </a>\n",
    "</div>```"
   ]
  },
  {
   "cell_type": "markdown",
   "metadata": {},
   "source": [
    "**방법1 : xpath**  \n",
    "원리 : 웹페이지에서 직접 노드로 접근하는 경로(path)를 지정함.   \n",
    "장점 : ID/Class 값이 없는 태크, 복잡한 경로에서 유용함.   \n",
    "단점 : 웹구조가 실시간으로 변하는 페이지의 경우 경로가 수시로 바뀔 수 있음   \n",
    "문법 : [정리된 블로그](https://funylife.tistory.com/entry/2-XPath%EC%9D%98-%EA%B8%B0%EB%B3%B8%EB%AC%B8%EB%B2%95%EC%9D%84-%EC%95%8C%EC%95%84%EB%B3%B4%EC%9E%90)"
   ]
  },
  {
   "cell_type": "code",
   "execution_count": 5,
   "metadata": {},
   "outputs": [],
   "source": [
    "driver.find_element_by_xpath('//*[@id=\"loginForm\"]/div[3]/a').click() "
   ]
  },
  {
   "cell_type": "markdown",
   "metadata": {},
   "source": [
    "**방법2 : 상위테그 클릭**  \n",
    "원리 : ID/Class가 있는 상위 태그를 클릭"
   ]
  },
  {
   "cell_type": "code",
   "execution_count": 8,
   "metadata": {},
   "outputs": [],
   "source": [
    "driver.find_element_by_class_name(\"btnLogin\").click()"
   ]
  },
  {
   "cell_type": "markdown",
   "metadata": {},
   "source": [
    "**방법3 : 엔터 입력**  \n",
    "원리 : 비밀번호 입력 후 키보드로 엔터입력"
   ]
  },
  {
   "cell_type": "code",
   "execution_count": 6,
   "metadata": {},
   "outputs": [],
   "source": [
    "from selenium.webdriver.common.keys import Keys\n",
    "driver.find_element_by_id('j_password').send_keys(Keys.ENTER)    "
   ]
  },
  {
   "cell_type": "markdown",
   "metadata": {},
   "source": [
    "**방법4 : 클릭 스크립트 실행**  \n",
    "설명 : click()이 안될 때 클릭 스크립트를 실행"
   ]
  },
  {
   "cell_type": "code",
   "execution_count": 7,
   "metadata": {
    "scrolled": true
   },
   "outputs": [],
   "source": [
    "btn = driver.find_element_by_class_name(\"btnLogin\")\n",
    "driver.execute_async_script(\"arguments[0].click();\",btn)"
   ]
  },
  {
   "cell_type": "markdown",
   "metadata": {},
   "source": [
    "[**클릭 구현하는 다른 방법**](https://m.blog.naver.com/PostView.nhn?blogId=baek2sm&logNo=221425492875&proxyReferer=https%3A%2F%2Fwww.google.com%2F)"
   ]
  },
  {
   "cell_type": "code",
   "execution_count": null,
   "metadata": {},
   "outputs": [],
   "source": []
  }
 ],
 "metadata": {
  "kernelspec": {
   "display_name": "Python 3",
   "language": "python",
   "name": "python3"
  },
  "language_info": {
   "codemirror_mode": {
    "name": "ipython",
    "version": 3
   },
   "file_extension": ".py",
   "mimetype": "text/x-python",
   "name": "python",
   "nbconvert_exporter": "python",
   "pygments_lexer": "ipython3",
   "version": "3.7.4"
  }
 },
 "nbformat": 4,
 "nbformat_minor": 2
}
