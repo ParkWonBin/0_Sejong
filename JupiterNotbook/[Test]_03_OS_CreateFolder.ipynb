{
 "cells": [
  {
   "cell_type": "markdown",
   "metadata": {},
   "source": [
    "### OS : 폴더 만들기  \n",
    "역할 : 경로 및 폴더 관리\n"
   ]
  },
  {
   "cell_type": "code",
   "execution_count": null,
   "metadata": {},
   "outputs": [],
   "source": [
    "import os                     # 폴더 경로 설정용\n",
    "\n",
    "# 폴더 만들기 함수 \n",
    "def createFolder(directory):\n",
    "    try:\n",
    "        # 존재하지 않는 경로를 입력받으면 폴더 생성\n",
    "        if not os.path.exists(directory):\n",
    "            os.makedirs(directory)         \n",
    "            \n",
    "    except OSError:\n",
    "        # 이 함수 때문에 에러 생기면 콘솔에 표시하도록 만듬\n",
    "        print('Error: Creating directory. ' + directory)"
   ]
  },
  {
   "cell_type": "markdown",
   "metadata": {},
   "source": [
    "**참고자료**\n",
    "- [Python 경로 및 폴더 생성/제거](https://rfriend.tistory.com/429)   \n",
    "- [파일과 디렉토리 경로 다루기](http://pythonstudy.xyz/python/article/507-%ED%8C%8C%EC%9D%BC%EA%B3%BC-%EB%94%94%EB%A0%89%ED%86%A0%EB%A6%AC)"
   ]
  },
  {
   "cell_type": "code",
   "execution_count": null,
   "metadata": {},
   "outputs": [],
   "source": []
  }
 ],
 "metadata": {
  "kernelspec": {
   "display_name": "Python 3",
   "language": "python",
   "name": "python3"
  },
  "language_info": {
   "codemirror_mode": {
    "name": "ipython",
    "version": 3
   },
   "file_extension": ".py",
   "mimetype": "text/x-python",
   "name": "python",
   "nbconvert_exporter": "python",
   "pygments_lexer": "ipython3",
   "version": "3.7.4"
  }
 },
 "nbformat": 4,
 "nbformat_minor": 2
}
