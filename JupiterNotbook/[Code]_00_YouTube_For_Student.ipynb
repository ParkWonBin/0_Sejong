{
 "cells": [
  {
   "cell_type": "markdown",
   "metadata": {},
   "source": [
    "## 유튜브 다운로드"
   ]
  },
  {
   "cell_type": "markdown",
   "metadata": {},
   "source": [
    "**1. pytube3 다운로드**"
   ]
  },
  {
   "cell_type": "code",
   "execution_count": 2,
   "metadata": {
    "scrolled": false
   },
   "outputs": [
    {
     "name": "stdout",
     "output_type": "stream",
     "text": [
      "Requirement already satisfied: pytube3 in c:\\users\\pwb11\\anaconda3\\lib\\site-packages (9.6.1)\n",
      "Requirement already satisfied: typing-extensions in c:\\users\\pwb11\\anaconda3\\lib\\site-packages (from pytube3) (3.7.4.1)\n"
     ]
    }
   ],
   "source": [
    "! pip install pytube3"
   ]
  },
  {
   "cell_type": "markdown",
   "metadata": {},
   "source": [
    "**2. pytube3.YouTube 불러오기**"
   ]
  },
  {
   "cell_type": "code",
   "execution_count": 1,
   "metadata": {},
   "outputs": [],
   "source": [
    "from pytube import YouTube"
   ]
  },
  {
   "cell_type": "markdown",
   "metadata": {},
   "source": [
    "**3. 폴더 생성**"
   ]
  },
  {
   "cell_type": "code",
   "execution_count": 5,
   "metadata": {},
   "outputs": [],
   "source": [
    "import os\n",
    "\n",
    "UserName = \"pwb11\"                                 # 본인 컴퓨터 사용자 계정\n",
    "forderName = \"0_sejong\"                            # 폴더명\n",
    "forderPath = f\"c:/Users/{UserName}/{forderName}/\"  # 주피터 기본 경로 + 폴더명\n",
    "\n",
    "if not os.path.exists(forderPath):os.makedirs(forderPath) "
   ]
  },
  {
   "cell_type": "markdown",
   "metadata": {},
   "source": [
    "os.makedirs(“경로”) :    \n",
    "해당 경로에 폴더를 만드는 명령    \n",
    "\n",
    "f-string :    \n",
    "파이썬 3.6이상에서는 format 문자열을 접두사 f를 붙여     \n",
    "다음과 같이 나타낼 수 있다. f“문자열{변수명}내용”\n"
   ]
  },
  {
   "cell_type": "markdown",
   "metadata": {},
   "source": [
    "**4. YouTube 영상 정보 확인**"
   ]
  },
  {
   "cell_type": "code",
   "execution_count": 2,
   "metadata": {},
   "outputs": [
    {
     "name": "stdout",
     "output_type": "stream",
     "text": [
      "영상 제목 : [세종대학교/Sejong University] ★솔직한 학과이야기★_호텔관광대\n",
      "영상 길이 : 610 초\n",
      "영상 평점 : 4.9310346\n",
      "연령 제한 : False\n",
      "영상 게시자 : 세종대학교\n",
      "영상 썸네일 : https://i.ytimg.com/vi/zCaDXYjGDbE/maxresdefault.jpg\n",
      "영상 조회수 :  5931\n",
      "영상 설명글 :  안녕하세요 세온입니다!\n",
      "세종대학교 솔직한 학과이야기!\n",
      "이번에 들려드릴 학과 이야기는 바로 바로 ~~\n",
      "'호텔관광대' 랍니다!\n",
      "QS 세계대학평가에서 국내 1위를 차지한 세종대학교 호텔관광대! +_+\n",
      "평소에 호텔관광대에 대해 궁금했던 이야기들을\n",
      "지금 영상에서 확인해보세요~ X)\n",
      "세종대의 더 많은 소식을 듣고 싶다면?\n",
      "☞세종대 페이스북 : https://www.facebook.com/sejongpr/\n",
      "☞세종대 블로그 : https://blog.naver.com/sejong_univ\n",
      "☞세종대 인스타그램 : https://www.instagram.com/sejong_univ/\n"
     ]
    }
   ],
   "source": [
    "youtube_url = \"https://www.youtube.com/watch?v=zCaDXYjGDbE\"\n",
    "yt = YouTube(youtube_url)\n",
    "\n",
    "print(\"영상 제목 :\",   yt.title)\n",
    "print(\"영상 길이 :\",   yt.length,\"초\")\n",
    "print(\"영상 평점 :\",   yt.rating)\n",
    "print(\"연령 제한 :\",   yt.age_restricted)\n",
    "print(\"영상 게시자 :\", yt.author) \n",
    "print(\"영상 썸네일 :\", yt.thumbnail_url)\n",
    "print(\"영상 조회수 : \",yt.views)\n",
    "print(\"영상 설명글 : \",yt.description.strip())"
   ]
  },
  {
   "cell_type": "markdown",
   "metadata": {},
   "source": [
    "**5.stream Query 객체 생성**"
   ]
  },
  {
   "cell_type": "code",
   "execution_count": 3,
   "metadata": {},
   "outputs": [
    {
     "name": "stdout",
     "output_type": "stream",
     "text": [
      "stream 객체 전체보기 :\n",
      "0  :  <Stream: itag=\"18\" mime_type=\"video/mp4\" res=\"360p\" fps=\"30fps\" vcodec=\"avc1.42001E\" acodec=\"mp4a.40.2\" progressive=\"True\" type=\"video\">\n",
      "1  :  <Stream: itag=\"22\" mime_type=\"video/mp4\" res=\"720p\" fps=\"30fps\" vcodec=\"avc1.64001F\" acodec=\"mp4a.40.2\" progressive=\"True\" type=\"video\">\n",
      "2  :  <Stream: itag=\"137\" mime_type=\"video/mp4\" res=\"1080p\" fps=\"30fps\" vcodec=\"avc1.640028\" progressive=\"False\" type=\"video\">\n",
      "3  :  <Stream: itag=\"248\" mime_type=\"video/webm\" res=\"1080p\" fps=\"30fps\" vcodec=\"vp9\" progressive=\"False\" type=\"video\">\n",
      "4  :  <Stream: itag=\"136\" mime_type=\"video/mp4\" res=\"720p\" fps=\"30fps\" vcodec=\"avc1.4d4016\" progressive=\"False\" type=\"video\">\n",
      "5  :  <Stream: itag=\"247\" mime_type=\"video/webm\" res=\"720p\" fps=\"30fps\" vcodec=\"vp9\" progressive=\"False\" type=\"video\">\n",
      "6  :  <Stream: itag=\"135\" mime_type=\"video/mp4\" res=\"480p\" fps=\"30fps\" vcodec=\"avc1.4d4014\" progressive=\"False\" type=\"video\">\n",
      "7  :  <Stream: itag=\"244\" mime_type=\"video/webm\" res=\"480p\" fps=\"30fps\" vcodec=\"vp9\" progressive=\"False\" type=\"video\">\n",
      "8  :  <Stream: itag=\"134\" mime_type=\"video/mp4\" res=\"360p\" fps=\"30fps\" vcodec=\"avc1.4d401e\" progressive=\"False\" type=\"video\">\n",
      "9  :  <Stream: itag=\"243\" mime_type=\"video/webm\" res=\"360p\" fps=\"30fps\" vcodec=\"vp9\" progressive=\"False\" type=\"video\">\n",
      "10  :  <Stream: itag=\"133\" mime_type=\"video/mp4\" res=\"240p\" fps=\"30fps\" vcodec=\"avc1.4d400c\" progressive=\"False\" type=\"video\">\n",
      "11  :  <Stream: itag=\"242\" mime_type=\"video/webm\" res=\"240p\" fps=\"30fps\" vcodec=\"vp9\" progressive=\"False\" type=\"video\">\n",
      "12  :  <Stream: itag=\"160\" mime_type=\"video/mp4\" res=\"144p\" fps=\"30fps\" vcodec=\"avc1.4d400b\" progressive=\"False\" type=\"video\">\n",
      "13  :  <Stream: itag=\"278\" mime_type=\"video/webm\" res=\"144p\" fps=\"30fps\" vcodec=\"vp9\" progressive=\"False\" type=\"video\">\n",
      "14  :  <Stream: itag=\"140\" mime_type=\"audio/mp4\" abr=\"128kbps\" acodec=\"mp4a.40.2\" progressive=\"False\" type=\"audio\">\n",
      "15  :  <Stream: itag=\"251\" mime_type=\"audio/webm\" abr=\"160kbps\" acodec=\"opus\" progressive=\"False\" type=\"audio\">\n"
     ]
    }
   ],
   "source": [
    "# streamQuery 객체를 생성\n",
    "yt_streams = yt.streams\n",
    "\n",
    "print(\"stream 객체 전체보기 :\") \n",
    "yt_streams_list = yt_streams.all()   \n",
    "for i in range(len(yt_streams_list)) : print(i, \" : \", yt_streams_list[i])"
   ]
  },
  {
   "cell_type": "markdown",
   "metadata": {},
   "source": [
    "**6. YouTube mp4 확장자만 표시**"
   ]
  },
  {
   "cell_type": "markdown",
   "metadata": {},
   "source": [
    "참고사항\n",
    "1. [유튜브 영상/자막 다운로드](https://kiddwannabe.blog.me/221790727905)\n",
    "1. [pytube API](https://pypi.org/project/pytube3/)\n",
    "1. [pytube Guide](https://pytube3.readthedocs.io/en/latest/)"
   ]
  },
  {
   "cell_type": "code",
   "execution_count": 1,
   "metadata": {
    "scrolled": false
   },
   "outputs": [],
   "source": [
    "# Do it yourself"
   ]
  },
  {
   "cell_type": "markdown",
   "metadata": {},
   "source": [
    "**7. YouTube 다운로드**"
   ]
  },
  {
   "cell_type": "code",
   "execution_count": 2,
   "metadata": {
    "scrolled": true
   },
   "outputs": [],
   "source": [
    "# Do it yourself"
   ]
  },
  {
   "cell_type": "markdown",
   "metadata": {},
   "source": [
    "**ex1. progressive False 다운로드 시도**"
   ]
  },
  {
   "cell_type": "code",
   "execution_count": null,
   "metadata": {},
   "outputs": [
    {
     "name": "stdout",
     "output_type": "stream",
     "text": [
      "고화질 mp4 화질순 정렬 :\n",
      "0  :  <Stream: itag=\"18\" mime_type=\"video/mp4\" res=\"360p\" fps=\"30fps\" vcodec=\"avc1.42001E\" acodec=\"mp4a.40.2\" progressive=\"True\" type=\"video\">\n",
      "1  :  <Stream: itag=\"22\" mime_type=\"video/mp4\" res=\"720p\" fps=\"30fps\" vcodec=\"avc1.64001F\" acodec=\"mp4a.40.2\" progressive=\"True\" type=\"video\">\n",
      "2  :  <Stream: itag=\"137\" mime_type=\"video/mp4\" res=\"1080p\" fps=\"30fps\" vcodec=\"avc1.640028\" progressive=\"False\" type=\"video\">\n",
      "3  :  <Stream: itag=\"136\" mime_type=\"video/mp4\" res=\"720p\" fps=\"30fps\" vcodec=\"avc1.4d4016\" progressive=\"False\" type=\"video\">\n",
      "4  :  <Stream: itag=\"135\" mime_type=\"video/mp4\" res=\"480p\" fps=\"30fps\" vcodec=\"avc1.4d4014\" progressive=\"False\" type=\"video\">\n"
     ]
    }
   ],
   "source": [
    "# progressive False 파일을 다운로드 하려고 하면 HTTP 404 오류가 뜬다.\n",
    "yt_mp4 = yt_streams.filter(progressive=False, file_extension='mp4').all()\n",
    "print(\"고화질 mp4 화질순 정렬 :\") \n",
    "for i in range(5) : print(i, \" : \", yt_mp4[i])\n",
    "    \n",
    "num = int(input(\"영상을 선택하세요.\"))\n",
    "yt_mp4[num].download(forderPath) # 기본 경로는 현제 주피터노트북 파일 위치"
   ]
  },
  {
   "cell_type": "markdown",
   "metadata": {},
   "source": [
    "#### ex2. 영상 다운로드(간소화)"
   ]
  },
  {
   "cell_type": "code",
   "execution_count": 11,
   "metadata": {
    "scrolled": true
   },
   "outputs": [
    {
     "data": {
      "text/plain": [
       "'C:\\\\Users\\\\pwb11\\\\PythonStudy\\\\JupiterNotbook\\\\[세종대학교Sejong University] ★솔직한 학과이야기★_호텔관광대.mp4'"
      ]
     },
     "execution_count": 11,
     "metadata": {},
     "output_type": "execute_result"
    }
   ],
   "source": [
    "from pytube import YouTube\n",
    "\n",
    "YouTube('https://www.youtube.com/watch?v=zCaDXYjGDbE').streams. \\\n",
    "    filter(progressive=True, file_extension='mp4').first().download(forderPath)"
   ]
  },
  {
   "cell_type": "markdown",
   "metadata": {},
   "source": [
    "#### 유튜브 명령어 관련"
   ]
  },
  {
   "cell_type": "markdown",
   "metadata": {},
   "source": [
    "참고사항\n",
    "1. [유튜브 영상/자막 다운로드](https://kiddwannabe.blog.me/221790727905)\n",
    "1. [pytube API](https://pypi.org/project/pytube3/)\n",
    "1. [pytube Guide](https://pytube3.readthedocs.io/en/latest/)\n",
    "1. [유튜브 비디오 다운로드](https://yagisanatode.com/2018/03/09/how-do-i-download-youtube-videos-with-python-3-using-pytube/)\n",
    "\n",
    "중요한거\n",
    "1. [제일 잘 정리된 블로그](https://m.blog.naver.com/skyshin0304/221620513883)\n",
    "1. [stream 관련 정리](https://python-pytube.readthedocs.io/en/latest/user/quickstart.html)\n",
    "1. [pytube3 API](https://pytube3.readthedocs.io/en/latest/api.html#youtube-object)\n",
    "1. [403에러 뜰 때](https://m.blog.naver.com/PostView.nhn?blogId=skyshin0304&logNo=221619995838&proxyReferer=https%3A%2F%2Fwww.google.com%2F)\n",
    "\n",
    "심화내용\n",
    "1. [유튜브 mp3 변환](https://niceman.tistory.com/92)\n",
    "1. [뷰티플스프 크롤링](https://jh-0323.tistory.com/entry/%ED%8C%8C%EC%9D%B4%EC%8D%AC%EC%9D%84-%EC%9D%B4%EC%9A%A9%ED%95%9C-%EC%9C%A0%ED%8A%9C%EB%B8%8C-%EC%B1%84%EB%84%90-%ED%81%AC%EB%A1%A4%EB%A7%81-csv%ED%8C%8C%EC%9D%BC%EB%A1%9C-%EB%A7%8C%EB%93%A4%EA%B8%B0)\n",
    "1. [셀레늄으로 크롤링](https://shinminyong.tistory.com/2?category=835486) "
   ]
  }
 ],
 "metadata": {
  "kernelspec": {
   "display_name": "Python 3",
   "language": "python",
   "name": "python3"
  },
  "language_info": {
   "codemirror_mode": {
    "name": "ipython",
    "version": 3
   },
   "file_extension": ".py",
   "mimetype": "text/x-python",
   "name": "python",
   "nbconvert_exporter": "python",
   "pygments_lexer": "ipython3",
   "version": "3.7.4"
  }
 },
 "nbformat": 4,
 "nbformat_minor": 2
}
