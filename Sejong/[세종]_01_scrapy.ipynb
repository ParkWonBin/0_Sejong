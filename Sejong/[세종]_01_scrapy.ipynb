{
 "cells": [
  {
   "cell_type": "markdown",
   "metadata": {},
   "source": [
    "## scrapy 다운로드"
   ]
  },
  {
   "cell_type": "markdown",
   "metadata": {},
   "source": [
    "#### 주의 :\n",
    "1. 주피터 노트북 안에서 터미널 명령어 쓸 때는 느낌표(!)를 써야한다.\n",
    "2. 다운로드가 너무 오래걸려서 답답하면 터미널을 이용하다. (주피터 메인페이지 - New - Terminar)"
   ]
  },
  {
   "cell_type": "code",
   "execution_count": 2,
   "metadata": {
    "collapsed": true
   },
   "outputs": [
    {
     "name": "stdout",
     "output_type": "stream",
     "text": [
      "Collecting scrapy\n",
      "  Using cached Scrapy-1.8.0-py2.py3-none-any.whl (238 kB)\n",
      "Collecting PyDispatcher>=2.0.5\n",
      "  Using cached PyDispatcher-2.0.5.tar.gz (34 kB)\n",
      "Requirement already satisfied: lxml>=3.5.0 in c:\\users\\pwb11\\anaconda3\\lib\\site-packages (from scrapy) (4.4.1)\n",
      "Collecting queuelib>=1.4.2\n",
      "  Using cached queuelib-1.5.0-py2.py3-none-any.whl (13 kB)\n",
      "Collecting cssselect>=0.9.1\n",
      "  Using cached cssselect-1.1.0-py2.py3-none-any.whl (16 kB)\n",
      "Requirement already satisfied: six>=1.10.0 in c:\\users\\pwb11\\anaconda3\\lib\\site-packages (from scrapy) (1.12.0)\n",
      "Collecting w3lib>=1.17.0\n",
      "  Using cached w3lib-1.21.0-py2.py3-none-any.whl (20 kB)\n",
      "Collecting Twisted>=17.9.0; python_version >= \"3.5\"\n",
      "  Using cached Twisted-19.10.0-cp37-cp37m-win_amd64.whl (3.1 MB)\n",
      "Requirement already satisfied: pyOpenSSL>=16.2.0 in c:\\users\\pwb11\\anaconda3\\lib\\site-packages (from scrapy) (19.0.0)\n",
      "Collecting protego>=0.1.15\n",
      "  Using cached Protego-0.1.16.tar.gz (3.2 MB)\n",
      "Requirement already satisfied: cryptography>=2.0 in c:\\users\\pwb11\\anaconda3\\lib\\site-packages (from scrapy) (2.7)\n",
      "Collecting parsel>=1.5.0\n",
      "  Downloading parsel-1.5.2-py2.py3-none-any.whl (12 kB)\n",
      "Collecting zope.interface>=4.1.3\n",
      "  Using cached zope.interface-4.7.1-cp37-cp37m-win_amd64.whl (134 kB)\n",
      "Collecting service-identity>=16.0.0\n",
      "  Using cached service_identity-18.1.0-py2.py3-none-any.whl (11 kB)\n",
      "Collecting constantly>=15.1\n",
      "  Downloading constantly-15.1.0-py2.py3-none-any.whl (7.9 kB)\n",
      "Collecting hyperlink>=17.1.1\n",
      "  Downloading hyperlink-19.0.0-py2.py3-none-any.whl (38 kB)\n",
      "Requirement already satisfied: attrs>=17.4.0 in c:\\users\\pwb11\\anaconda3\\lib\\site-packages (from Twisted>=17.9.0; python_version >= \"3.5\"->scrapy) (19.2.0)\n",
      "Collecting Automat>=0.3.0\n",
      "  Downloading Automat-0.8.0-py2.py3-none-any.whl (31 kB)\n",
      "Collecting incremental>=16.10.1\n",
      "  Downloading incremental-17.5.0-py2.py3-none-any.whl (16 kB)\n",
      "Collecting PyHamcrest>=1.9.0\n",
      "  Downloading PyHamcrest-2.0.0-py3-none-any.whl (51 kB)\n",
      "Requirement already satisfied: cffi!=1.11.3,>=1.8 in c:\\users\\pwb11\\anaconda3\\lib\\site-packages (from cryptography>=2.0->scrapy) (1.12.3)\n",
      "Requirement already satisfied: asn1crypto>=0.21.0 in c:\\users\\pwb11\\anaconda3\\lib\\site-packages (from cryptography>=2.0->scrapy) (1.0.1)\n",
      "Requirement already satisfied: setuptools in c:\\users\\pwb11\\anaconda3\\lib\\site-packages (from zope.interface>=4.1.3->scrapy) (41.4.0)\n",
      "Collecting pyasn1\n",
      "  Downloading pyasn1-0.4.8-py2.py3-none-any.whl (77 kB)\n",
      "Collecting pyasn1-modules\n",
      "  Downloading pyasn1_modules-0.2.8-py2.py3-none-any.whl (155 kB)\n",
      "Requirement already satisfied: idna>=2.5 in c:\\users\\pwb11\\anaconda3\\lib\\site-packages (from hyperlink>=17.1.1->Twisted>=17.9.0; python_version >= \"3.5\"->scrapy) (2.8)\n",
      "Requirement already satisfied: pycparser in c:\\users\\pwb11\\anaconda3\\lib\\site-packages (from cffi!=1.11.3,>=1.8->cryptography>=2.0->scrapy) (2.19)\n",
      "Building wheels for collected packages: PyDispatcher, protego\n",
      "  Building wheel for PyDispatcher (setup.py): started\n",
      "  Building wheel for PyDispatcher (setup.py): finished with status 'done'\n",
      "  Created wheel for PyDispatcher: filename=PyDispatcher-2.0.5-py3-none-any.whl size=12551 sha256=4e76442c22c6bf4c24c34ce4e98659c462aa01aae2021d30772ef3a792cdedd3\n",
      "  Stored in directory: c:\\users\\pwb11\\appdata\\local\\pip\\cache\\wheels\\dc\\d0\\bf\\0cc715c01fce0bace63b46283acf5cc630d5e5dbb4602c54e5\n",
      "  Building wheel for protego (setup.py): started\n",
      "  Building wheel for protego (setup.py): finished with status 'done'\n",
      "  Created wheel for protego: filename=Protego-0.1.16-py3-none-any.whl size=7769 sha256=476e6abd442551c2e1c6155b9219a51e6856ab03e91e9e597438a28c042cafc1\n",
      "  Stored in directory: c:\\users\\pwb11\\appdata\\local\\pip\\cache\\wheels\\ca\\44\\01\\3592ccfbcfaee4ab297c4097e6e9dbe1c7697e3531a39877ab\n",
      "Successfully built PyDispatcher protego\n",
      "Installing collected packages: PyDispatcher, queuelib, cssselect, w3lib, constantly, hyperlink, zope.interface, Automat, incremental, PyHamcrest, Twisted, protego, parsel, pyasn1, pyasn1-modules, service-identity, scrapy\n",
      "Successfully installed Automat-0.8.0 PyDispatcher-2.0.5 PyHamcrest-2.0.0 Twisted-19.10.0 constantly-15.1.0 cssselect-1.1.0 hyperlink-19.0.0 incremental-17.5.0 parsel-1.5.2 protego-0.1.16 pyasn1-0.4.8 pyasn1-modules-0.2.8 queuelib-1.5.0 scrapy-1.8.0 service-identity-18.1.0 w3lib-1.21.0 zope.interface-4.7.1\n"
     ]
    }
   ],
   "source": [
    "! pip install scrapy"
   ]
  },
  {
   "cell_type": "markdown",
   "metadata": {},
   "source": [
    "### dos 명령어\n",
    "\n",
    "주피터 터미널 or cmd에서 아래 내용을 입력\n",
    "1. 루트폴더로 이동 <br>\n",
    "```cd C:\\Users\\pwb11\\OneDrive\\문서``` <br>\n",
    " cd : Change Directory 폴더 변경<br><br>\n",
    "\n",
    "2. scrapy 설치 <br>\n",
    "```pip install scrapy``` <br><br>\n",
    "3. 설치되었는지 확인 <br>\n",
    "``` scrapy``` <br><br>\n",
    "4. 폴더 만들기 <br>\n",
    "``` startproject hanbit_media``` <br><br>\n",
    "\n",
    "### Jupyter Notebook 돌아오기\n",
    "5. 생성된 폴더 들어가기\n",
    "경로 : C:\\Users\\pwb11\\OneDrive\\문서\\hanbit_media\n",
    "\n",
    "6. items.py 파일로 들어가기\n",
    "경로 : C:\\Users\\pwb11\\OneDrive\\문서\\hanbit_media\\hanbit_media\\items.py\n",
    "\n"
   ]
  },
  {
   "cell_type": "code",
   "execution_count": null,
   "metadata": {},
   "outputs": [],
   "source": []
  }
 ],
 "metadata": {
  "kernelspec": {
   "display_name": "Python 3",
   "language": "python",
   "name": "python3"
  },
  "language_info": {
   "codemirror_mode": {
    "name": "ipython",
    "version": 3
   },
   "file_extension": ".py",
   "mimetype": "text/x-python",
   "name": "python",
   "nbconvert_exporter": "python",
   "pygments_lexer": "ipython3",
   "version": "3.7.4"
  }
 },
 "nbformat": 4,
 "nbformat_minor": 2
}
