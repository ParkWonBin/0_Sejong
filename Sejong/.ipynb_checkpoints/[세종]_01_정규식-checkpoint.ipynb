{
 "cells": [
  {
   "cell_type": "markdown",
   "metadata": {},
   "source": [
    "## 정규식"
   ]
  },
  {
   "cell_type": "markdown",
   "metadata": {},
   "source": [
    "#### 1. 주민등록번호 뒷자리 숨기기\n",
    "**전체 코드**"
   ]
  },
  {
   "cell_type": "code",
   "execution_count": 32,
   "metadata": {
    "scrolled": true
   },
   "outputs": [
    {
     "name": "stdout",
     "output_type": "stream",
     "text": [
      "\n",
      "park 941128-*******\n",
      "kim 741113-******* \n",
      "\n"
     ]
    }
   ],
   "source": [
    "import re \n",
    "\n",
    "data = \"\"\"\n",
    "park 941128-1234567\n",
    "kim 741113-1234567 \n",
    "\"\"\"\n",
    "\n",
    "pat = re.compile(\"(\\d{6})[-]\\d{7}\")\n",
    "print(pat.sub(\"\\g<1>-*******\",data))"
   ]
  },
  {
   "cell_type": "markdown",
   "metadata": {},
   "source": [
    "### 따라하기\n",
    "#### import re"
   ]
  },
  {
   "cell_type": "code",
   "execution_count": null,
   "metadata": {},
   "outputs": [],
   "source": [
    "import re # 정규식 "
   ]
  },
  {
   "cell_type": "markdown",
   "metadata": {},
   "source": [
    "pat : 패턴(pattern)   \n",
    "compile : 한꺼번에 돌리다.    \n",
    "\\d : isdigit()  "
   ]
  },
  {
   "cell_type": "code",
   "execution_count": 34,
   "metadata": {},
   "outputs": [
    {
     "name": "stdout",
     "output_type": "stream",
     "text": [
      "re.compile('(\\\\d{6}[-]\\\\d{7})')\n",
      "\n",
      "park 941128-1234567-******\n",
      "kim 741113-1234567-****** \n",
      "\n"
     ]
    }
   ],
   "source": [
    "pat=re.compile(\"(\\d{6}[-]\\d{7})\")\n",
    "print(pat)\n",
    "print(pat.sub(\"\\g<1>-******\",data))\n"
   ]
  },
  {
   "cell_type": "markdown",
   "metadata": {},
   "source": [
    "\n",
    " \\d : isdigit함수와 같은거 (숫자냐고 묻는 것임)    \n",
    "#문자 패턴 선택할 떄는 중괄호{}에 넣음   \n",
    " \"-\" 의 경우 문자 그대로 출력되기 때문에  대괄호[] 안에 넣음   \n",
    " \n",
    " \n",
    " g<n> 의미 : n번쨰 괄호라는 의미O \n",
    "    \n",
    "    \n",
    "    \n",
    "    $ : 첫줄의 맨끝    \n",
    "$. re.multiline : 각줄의 맨끝      \n",
    "     /Z 각줄의 맨 끝    "
   ]
  },
  {
   "cell_type": "code",
   "execution_count": 8,
   "metadata": {},
   "outputs": [
    {
     "name": "stdout",
     "output_type": "stream",
     "text": [
      "\n",
      "partk 941128-*******\n",
      "kim 741113-*******\n",
      "\n"
     ]
    }
   ],
   "source": [
    "result = [] # 전체 결과를 저장하는 변수\n",
    "for line in data.split(\"\\n\"): # data에서 한 줄 단위로 짤라서 line 변수에 대입\n",
    "    # print(\"1. \" + line)\n",
    "    word_result = [] # for 구문의 결과를 저장하는 변수\n",
    "    for word in line.split(\" \"): # 첫 줄, 마지막 줄 제외, 두 번째, 세 번째 줄 띄어쓰기 있는 부분\n",
    "        # print(\"2. \" + word) # park / 800905-1049118 / kim / 700905-1059119\n",
    "        if len(word) == 14 and word[:6].isdigit() and word[7:].isdigit():\n",
    "            word = word[:6] + \"-\" + \"*******\"\n",
    "            # print(\"3. \" + word)\n",
    "        word_result.append(word)\n",
    "        # print(\"4: \" + str(word_result))\n",
    "    result.append(\" \".join(word_result))\n",
    "    # print(\"5: \" + str(result))\n",
    "print(\"\\n\".join(result))"
   ]
  },
  {
   "cell_type": "markdown",
   "metadata": {},
   "source": [
    "#### 정규식 필터처럼 사용하기"
   ]
  },
  {
   "cell_type": "code",
   "execution_count": 45,
   "metadata": {},
   "outputs": [
    {
     "name": "stdout",
     "output_type": "stream",
     "text": [
      "<re.Match object; span=(6, 9), match='박원빈'>\n",
      "None\n"
     ]
    }
   ],
   "source": [
    "import re\n",
    "\n",
    "p = re.compile(r'\\b박원빈\\b')\n",
    "print( p.search('안녕하세요 박원빈 입니다.')) #이름 뒤에 띄어쓰기\n",
    "\n",
    "p = re.compile(r'\\b박원빈\\b')\n",
    "print( p.search('안녕하세요 박원빈입니다.')) #이름 뒤에 띄어쓰기 없음"
   ]
  },
  {
   "cell_type": "markdown",
   "metadata": {},
   "source": [
    ". : /n 을 제외한 모든 문자 <br>\n",
    "\\* : 0개 이상 <br>\n",
    "\\+ : 하나 이상 <br>\n",
    "\\^ : 시작 (^a : a로 시작하는 것) <br>\n",
    "\\\\$ : 끝 (b$ : b로 끝나는 것) <br>\n",
    "\n",
    "/w : 글자 <br>\n",
    "/s : white space <br>\n",
    "/S : select all str exepet  white space (대문자는 부정문 생각) <br>\n",
    "/b : 스페이스바 <br>\n",
    "/B : 스페이스바외에 모든 것 <br>\n",
    "\n",
    "- 참고 : [점프투파이썬 위키 7-2](https://wikidocs.net/4308)"
   ]
  },
  {
   "cell_type": "code",
   "execution_count": 54,
   "metadata": {},
   "outputs": [
    {
     "name": "stdout",
     "output_type": "stream",
     "text": [
      "park 010-1234-5678\n",
      "park\n",
      "010-1234-5678\n"
     ]
    }
   ],
   "source": [
    "# 구룹핑\n",
    "import re\n",
    "\n",
    "p = re.compile(r\"(\\w+)\\s+(\\d+[-]\\d+[-]\\d+)\")\n",
    "m = p.search(\"park 010-1234-5678\")\n",
    "print(m.group(0)) # group(0) 은 항상 전체\n",
    "print(m.group(1)) # group(1) 은 첫번째 괄호 \n",
    "print(m.group(2)) # group(n) 은 n번째 괄호\n",
    "# 괄호 안에 괄호가 있을 떄는 괄호 여는 부분의 순서를 따라서 쓴다."
   ]
  },
  {
   "cell_type": "markdown",
   "metadata": {},
   "source": [
    "### 구룹핑 문자열에 이름 붙이기\n",
    " 필요 : 정규식 중간에 구룹이 추가될 때마다 뒤에 인덱스 밀림. 코드 안변하게 이름으로 레퍼런스싱 <br>\n",
    " 정의 : (?P<그룹명>...) <br>\n",
    " 호출 : re.compiler(\"정규식(?P<이름>내용)정규식\").search(\"입력데이터\").group(\"이름\") <br>\n",
    " 예시 : \n",
    " ```python\n",
    " re.compile(r\"(?P<name>\\w+)\\s+(\\d+[-]\\d+[-]\\d+)\").search(\"park 010-1234-5678\").group(\"name\")\n",
    "    ```\n",
    " 참고 : [점프투파이썬 위키 7-3](https://wikidocs.net/4309#_7)"
   ]
  },
  {
   "cell_type": "code",
   "execution_count": 82,
   "metadata": {
    "scrolled": true
   },
   "outputs": [
    {
     "name": "stdout",
     "output_type": "stream",
     "text": [
      "박원빈\n",
      "010-1234-5678 \n",
      "\n",
      "박*빈\n",
      "010-****-5678\n"
     ]
    }
   ],
   "source": [
    "import re\n",
    "\n",
    "p = re.compile(r\"(?P<name>\\w+)\\s+(?P<Phone>(\\d+[-]\\d+[-]\\d+))\")\n",
    "m = p.search(\"박원빈 010-1234-5678\")\n",
    "print(m.group(\"name\")) \n",
    "print(m.group(\"Phone\"),'\\n') \n",
    "\n",
    "# 응용 : 이벤트 결과 페이지에 들어가는 서식\n",
    "print(m.group(\"name\")[0]+\"*\"+m.group(\"name\")[2])\n",
    "print(m.group(\"Phone\")[0:4]+\"****\"+m.group(\"Phone\")[8:13])"
   ]
  },
  {
   "cell_type": "markdown",
   "metadata": {},
   "source": [
    "#### 특정 내용 변경하기 & 구룹핑"
   ]
  },
  {
   "cell_type": "code",
   "execution_count": 136,
   "metadata": {},
   "outputs": [
    {
     "name": "stdout",
     "output_type": "stream",
     "text": [
      "010-XXXX-XXXX\n"
     ]
    }
   ],
   "source": [
    "import re\n",
    "\n",
    "print(re.sub('\\d{4}', 'XXXX', '010-1234-5678'))\n",
    "#sub : substitude (대체하다.)"
   ]
  },
  {
   "cell_type": "code",
   "execution_count": 135,
   "metadata": {},
   "outputs": [
    {
     "name": "stdout",
     "output_type": "stream",
     "text": [
      "박원빈 010-7445-5098\n",
      "010-7445-5098 박원빈\n"
     ]
    }
   ],
   "source": [
    "import re\n",
    "\n",
    "p = re.compile(r\"(?P<name>\\w+)\\s(?P<Phone>\\d{3}[-]\\d{4}[-]\\d{4})\")\n",
    "m = p.search(\"박원빈 010-7445-5098\")\n",
    "print(m.group('name'),m.group('Phone'))\n",
    "\n",
    "s = p.sub(\"\\g<Phone> \\g<name>\",\"박원빈 010-7445-5098\")\n",
    "print(s)"
   ]
  },
  {
   "cell_type": "markdown",
   "metadata": {},
   "source": [
    "### 전방탐색 예시"
   ]
  },
  {
   "cell_type": "code",
   "execution_count": 89,
   "metadata": {},
   "outputs": [
    {
     "name": "stdout",
     "output_type": "stream",
     "text": [
      "http:\n",
      "http\n"
     ]
    }
   ],
   "source": [
    "import re\n",
    "\n",
    "#전방향 탐색 예시\n",
    "p = re.compile(\".+:\")\n",
    "m = p.search(\"http://google.com\")\n",
    "print(m.group())\n",
    "print(m.group().rstrip(\":\"))\n",
    "\n",
    "#전방향 탐색을 할 떄는 불필요한 정보도 넘어오기 떄문에 지워줘야한다."
   ]
  },
  {
   "cell_type": "code",
   "execution_count": 128,
   "metadata": {},
   "outputs": [
    {
     "name": "stdout",
     "output_type": "stream",
     "text": [
      "http\n",
      "google\n",
      "com\n",
      "프로토콜 : http\n",
      "사이트 : google\n",
      "도메인 : com\n"
     ]
    }
   ],
   "source": [
    "import re\n",
    "\n",
    "#전방향 탐색 예시\n",
    "g1 = re.compile(\".+[:]\").search(\"http://google.com\").group()\n",
    "g2 = re.compile(\"[//].+[.]\").search(\"http://google.com\").group()\n",
    "g3 = re.compile(\"[.].+\").search(\"http://google.com\").group()\n",
    "    \n",
    "print(g1.rstrip(\":\"))\n",
    "print(g2.lstrip(\"//\").rstrip(\".\"))\n",
    "print(g3.lstrip(\".\"))\n",
    "\n",
    "# 같은 내용 함수형으로 다시 만듬\n",
    "def test(URL) :\n",
    "    data=[\"프로토콜 :\",\"사이트 :\", \"도메인 :\"]\n",
    "    comp=[\".+[:]\",\"[//].+[.]\",\"[.].+\"]\n",
    "    for i in range(len(comp)) :\n",
    "        group = re.compile(comp[i]).search(URL).group()\n",
    "        print(data[i],group.lstrip(\"// .\").rstrip(\": .\"))\n",
    "\n",
    "test(\"http://google.com\")"
   ]
  }
 ],
 "metadata": {
  "kernelspec": {
   "display_name": "Python 3",
   "language": "python",
   "name": "python3"
  },
  "language_info": {
   "codemirror_mode": {
    "name": "ipython",
    "version": 3
   },
   "file_extension": ".py",
   "mimetype": "text/x-python",
   "name": "python",
   "nbconvert_exporter": "python",
   "pygments_lexer": "ipython3",
   "version": "3.7.4"
  }
 },
 "nbformat": 4,
 "nbformat_minor": 2
}
