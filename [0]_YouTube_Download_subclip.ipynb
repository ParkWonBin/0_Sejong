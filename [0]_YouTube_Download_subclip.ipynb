{
 "cells": [
  {
   "cell_type": "markdown",
   "metadata": {},
   "source": [
    "### 유튜브 영상 다운로드 코드"
   ]
  },
  {
   "cell_type": "markdown",
   "metadata": {},
   "source": [
    "#### 0. 라이브러리 설치"
   ]
  },
  {
   "cell_type": "code",
   "execution_count": null,
   "metadata": {},
   "outputs": [
    {
     "name": "stdout",
     "output_type": "stream",
     "text": [
      "Requirement already satisfied: pytube3 in c:\\programdata\\anaconda3\\lib\\site-packages (9.6.4)\n",
      "Requirement already satisfied: typing-extensions in c:\\programdata\\anaconda3\\lib\\site-packages (from pytube3) (3.7.4.2)\n"
     ]
    }
   ],
   "source": [
    "! pip install pytube3\n",
    "! pip install moviepy"
   ]
  },
  {
   "cell_type": "markdown",
   "metadata": {},
   "source": [
    "#### 1. 유튜브 다운로드"
   ]
  },
  {
   "cell_type": "code",
   "execution_count": 1,
   "metadata": {},
   "outputs": [
    {
     "name": "stdout",
     "output_type": "stream",
     "text": [
      "유튜브 주소를 입력하세요.\n",
      " >>> https://www.youtube.com/watch?v=xt0OCaIQM94\n",
      "유튜브 영상 불러오는 중...\n",
      "\n",
      "제목 : YouTube\n",
      "\n",
      "1 번 영상 화질 : 360p\n",
      "2 번 영상 화질 : 720p\n",
      "\n",
      "다운받을 영상의 번호를 입력해주세요.\n",
      " >>> 2\n",
      "\n",
      "다운로드 중... \n",
      "잠시만 기다려주세요.\n",
      "\n",
      "\n",
      "다운로드가 완료되었습니다..\n"
     ]
    }
   ],
   "source": [
    "import os\n",
    "from pytube import YouTube\n",
    "from moviepy.editor import *\n",
    "\n",
    "# 폴더 이름 설정\n",
    "forderName  = \"유튜브 다운로드\"\n",
    "\n",
    "# 유튜브 주소 입력 유효성 검사\n",
    "while True : \n",
    "    print(\"유튜브 주소를 입력하세요.\")\n",
    "    try : \n",
    "        yt_input = input(\" >>> \")\n",
    "        print(\"유튜브 영상 불러오는 중...\")\n",
    "        yt = YouTube(yt_input)\n",
    "        break\n",
    "    except : print(\"유효하지 않은 주소입니다.\\n\")\n",
    "\n",
    "# 바탕화면에 폴더 생성\n",
    "UserName = os.path.expanduser(\"~\") \n",
    "forderPath = f\"{UserName}/Desktop/{forderName}\"  \n",
    "if not os.path.isdir(forderPath): os.makedirs(forderPath)\n",
    "\n",
    "# mp4 확장자로 필터링\n",
    "yt_streams = yt.streams.filter(progressive=True, file_extension='mp4').all()\n",
    "\n",
    "# 다운 가능한 영상 화질 출력\n",
    "print(f\"\\n제목 : {yt.title}\\n\")\n",
    "for i in range(len(yt_streams)) : \n",
    "    print(f\"{i+1} 번 영상 화질 : {yt_streams[i].resolution}\")\n",
    "\n",
    "# 입력 유효성 검사 \n",
    "print(\"\\n다운받을 영상의 번호를 입력해주세요.\")\n",
    "while True : \n",
    "    try : \n",
    "        num=int(input(\" >>> \"))-1\n",
    "        if (0 <= num and num < len(yt_streams)) :\n",
    "            print(\"\\n다운로드 중... \\n잠시만 기다려주세요.\\n\");break\n",
    "        else : print(f\"\\n1~{len(yt_streams)} 사이 번호를 입력해주세요.\")\n",
    "    except :\n",
    "        print(f\"\\n1~{len(yt_streams)} 사이 번호를 입력해주세요.\")\n",
    "    \n",
    "# 다운로드    \n",
    "yt_streams[num].download(forderPath)\n",
    "print(\"\\n다운로드가 완료되었습니다..\")\n",
    "\n",
    "# 다운로드 폴더 열기\n",
    "os.startfile(forderPath)"
   ]
  },
  {
   "cell_type": "markdown",
   "metadata": {},
   "source": [
    "#### 2. 특정 부분만 저장"
   ]
  },
  {
   "cell_type": "code",
   "execution_count": 4,
   "metadata": {},
   "outputs": [
    {
     "name": "stdout",
     "output_type": "stream",
     "text": [
      "편집할 영상을 선택해주세요.\n",
      "1 번 : YouTube.mp4\n",
      "\n",
      "번호를 입력해주세요. 1\n",
      "\n",
      "YouTube.mp4 를 선택하셨습니다.\n",
      "영상을 편집합니다. \n",
      "\n",
      "※입력값은 초단위로 입력바람. 1분30초 => 90\n",
      "시작 시간 :35\n",
      "끝나는 시간 :47\n",
      "\n",
      " 저장할 이름을 입력해주세요.(확장자 생략)포켓\n",
      "Moviepy - Building video C:\\Users\\pwb1128/Desktop/유튜브 다운로드/포켓.mp4.\n",
      "MoviePy - Writing audio in 포켓TEMP_MPY_wvf_snd.mp3\n"
     ]
    },
    {
     "name": "stderr",
     "output_type": "stream",
     "text": [
      "                                                                                                                       \r"
     ]
    },
    {
     "name": "stdout",
     "output_type": "stream",
     "text": [
      "MoviePy - Done.\n",
      "Moviepy - Writing video C:\\Users\\pwb1128/Desktop/유튜브 다운로드/포켓.mp4\n",
      "\n"
     ]
    },
    {
     "name": "stderr",
     "output_type": "stream",
     "text": [
      "                                                                                                                       \r"
     ]
    },
    {
     "name": "stdout",
     "output_type": "stream",
     "text": [
      "Moviepy - Done !\n",
      "Moviepy - video ready C:\\Users\\pwb1128/Desktop/유튜브 다운로드/포켓.mp4\n"
     ]
    }
   ],
   "source": [
    "# 유튜브 제목에서 다운로드 된 영상 이름 추출\n",
    "print(\"편집할 영상을 선택해주세요.\")\n",
    "\n",
    "# 디랙토리 보기\n",
    "_directory = os.listdir(forderPath)\n",
    "for i in range(len(_directory)) :\n",
    "    print(f\"{i+1} 번 : {_directory[i]}\")\n",
    "\n",
    "# 파일 선택하기\n",
    "while True : \n",
    "    try : \n",
    "        select = int(input(\"\\n번호를 입력해주세요. \"))-1\n",
    "        if (0 <= select and select < len(_directory)) :\n",
    "            print(f\"\\n{_directory[i]} 를 선택하셨습니다.\");break\n",
    "        else : print(f\"1~{len(_directory)} 사이 번호를 입력해주세요.\")\n",
    "    except :\n",
    "        print(f\"1~{len(_directory)} 사이 번호를 입력해주세요.\")\n",
    "        \n",
    "selected_file = f\"{forderPath}/{_directory[select]}\"\n",
    "\n",
    "print(\"영상을 편집합니다. \")\n",
    "print(\"\\n※입력값은 초단위로 입력바람. 1분30초 => 90\")\n",
    "m_start = int(input(\"시작 시간 :\"))\n",
    "m_end = int(input(\"끝나는 시간 :\"))\n",
    "m_name = input(\"\\n 저장할 이름을 입력해주세요.(확장자 생략)\")\n",
    "\n",
    "\n",
    "# 다운로드 된 파일에서 특정 구간 추출 및 저장\n",
    "videoclip = VideoFileClip(selected_file)\n",
    "videoclip = videoclip.subclip(m_start,m_end)\n",
    "\n",
    "videoclip.write_videofile(f\"{forderPath}/{m_name}.mp4\")\n",
    "\n",
    "# 폴더 열기\n",
    "os.startfile(forderPath)"
   ]
  },
  {
   "cell_type": "markdown",
   "metadata": {},
   "source": [
    "참고자료 : https://zulko.github.io/moviepy/getting_started/videoclips.html"
   ]
  }
 ],
 "metadata": {
  "kernelspec": {
   "display_name": "Python 3",
   "language": "python",
   "name": "python3"
  },
  "language_info": {
   "codemirror_mode": {
    "name": "ipython",
    "version": 3
   },
   "file_extension": ".py",
   "mimetype": "text/x-python",
   "name": "python",
   "nbconvert_exporter": "python",
   "pygments_lexer": "ipython3",
   "version": "3.7.4"
  }
 },
 "nbformat": 4,
 "nbformat_minor": 2
}
