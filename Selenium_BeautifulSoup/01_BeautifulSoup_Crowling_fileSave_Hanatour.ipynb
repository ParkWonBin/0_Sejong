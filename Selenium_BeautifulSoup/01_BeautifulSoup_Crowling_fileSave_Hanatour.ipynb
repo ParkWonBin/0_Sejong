{
 "cells": [
  {
   "cell_type": "code",
   "execution_count": null,
   "metadata": {},
   "outputs": [],
   "source": [
    "# 하나투어 데이터 추출 후 파일로 저장"
   ]
  },
  {
   "cell_type": "code",
   "execution_count": 5,
   "metadata": {},
   "outputs": [],
   "source": [
    "# === [Part 1 : 라이블러리 참조 및 함수 정의] ======\n",
    "import requests                # 크롤링\n",
    "from bs4 import BeautifulSoup # 인터넷 특정 부분 추출하기\n",
    "from urllib import request    # 인터넷 자원 다운로드\n",
    "import os                     # 경로 설정용\n",
    "#OS는 예제를 만들기\n",
    "\n",
    "# 폴더 만들기 함수 \n",
    "def createFolder(directory):\n",
    "    try:\n",
    "        # 존재하지 않는 경로를 입력받으면 폴더 생성\n",
    "        if not os.path.exists(directory):\n",
    "            os.makedirs(directory)         \n",
    "            \n",
    "    except OSError:\n",
    "        # 이 함수 때문에 에러 생기면 콘솔에 표시하도록 만듬\n",
    "        print('Error: Creating directory. ' + directory)\n",
    "\n",
    "# [참고자료]\n",
    "# 1. 폴더 생성      \n",
    "# 1.1. 참고1 : https://data-make.tistory.com/170 \n",
    "# 1.2. 참고2 : https://computer-nerd.tistory.com/51"
   ]
  },
  {
   "cell_type": "code",
   "execution_count": 6,
   "metadata": {},
   "outputs": [],
   "source": [
    "# === [Part 2 : 소스에서 데이터 추출] ======\n",
    "\n",
    "# BeautifulSoup로 소스 받아오기\n",
    "url = \"http://info.hanatour.com/?hanacode=main_TNB_getabout\"\n",
    "html = requests.get(url).text\n",
    "soup = BeautifulSoup(html, \"lxml\")\n",
    "\n",
    "# 자주 사용하는 경로는 리스트로 저장\n",
    "rankList = \".tabConts #hntxml_grp2 .rankingList\"\n",
    "RankImg = soup.select(rankList+' img')\n",
    "RankTitle = soup.select(rankList+' .title')\n",
    "RankDesk = soup.select(rankList+' .desc')\n",
    "\n",
    "#===================================\n",
    "# 반드시 본인 계정명으로 수정 바람\n",
    "userName='pwb11'\n",
    "#====================================\n",
    "\n",
    "# 폴더 생성 \n",
    "folderURL ='C:/Users/'+userName+'/hana/'\n",
    "createFolder(folderURL)"
   ]
  },
  {
   "cell_type": "code",
   "execution_count": 7,
   "metadata": {},
   "outputs": [],
   "source": [
    "# 저장될 내용 미리보기 \n",
    "# for i in range(len(RankImg)):\n",
    "#     print('사진 :',RankImg[i].get(\"src\"))\n",
    "#     print('제목 :' , RankTitle[i].text)\n",
    "#     print('내용 :', RankDesk[i].text,'\\n')"
   ]
  },
  {
   "cell_type": "code",
   "execution_count": 8,
   "metadata": {},
   "outputs": [
    {
     "name": "stdout",
     "output_type": "stream",
     "text": [
      "이미지 파일이 저장되었습니다...!\n",
      "이미지 파일이 저장되었습니다...!\n",
      "이미지 파일이 저장되었습니다...!\n",
      "이미지 파일이 저장되었습니다...!\n"
     ]
    }
   ],
   "source": [
    "# === [Part 3 : 데이터 저장] ======\n",
    "for i in range(len(RankImg)):        \n",
    "\n",
    "    # 이미지 링크\n",
    "    imglink = RankImg[i].get(\"src\")\n",
    "\n",
    "    # 경로명에서 '/' 삭제\n",
    "    replace_ranktitle = RankTitle[i].text.replace(\"/\",\" \")\n",
    "\n",
    "    # 이미지 저장될 경로(이름) : savename\n",
    "    savename =  folderURL + replace_ranktitle + \".jpg\"\n",
    "    \n",
    "    # 이미지 파일로 저장\n",
    "    request.urlretrieve(imglink, savename)\n",
    "    print(\"이미지 파일이 저장되었습니다...!\")\n",
    "    # https://m.blog.naver.com/kiddwannabe/221358581642 랑 비교해서 정리하기 : 예제 만들어서\n",
    "    \n",
    "    # txt파일 만들어서 내용 입력\n",
    "    out = open(folderURL+\"/hana_top4.txt\",\"a\")\n",
    "    print('내용 :' , RankDesk[i].text,'\\n', file = out)\n",
    "    out.close()\n",
    "    \n",
    "# [참고자료]\n",
    "\n",
    "# 2. 파일 다운로드\n",
    "# 2.1. https://hoony-gunputer.tistory.com/m/37?category=742600\n",
    "\n",
    "# 3. 경로명에서 '/' 제거\n",
    "# 3.1. https://yuddomack.tistory.com/entry/%ED%8C%8C%EC%9D%B4%EC%8D%AC-replace-%EB%AC%B8%EC%9E%90%EC%97%B4-%EC%A0%9C%EA%B1%B0-%EC%88%98%EC%A0%95%EB%B3%80%ED%99%98\n",
    "\n",
    "# 4. 파일로 저장\n",
    "# 4.1. https://codedragon.tistory.com/9342 \n",
    "# 4.2. https://wikidocs.net/26"
   ]
  },
  {
   "cell_type": "code",
   "execution_count": null,
   "metadata": {},
   "outputs": [],
   "source": []
  },
  {
   "cell_type": "code",
   "execution_count": null,
   "metadata": {},
   "outputs": [],
   "source": [
    "# 수정내역 \n",
    "    \n",
    "# [createFolder] 에러        \n",
    "# 1. 정의되지 않은 변수 에러 \n",
    "#     1.1. 인자(directory)에 오타 발견, directory로 통일함.\n",
    "# 2.  권한없음 오류 & 경로없음 오류 \n",
    "#     2.1. UserName 달라서 생긴 오류. (사용자폴더 생성 = 윈도우 계정생성이므로 권한필요)\n",
    "#     2.2. UserName 입력받는 걸로 해결. => 추후에 폴더에에서 이름 검색해서 자동으로 넣게끔 수정 필요.\n",
    "\n",
    "# [이미지 저장] 에러\n",
    "# 1. 경로에 '/' 오타 수정"
   ]
  },
  {
   "cell_type": "code",
   "execution_count": 4,
   "metadata": {
    "scrolled": false
   },
   "outputs": [
    {
     "name": "stdout",
     "output_type": "stream",
     "text": [
      "사진 : <img src=\"http://image1.hanatour.com/_images/main/top4/cn/cn_81.jpg\"/>\n",
      "사진 : http://image1.hanatour.com/_images/main/top4/cn/cn_81.jpg\n",
      "제목 : 하이난 아틀란티스 리조트100%성공 가족여행\n",
      "내용 : 최신 워터파크 무료이용리조트내 아쿠아리움하나투어 단독 시내왕복 셔틀 \n",
      "\n",
      "사진 : <img src=\"http://image1.hanatour.com/_images/main/top4/cn/cn_46.jpg\"/>\n",
      "사진 : http://image1.hanatour.com/_images/main/top4/cn/cn_46.jpg\n",
      "제목 : 장가계/원가계 4~7일천문산케이블카/마사지\n",
      "내용 : 아바타 배경의 장가계세계자연유산 기묘한 절경!5성급/리무진/보봉호수 \n",
      "\n",
      "사진 : <img src=\"http://image1.hanatour.com/_images/main/top4/cn/cn_38.jpg\"/>\n",
      "사진 : http://image1.hanatour.com/_images/main/top4/cn/cn_38.jpg\n",
      "제목 : 계림/양삭 5,6일베스트셀러\n",
      "내용 : 한폭의 수채화 같은 풍경계림에서 즐기는 이강유람고즈넉한 풍경속에서 힐링 \n",
      "\n",
      "사진 : <img src=\"http://image1.hanatour.com/_images/main/top4/cn/cn_79.jpg\"/>\n",
      "사진 : http://image1.hanatour.com/_images/main/top4/cn/cn_79.jpg\n",
      "제목 : 청도 3일중국속 작은 유럽\n",
      "내용 : 중국속 작은 유럽미식여행2박3일 짧지만 알찬 여행 \n",
      "\n"
     ]
    }
   ],
   "source": [
    "# 박원빈 코드\n",
    "import requests                # 크롤링\n",
    "from bs4 import BeautifulSoup # 인터넷 특정 부분 추출하기\n",
    "\n",
    "# BeautifulSoup로 소스 받아오기\n",
    "url = \"http://info.hanatour.com/?hanacode=main_TNB_getabout\"\n",
    "html = requests.get(url).text\n",
    "soup = BeautifulSoup(html, \"lxml\")\n",
    "\n",
    "rankList = \".tabConts #hntxml_grp2 .rankingList\"\n",
    "\n",
    "RankImg = soup.select(rankList+' img')\n",
    "RankTitle = soup.select(rankList+' .title')\n",
    "RankDesk = soup.select(rankList+' .desc')\n",
    "\n",
    "for i in range(len(RankImg)):    \n",
    "    \n",
    "    print('사진 :' , RankImg[i])\n",
    "    print('사진 :' , RankImg[i].get(\"src\"))\n",
    "    print('제목 :' , RankTitle[i].text)\n",
    "    print('내용 :' , RankDesk[i].text,'\\n')\n",
    "    \n"
   ]
  },
  {
   "cell_type": "code",
   "execution_count": 12,
   "metadata": {},
   "outputs": [
    {
     "name": "stdout",
     "output_type": "stream",
     "text": [
      "이미지 파일이 저장되었습니다...!\n",
      "이미지 파일이 저장되었습니다...!\n",
      "이미지 파일이 저장되었습니다...!\n",
      "이미지 파일이 저장되었습니다...!\n"
     ]
    }
   ],
   "source": [
    "# 선생님이 주신 파일\n",
    "# import requests # 크롤링\n",
    "# from bs4 import BeautifulSoup # 인터넷 특정 부분 추출하기\n",
    "# from urllib import request # 인터넷 자원 다운로드\n",
    "# import os # 경로 설정용\n",
    "\n",
    "# def createFolder(diretory):\n",
    "#     try:\n",
    "#         if not os.path.exists(diretory):\n",
    "#             os.makedirs(diretory)\n",
    "#     except OSError:\n",
    "#         print('Error: Creating directory. ' + directory)\n",
    "        \n",
    "# url = \"http://info.hanatour.com/?hanacode=main_TNB_getabout\"\n",
    "# html = requests.get(url).text\n",
    "# soup = BeautifulSoup(html, \"lxml\")\n",
    "\n",
    "# rankList = \".tabConts #hntxml_grp2 .rankingList\"\n",
    "\n",
    "# RankImg = soup.select(rankList+' img')\n",
    "# RankTitle = soup.select(rankList+' .title')\n",
    "# RankDesk = soup.select(rankList+' .desc')\n",
    "\n",
    "# for i in range(len(RankImg)):    \n",
    "#     # 파일 다운로드 참고 사이트 https://hoony-gunputer.tistory.com/m/37?category=742600\n",
    "#     url = RankImg[i].get(\"src\")\n",
    "#     # print(url) # 실제 다운로드 경로\n",
    "#     # 폴더 생성 참고 사이트 https://data-make.tistory.com/170 / https://computer-nerd.tistory.com/51\n",
    "#     createFolder('C:/Users/pwb11/hana/')\n",
    "#     # 경로명 / 제거를 위한 참고 사이트 https://yuddomack.tistory.com/entry/%ED%8C%8C%EC%9D%B4%EC%8D%AC-replace-%EB%AC%B8%EC%9E%90%EC%97%B4-%EC%A0%9C%EA%B1%B0-%EC%88%98%EC%A0%95%EB%B3%80%ED%99%98\n",
    "#     replace_ranktitle = RankTitle[i].text.replace(\"/\",\" \")\n",
    "#     savename = \"C:/Users/pwb11/hana//hana\" + replace_ranktitle + \".jpg\"\n",
    "#     # print(savename) # 실제 저장될 경로\n",
    "#     request.urlretrieve(url, savename)\n",
    "#     print(\"이미지 파일이 저장되었습니다...!\")\n",
    "#     # 파일로 저장하기 https://codedragon.tistory.com/9342 / https://wikidocs.net/26\n",
    "#     out = open(\"C:/Users/pwb11/hana/hana_top4.txt\",\"a\")\n",
    "#     print('내용 :' , RankDesk[i].text,'\\n', file = out)\n",
    "#     out.close()\n",
    "# #    print('제목 :' , RankTitle[i].text)\n",
    "# #    print('내용 :', RankDesk[i].text,'\\n')"
   ]
  },
  {
   "cell_type": "code",
   "execution_count": null,
   "metadata": {},
   "outputs": [],
   "source": []
  }
 ],
 "metadata": {
  "kernelspec": {
   "display_name": "Python 3",
   "language": "python",
   "name": "python3"
  },
  "language_info": {
   "codemirror_mode": {
    "name": "ipython",
    "version": 3
   },
   "file_extension": ".py",
   "mimetype": "text/x-python",
   "name": "python",
   "nbconvert_exporter": "python",
   "pygments_lexer": "ipython3",
   "version": "3.7.4"
  }
 },
 "nbformat": 4,
 "nbformat_minor": 2
}
