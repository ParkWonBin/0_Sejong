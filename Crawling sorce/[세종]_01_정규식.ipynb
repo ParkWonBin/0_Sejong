{
 "cells": [
  {
   "cell_type": "markdown",
   "metadata": {},
   "source": [
    "#### 정규식 문법"
   ]
  },
  {
   "cell_type": "code",
   "execution_count": 3,
   "metadata": {},
   "outputs": [],
   "source": [
    "import re #\n",
    "\n",
    "data = \"\"\"\n",
    "partk 941128-1234567\n",
    "kim 741113-1234567\n",
    "\"\"\""
   ]
  },
  {
   "cell_type": "code",
   "execution_count": 7,
   "metadata": {
    "scrolled": true
   },
   "outputs": [
    {
     "name": "stdout",
     "output_type": "stream",
     "text": [
      "\n",
      "partk 941128-1234567\n",
      "kim 741113-1234567\n",
      "\n"
     ]
    }
   ],
   "source": [
    "pat = re.compile(\"(/d{6})[-]\\d{7}\")\n",
    "print(pat.sub(\"/g<1>-*******\",data))"
   ]
  },
  {
   "cell_type": "markdown",
   "metadata": {},
   "source": [
    "### 따라하기\n",
    "#### import re"
   ]
  },
  {
   "cell_type": "code",
   "execution_count": 26,
   "metadata": {},
   "outputs": [],
   "source": [
    "import re #\n",
    "\n",
    "data = \"\"\"\n",
    "partk 941128-1234567\n",
    "kim 741113-1234567\n",
    "\"\"\""
   ]
  },
  {
   "cell_type": "code",
   "execution_count": 29,
   "metadata": {},
   "outputs": [
    {
     "name": "stdout",
     "output_type": "stream",
     "text": [
      "\n",
      "partk 941128-1234567\n",
      "kim 741113-1234567\n",
      "\n"
     ]
    }
   ],
   "source": [
    "pat = re.compile(\"\")\n",
    "print(pat.sub(\"\",data))"
   ]
  },
  {
   "cell_type": "markdown",
   "metadata": {},
   "source": [
    "pat : 패턴(pattern)   \n",
    "compile : 한꺼번에 돌리다.\n",
    "\\d : isdigit()\n",
    "<div width=100px>\n",
    "|1|2|3|\n",
    "|---|---|---|\n",
    "|d1rf|\n",
    "|ddd|ddd|\n",
    "</div>"
   ]
  },
  {
   "cell_type": "code",
   "execution_count": 30,
   "metadata": {},
   "outputs": [
    {
     "name": "stdout",
     "output_type": "stream",
     "text": [
      "re.compile('(\\\\d{6}[-]\\\\d{7})')\n",
      "\n",
      "partk 941128-1234567-******\n",
      "kim 741113-1234567-******\n",
      "\n"
     ]
    }
   ],
   "source": [
    "pat=re.compile(\"(\\d{6}[-]\\d{7})\")\n",
    "print(pat)\n",
    "print(pat.sub(\"\\g<1>-******\",data))\n"
   ]
  },
  {
   "cell_type": "markdown",
   "metadata": {},
   "source": [
    "pat : 패턴(pattern)   \n",
    "compile : 한꺼번에 돌리다."
   ]
  },
  {
   "cell_type": "markdown",
   "metadata": {},
   "source": [
    "\n",
    " \\d : isdigit함수와 같은거 (숫자냐고 묻는 것임)    \n",
    "#문자 패턴 선택할 떄는 중괄호{}에 넣음   \n",
    " \"-\" 의 경우 문자 그대로 출력되기 때문에  대괄호[] 안에 넣음   \n",
    " \n",
    " \n",
    " g<n> 의미 : n번쨰 괄호라는 의미O "
   ]
  },
  {
   "cell_type": "code",
   "execution_count": null,
   "metadata": {},
   "outputs": [],
   "source": []
  }
 ],
 "metadata": {
  "kernelspec": {
   "display_name": "Python 3",
   "language": "python",
   "name": "python3"
  },
  "language_info": {
   "codemirror_mode": {
    "name": "ipython",
    "version": 3
   },
   "file_extension": ".py",
   "mimetype": "text/x-python",
   "name": "python",
   "nbconvert_exporter": "python",
   "pygments_lexer": "ipython3",
   "version": "3.7.4"
  }
 },
 "nbformat": 4,
 "nbformat_minor": 2
}
