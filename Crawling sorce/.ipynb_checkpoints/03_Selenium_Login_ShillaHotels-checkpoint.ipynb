{
 "cells": [
  {
   "cell_type": "code",
   "execution_count": null,
   "metadata": {},
   "outputs": [],
   "source": [
    "# 신라호텔 로그인"
   ]
  },
  {
   "cell_type": "code",
   "execution_count": 1,
   "metadata": {},
   "outputs": [],
   "source": [
    "# === [ Part1 : 브라우저 열기 ] ===\n",
    "from selenium import webdriver\n",
    "\n",
    "#  크롬 브라우저 열기\n",
    "driver = webdriver.Chrome('c:/chromedriver')\n",
    "\n",
    "# # 브라우저 로딩 기다리기\n",
    "# driver.implicitly_wait(3)\n",
    "\n",
    "# 신라호텔 로그인 화면으로 이동\n",
    "url = 'https://shillahotels.com/membership/mbr/login/memLogin.do?resvYn=Y'\n",
    "driver.get(url)"
   ]
  },
  {
   "cell_type": "code",
   "execution_count": 4,
   "metadata": {},
   "outputs": [],
   "source": [
    "# === [ Part2 : 로그인 값 입력 ] ===\n",
    "\n",
    "gest = True\n",
    "gest = False\n",
    "# 주석 단축키로 gest on/off 체크해보세요.\n",
    "\n",
    "if(gest):\n",
    "    # 비회원 로그인\n",
    "    \n",
    "    # 체크박스 누르기\n",
    "    driver.find_element_by_id('rMemberNone').click() \n",
    "\n",
    "    # 테이터 분리\n",
    "    sendkeyResvId ='23'\n",
    "    sendkeyFirstnm = 'WonBin'\n",
    "    sendkeyLastnm ='Park'\n",
    "    # 번호 : 신라호텔 사이트에서 숫자만 입력 가능하게 막아놓음. (문자 입력시 자동삭제 됨)\n",
    "    # 이름 : 신라호텔 사이트에서 문자만 입력 가능하게 막아놓음. (소문자는 대문자로 자동 변환)\n",
    "\n",
    "    # 예약 번호 / 이름 입력\n",
    "    driver.find_element_by_id('resvId').send_keys(sendkeyResvId)\n",
    "    driver.find_element_by_name('guestEnFnm').send_keys(sendkeyFirstnm)\n",
    "    driver.find_element_by_name('guestEnLnm').send_keys(sendkeyLastnm)\n",
    "    # input 테그 속성값에 id, name 둘 다 있어서 둘 다 써봤습니다. \n",
    "    \n",
    "else:\n",
    "    # 회원 로그인\n",
    "    \n",
    "    # 체크박스 누르기\n",
    "    driver.find_element_by_id('rMember').click() \n",
    "    \n",
    "    # 테이터 분리\n",
    "    j_username ='selenium'\n",
    "    j_password = 'python'\n",
    "\n",
    "    # 아이디 / 비밀번호 입력\n",
    "    driver.find_element_by_id('j_username').send_keys(j_username)\n",
    "    driver.find_element_by_id('j_password').send_keys(j_password)\n",
    "    "
   ]
  },
  {
   "cell_type": "code",
   "execution_count": 8,
   "metadata": {},
   "outputs": [],
   "source": [
    "# === [ Part3 : 로그인 버튼 클릭 ] ===\n",
    "\n",
    "# 방법 1 : xpath 로 클릭하기\n",
    "\n",
    "# driver.find_element_by_xpath('//*[@id=\"loginForm\"]/div[3]/a').click() \n",
    "driver.find_element_by_class_name(\"btnLogin\").click()\n",
    "\n",
    "# 로그인 버튼을 <button>테그 안쓰고 [div > a > img] 구조이며,\n",
    "# a태그의 herf로  로그인 관련 JS 호출하도록 만들어졌다. \n",
    "# 속성값으로 id / name 둘 다 사용하지 않고 있기 때문에 xpath를 사용했습니다.\n",
    "\n",
    "# 방법 2: 그냥 비밀번호 입력하고 엔터 치기\n",
    "# 추후 구현 "
   ]
  },
  {
   "cell_type": "code",
   "execution_count": 52,
   "metadata": {},
   "outputs": [],
   "source": [
    "# === [ Part4 : 브라우저 종료 ] ===\n",
    "driver.quit()"
   ]
  },
  {
   "cell_type": "code",
   "execution_count": null,
   "metadata": {},
   "outputs": [],
   "source": []
  }
 ],
 "metadata": {
  "kernelspec": {
   "display_name": "Python 3",
   "language": "python",
   "name": "python3"
  },
  "language_info": {
   "codemirror_mode": {
    "name": "ipython",
    "version": 3
   },
   "file_extension": ".py",
   "mimetype": "text/x-python",
   "name": "python",
   "nbconvert_exporter": "python",
   "pygments_lexer": "ipython3",
   "version": "3.7.4"
  }
 },
 "nbformat": 4,
 "nbformat_minor": 2
}
