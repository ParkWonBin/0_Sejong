{
 "cells": [
  {
   "cell_type": "markdown",
   "metadata": {},
   "source": [
    "### 유튜브 영상 다운로드 코드"
   ]
  },
  {
   "cell_type": "code",
   "execution_count": 7,
   "metadata": {},
   "outputs": [
    {
     "name": "stdout",
     "output_type": "stream",
     "text": [
      "C:\\Users\\pwb11\n",
      "<module 'ntpath' from 'C:\\\\Users\\\\pwb11\\\\Anaconda3\\\\lib\\\\ntpath.py'>\n"
     ]
    }
   ],
   "source": [
    "import os\n",
    "homedir = os.path.expanduser(\"~\")\n",
    "print(homedir)\n",
    "homedir = os.path\n",
    "print(homedir)\n"
   ]
  },
  {
   "cell_type": "code",
   "execution_count": 3,
   "metadata": {},
   "outputs": [
    {
     "name": "stdout",
     "output_type": "stream",
     "text": [
      "유튜브 주소https://www.youtube.com/watch?v=Q26nw8MUqEc\n",
      "제목 : 이건 미쳤어! 기계 안에 사람이..? (팝콘각) l #어서와한국은처음이지 l EP.129\n",
      "\n",
      "0 번 영상 화질 : 360p\n",
      "1 번 영상 화질 : 720p\n",
      "다운받을 영상의 번호를 입력해주세요.  1\n",
      "\n",
      " 입력값은 초단위로 입력바람. 1분30초 => 90\n",
      "시작시간30\n",
      "끝나는 시간100\n",
      "\n",
      " 저장할 이름을 입력해주세요. (확장자 생략)외국인편의성\n",
      "Moviepy - Building video c:/Users/pwb11/Desktop/pytube/외국인편의성.mp4.\n",
      "MoviePy - Writing audio in 외국인편의성TEMP_MPY_wvf_snd.mp3\n"
     ]
    },
    {
     "name": "stderr",
     "output_type": "stream",
     "text": [
      "                                                                                                                       \r"
     ]
    },
    {
     "name": "stdout",
     "output_type": "stream",
     "text": [
      "MoviePy - Done.\n",
      "Moviepy - Writing video c:/Users/pwb11/Desktop/pytube/외국인편의성.mp4\n",
      "\n"
     ]
    },
    {
     "name": "stderr",
     "output_type": "stream",
     "text": [
      "                                                                                                                       \r"
     ]
    },
    {
     "name": "stdout",
     "output_type": "stream",
     "text": [
      "Moviepy - Done !\n",
      "Moviepy - video ready c:/Users/pwb11/Desktop/pytube/외국인편의성.mp4\n"
     ]
    }
   ],
   "source": [
    "# ! pip install pytube3\n",
    "# ! pip install moviepy\n",
    "\n",
    "import os\n",
    "from pytube import YouTube\n",
    "from moviepy.editor import *\n",
    "\n",
    "UserName = \"pwb11\"                                      # 본인 컴퓨터 사용자 계정\n",
    "forderName = \"pytube\"                                     # 폴더명\n",
    "forderPath = f\"c:/Users/{UserName}/Desktop/{forderName}\"  # 주피터 기본 경로 + 폴더명\n",
    "if not os.path.isdir(forderPath): os.makedirs(forderPath)\n",
    "    \n",
    "yt = YouTube(input(\"유튜브 주소\"))\n",
    "\n",
    "# mp4 확장자로 필터링\n",
    "yt_streams = yt.streams.filter(progressive=True, file_extension='mp4').all()\n",
    "\n",
    "# 다운 가능한 영상 화질 출력\n",
    "print(f\"제목 : {yt.title}\\n\")\n",
    "for i in range(len(yt_streams)) : \n",
    "    print(f\"{i} 번 영상 화질 : {yt_streams[i].resolution}\")\n",
    "    \n",
    "# 다운로드    \n",
    "num=int(input(\"다운받을 영상의 번호를 입력해주세요.  \"))\n",
    "yt_streams[num].download(forderPath)\n",
    "print(\"\\n 영상 다운로드 진행중입니다.\")\n",
    "\n",
    "# 유튜브 제목에서 다운로드 된 영상 이름 추출\n",
    "yt_title = yt.title.replace(\".\",\"\").replace(\"?\",\"\").replace(\"#\",\"\")\n",
    "downloaded_file = f\"{forderPath}/{yt_title}.mp4\"\n",
    "\n",
    "print(\"\\n 입력값은 초단위로 입력바람. 1분30초 => 90\")\n",
    "m_start = int(input(\"시작시간\"))\n",
    "m_end = int(input(\"끝나는 시간\"))\n",
    "m_name = input(\"\\n 저장할 이름을 입력해주세요. (확장자 생략)\")\n",
    "\n",
    "\n",
    "# 다운로드 된 파일에서 특정 구간 추출 및 저장\n",
    "videoclip = VideoFileClip(downloaded_file)\n",
    "videoclip = videoclip.subclip(m_start,m_end)\n",
    "videoclip.write_videofile(f\"{forderPath}/{m_name}.mp4\")"
   ]
  },
  {
   "cell_type": "markdown",
   "metadata": {},
   "source": [
    "### 입력값\n",
    "1. 유튜브 주소\n",
    "2. 영상화질 설정 \n",
    "3. 영상 시작 시간\n",
    "4. 영상 끝나는 시간\n",
    "5. 영상 저장할 이름\n",
    "```\n",
    "1 : https://www.youtube.com/watch?v=Q26nw8MUqEc\n",
    "2 : 1\n",
    "3 : 30\n",
    "4 : 100\n",
    "5 : 외국인 편의성\n",
    "   ```"
   ]
  },
  {
   "cell_type": "markdown",
   "metadata": {},
   "source": [
    "### 설치"
   ]
  },
  {
   "cell_type": "code",
   "execution_count": 1,
   "metadata": {},
   "outputs": [
    {
     "name": "stdout",
     "output_type": "stream",
     "text": [
      "Requirement already satisfied: pytube3 in c:\\users\\pwb11\\anaconda3\\lib\\site-packages (9.6.0)\n",
      "Requirement already satisfied: typing-extensions in c:\\users\\pwb11\\anaconda3\\lib\\site-packages (from pytube3) (3.7.4.1)\n",
      "Processing c:\\users\\pwb11\\appdata\\local\\pip\\cache\\wheels\\db\\37\\b8\\b3785332f8246f1306c2863553860ca65e1824fc4c8251c7f1\\moviepy-1.0.1-py3-none-any.whl\n",
      "Processing c:\\users\\pwb11\\appdata\\local\\pip\\cache\\wheels\\12\\36\\1f\\dc61e6ac10781d63cf6fa045eb09fa613a667384e12cb6e6e0\\proglog-0.1.9-py3-none-any.whl\n",
      "Requirement already satisfied: requests<3.0,>=2.8.1 in c:\\users\\pwb11\\anaconda3\\lib\\site-packages (from moviepy) (2.22.0)\n",
      "Collecting imageio-ffmpeg>=0.2.0; python_version >= \"3.4\"\n",
      "  Using cached imageio_ffmpeg-0.4.1-py3-none-win_amd64.whl (21.0 MB)\n",
      "Requirement already satisfied: decorator<5.0,>=4.0.2 in c:\\users\\pwb11\\anaconda3\\lib\\site-packages (from moviepy) (4.4.0)\n",
      "Requirement already satisfied: imageio<3.0,>=2.5; python_version >= \"3.4\" in c:\\users\\pwb11\\anaconda3\\lib\\site-packages (from moviepy) (2.6.0)\n",
      "Requirement already satisfied: tqdm<5.0,>=4.11.2 in c:\\users\\pwb11\\anaconda3\\lib\\site-packages (from moviepy) (4.36.1)\n",
      "Requirement already satisfied: numpy in c:\\users\\pwb11\\anaconda3\\lib\\site-packages (from moviepy) (1.16.5)\n",
      "Requirement already satisfied: chardet<3.1.0,>=3.0.2 in c:\\users\\pwb11\\anaconda3\\lib\\site-packages (from requests<3.0,>=2.8.1->moviepy) (3.0.4)\n",
      "Requirement already satisfied: urllib3!=1.25.0,!=1.25.1,<1.26,>=1.21.1 in c:\\users\\pwb11\\anaconda3\\lib\\site-packages (from requests<3.0,>=2.8.1->moviepy) (1.24.2)\n",
      "Requirement already satisfied: idna<2.9,>=2.5 in c:\\users\\pwb11\\anaconda3\\lib\\site-packages (from requests<3.0,>=2.8.1->moviepy) (2.8)\n",
      "Requirement already satisfied: certifi>=2017.4.17 in c:\\users\\pwb11\\anaconda3\\lib\\site-packages (from requests<3.0,>=2.8.1->moviepy) (2019.9.11)\n",
      "Requirement already satisfied: pillow in c:\\users\\pwb11\\anaconda3\\lib\\site-packages (from imageio<3.0,>=2.5; python_version >= \"3.4\"->moviepy) (6.2.0)\n",
      "Installing collected packages: proglog, imageio-ffmpeg, moviepy\n",
      "Successfully installed imageio-ffmpeg-0.4.1 moviepy-1.0.1 proglog-0.1.9\n"
     ]
    }
   ],
   "source": [
    "! pip install pytube3\n",
    "! pip install moviepy"
   ]
  },
  {
   "cell_type": "markdown",
   "metadata": {},
   "source": [
    "### 파일 경로 설정"
   ]
  },
  {
   "cell_type": "code",
   "execution_count": 2,
   "metadata": {
    "scrolled": true
   },
   "outputs": [],
   "source": [
    "import os\n",
    "from pytube import YouTube\n",
    "\n",
    "UserName = \"pwb11\"                                      # 본인 컴퓨터 사용자 계정\n",
    "forderName = \"pytube\"                                     # 폴더명\n",
    "forderPath = f\"c:/Users/{UserName}/Desktop/{forderName}\"  # 주피터 기본 경로 + 폴더명\n",
    "if not os.path.isdir(forderPath): os.makedirs(forderPath)"
   ]
  },
  {
   "cell_type": "markdown",
   "metadata": {},
   "source": [
    "### 유튜브 주소 입력"
   ]
  },
  {
   "cell_type": "code",
   "execution_count": null,
   "metadata": {},
   "outputs": [],
   "source": [
    "input_url = input(\"유튜브 주소를 입력하세요.\")\n",
    "yt = YouTube(input_url)\n",
    "# https://www.youtube.com/watch?v=Q26nw8MUqEc\n",
    "\n",
    "# mp4 확장자로 필터링\n",
    "yt_streams = yt.streams.filter(progressive=True, file_extension='mp4').all()\n",
    "\n",
    "# 다운 가능한 영상 화질 출력\n",
    "print(f\"제목 : {yt.title}\\n\")\n",
    "for i in range(len(yt_streams)) :  \n",
    "    print(f\"{i} 번 영상 화질 : {yt_streams[i].resolution}\")\n",
    "    \n",
    "num=int(input(\"다운받을 영상의 번호를 입력해주세요.  \"))\n",
    "\n",
    "# 다운로드\n",
    "yt_streams[num].download(forderPath)"
   ]
  },
  {
   "cell_type": "markdown",
   "metadata": {},
   "source": [
    "### 유튜브 주소 입력"
   ]
  },
  {
   "cell_type": "code",
   "execution_count": 4,
   "metadata": {
    "scrolled": true
   },
   "outputs": [
    {
     "name": "stdout",
     "output_type": "stream",
     "text": [
      "c:/Users/pwb1128/Desktop/pytube/이건 미쳤어! 기계 안에 사람이 (팝콘각) l 어서와한국은처음이지 l EP129.mp4\n",
      "Moviepy - Building video c:/Users/pwb1128/Desktop/pytube/movie.mp4.\n",
      "MoviePy - Writing audio in movieTEMP_MPY_wvf_snd.mp3\n"
     ]
    },
    {
     "name": "stderr",
     "output_type": "stream",
     "text": [
      "                                                                                                                       \r"
     ]
    },
    {
     "name": "stdout",
     "output_type": "stream",
     "text": [
      "MoviePy - Done.\n",
      "Moviepy - Writing video c:/Users/pwb1128/Desktop/pytube/movie.mp4\n",
      "\n"
     ]
    },
    {
     "name": "stderr",
     "output_type": "stream",
     "text": [
      "                                                                                                                       \r"
     ]
    },
    {
     "name": "stdout",
     "output_type": "stream",
     "text": [
      "Moviepy - Done !\n",
      "Moviepy - video ready c:/Users/pwb1128/Desktop/pytube/movie.mp4\n"
     ]
    }
   ],
   "source": [
    "from moviepy.editor import *\n",
    "\n",
    "# 유튜브 제목에서 다운로드 된 영상 이름 추출\n",
    "yt_title = yt.title.replace(\".\",\"\").replace(\"?\",\"\").replace(\"#\",\"\")\n",
    "downloaded_file = f\"{forderPath}/{yt_title}.mp4\"\n",
    "\n",
    "# 다운로드 된 파일에서 특정 구간 추출 및 저장\n",
    "videoclip = VideoFileClip(downloaded_file)\n",
    "videoclip = videoclip.subclip(30,100)\n",
    "videoclip.write_videofile(f\"{forderPath}/movie.mp4\")"
   ]
  },
  {
   "cell_type": "markdown",
   "metadata": {},
   "source": [
    "참고자료 : https://zulko.github.io/moviepy/getting_started/videoclips.html"
   ]
  }
 ],
 "metadata": {
  "kernelspec": {
   "display_name": "Python 3",
   "language": "python",
   "name": "python3"
  },
  "language_info": {
   "codemirror_mode": {
    "name": "ipython",
    "version": 3
   },
   "file_extension": ".py",
   "mimetype": "text/x-python",
   "name": "python",
   "nbconvert_exporter": "python",
   "pygments_lexer": "ipython3",
   "version": "3.7.4"
  }
 },
 "nbformat": 4,
 "nbformat_minor": 2
}
