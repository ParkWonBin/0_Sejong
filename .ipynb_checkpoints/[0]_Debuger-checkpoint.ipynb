{
 "cells": [
  {
   "cell_type": "markdown",
   "metadata": {},
   "source": [
    "# Debug 함수\n",
    "## 함수 정의는 문서 맨 아래 있습니다."
   ]
  },
  {
   "cell_type": "markdown",
   "metadata": {},
   "source": [
    "#### 0. 변수를 입력하지 않은 경우"
   ]
  },
  {
   "cell_type": "code",
   "execution_count": 2,
   "metadata": {},
   "outputs": [
    {
     "name": "stdout",
     "output_type": "stream",
     "text": [
      "debug() 함수에 변수를 넣어주세요. \n",
      "\n"
     ]
    }
   ],
   "source": [
    "debug()"
   ]
  },
  {
   "cell_type": "markdown",
   "metadata": {},
   "source": [
    "### 1. 변수 입력"
   ]
  },
  {
   "cell_type": "code",
   "execution_count": 3,
   "metadata": {
    "scrolled": true
   },
   "outputs": [
    {
     "name": "stdout",
     "output_type": "stream",
     "text": [
      "┌-------┬---------┬-----------------------------┐\n",
      "│Type   │Variable │ Value                       │\n",
      "├-------┼---------┼-----------------------------┤\n",
      "│ dict  │ ex_dic  │ {'key': 'value', 'ex': 123} │\n",
      "│ list  │ ex_list │ ['some string', 342]        │\n",
      "│ float │ ex_pi   │ 3.141592                    │\n",
      "│ str   │ ex_c    │ Hello world                 │\n",
      "└-------┴---------┴-----------------------------┘ \n",
      "\n"
     ]
    }
   ],
   "source": [
    "ex_list = [\"some string\", 342]\n",
    "ex_dic = {\"key\":\"value\",\"ex\":123}\n",
    "ex_pi = 3.141592\n",
    "ex_c = \"Hello world\"\n",
    "\n",
    "debug(ex_dic,ex_list,ex_pi,ex_c)"
   ]
  },
  {
   "cell_type": "markdown",
   "metadata": {},
   "source": [
    "### 2. name 키워드를 입력한 경우"
   ]
  },
  {
   "cell_type": "code",
   "execution_count": 4,
   "metadata": {
    "scrolled": true
   },
   "outputs": [
    {
     "name": "stdout",
     "output_type": "stream",
     "text": [
      "[ 체크포인트 : check_1 ]\n",
      "┌-----┬--------┬------┐\n",
      "│Type │Variable│ Value│\n",
      "├-----┼--------┼------┤\n",
      "│ str │ abc    │ abc  │\n",
      "│ str │ defg   │ defg │\n",
      "└-----┴--------┴------┘ \n",
      "\n"
     ]
    }
   ],
   "source": [
    "abc = \"abc\"\n",
    "defg = \"defg\"\n",
    "debug(abc,defg,name=\"check_1\")"
   ]
  },
  {
   "cell_type": "markdown",
   "metadata": {},
   "source": [
    "### 3. 변수 말고 값만 입력한 경우"
   ]
  },
  {
   "cell_type": "code",
   "execution_count": 5,
   "metadata": {},
   "outputs": [
    {
     "name": "stdout",
     "output_type": "stream",
     "text": [
      "┌-----┬---------┬---------┐\n",
      "│Type │Variable │ Value   │\n",
      "├-----┼---------┼---------┤\n",
      "│ str │ No name │ example │\n",
      "└-----┴---------┴---------┘ \n",
      "\n",
      "┌-------┬---------┬------┐\n",
      "│Type   │Variable │ Value│\n",
      "├-------┼---------┼------┤\n",
      "│ str   │ No name │ ex1  │\n",
      "│ int   │ No name │ 2    │\n",
      "│ float │ No name │ 3.14 │\n",
      "└-------┴---------┴------┘ \n",
      "\n"
     ]
    }
   ],
   "source": [
    "debug(\"example\")\n",
    "\n",
    "ex_list = [\"ex1\", 2, 3.14]\n",
    "debug(*ex_list)"
   ]
  },
  {
   "cell_type": "markdown",
   "metadata": {},
   "source": [
    "#### [ 함수 정의 ]"
   ]
  },
  {
   "cell_type": "code",
   "execution_count": 1,
   "metadata": {},
   "outputs": [],
   "source": [
    "def debug(*args, **name):\n",
    "    data = [[\"Type\"],[\"Variable\"],[\" Value\"]]\n",
    "    \n",
    "    if name.get(\"name\",\"\") : print(\"[ 체크포인트 :\",name[\"name\"],\"]\")\n",
    "    if args == () : print(\"debug() 함수에 변수를 넣어주세요. \\n\");return\n",
    "    \n",
    "    # 변수명 저장\n",
    "    for var in args:\n",
    "        var_name =\"No name\"\n",
    "        for name in  globals() :\n",
    "            if(globals()[name] is var) : var_name = name\n",
    "                \n",
    "        # 입력값 저장\n",
    "        data[0].append(str(type(var)).lstrip(\"<class\").rstrip(\">\").replace(\"'\",\"\")+\" \")\n",
    "        data[1].append(\" \"+ var_name +\" \")\n",
    "        data[2].append(\" \"+ str(var) +\" \")\n",
    "\n",
    "    # 출력 서식을 위한 열 너비 계산    \n",
    "    col_width=[max([len(x) for x in y]) for y in data]\n",
    "    \n",
    "    # 태두리 만들기\n",
    "    hr=[\"\",\"\",\"\"]\n",
    "    edge = [\"│\",\"┌\",\"┬\",\"┐\",\"├\",\"┼\",\"┤\",\"└\",\"┴\",\"┘\",\"-\"]\n",
    "    v_bar = edge[0]\n",
    "    for i in range(3):\n",
    "        hr[i] = edge[3*i+1]\n",
    "        for j in range(3):\n",
    "            hr[i] += edge[10]*col_width[j]\n",
    "            if j != 2 : hr[i] += edge[3*i+2]\n",
    "            else : hr[i] += edge[3*i+3]\n",
    "    \n",
    "    # 서식에 맞춰 출력하기\n",
    "    print(hr[0])\n",
    "    for row in range(len(data[0])):\n",
    "        if (row == 1) : print(hr[1])\n",
    "        print(v_bar,end=\"\")\n",
    "        for col in range(len(data)):\n",
    "            print(f\"{data[col][row]:{col_width[col]}s}{v_bar}\", end=\"\")\n",
    "        print()\n",
    "    print(hr[2],\"\\n\")"
   ]
  }
 ],
 "metadata": {
  "kernelspec": {
   "display_name": "Python 3",
   "language": "python",
   "name": "python3"
  },
  "language_info": {
   "codemirror_mode": {
    "name": "ipython",
    "version": 3
   },
   "file_extension": ".py",
   "mimetype": "text/x-python",
   "name": "python",
   "nbconvert_exporter": "python",
   "pygments_lexer": "ipython3",
   "version": "3.7.4"
  }
 },
 "nbformat": 4,
 "nbformat_minor": 2
}
