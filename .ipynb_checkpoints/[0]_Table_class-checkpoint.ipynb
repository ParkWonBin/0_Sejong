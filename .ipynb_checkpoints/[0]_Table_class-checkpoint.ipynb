{
 "cells": [
  {
   "cell_type": "markdown",
   "metadata": {},
   "source": [
    "# [Table 프린트]\n",
    "\n",
    "## 함수 정의는 맨 아래"
   ]
  },
  {
   "cell_type": "markdown",
   "metadata": {},
   "source": [
    "### 0. 아무 것도 입력하지 않았을 떄"
   ]
  },
  {
   "cell_type": "code",
   "execution_count": 4,
   "metadata": {},
   "outputs": [
    {
     "name": "stdout",
     "output_type": "stream",
     "text": [
      "Table a :\n",
      "\u0001\u0006\u0006\u0006\u0006\u0006\u0006\u0006\u0006\u0016\u0006\u0006\u0006\u0006\u0006\u0006\u0006\u0006\u0016\u0006\u0006\u0006\u0006\u0006\u0006\u0006\u0006\u0002\n",
      "\u0005header_1\u0005header_2\u0005header_3\u0005\n",
      "\u0019\u0006\u0006\u0006\u0006\u0006\u0006\u0006\u0006\u0010\u0006\u0006\u0006\u0006\u0006\u0006\u0006\u0006\u0010\u0006\u0006\u0006\u0006\u0006\u0006\u0006\u0006\u0017\n",
      "\u0005data_1  \u0005data_2  \u0005data_3  \u0005\n",
      "\u0005data_4  \u0005data_5  \u0005data_6  \u0005\n",
      "\u0005data_7  \u0005data_8  \u0005data_9  \u0005\n",
      "\u0005data_10 \u0005data_11 \u0005data_12 \u0005\n",
      "\u0003\u0006\u0006\u0006\u0006\u0006\u0006\u0006\u0006\u0015\u0006\u0006\u0006\u0006\u0006\u0006\u0006\u0006\u0015\u0006\u0006\u0006\u0006\u0006\u0006\u0006\u0006\u0004\n",
      "\n"
     ]
    }
   ],
   "source": [
    "a = table()\n",
    "\n",
    "print(a)"
   ]
  },
  {
   "cell_type": "markdown",
   "metadata": {},
   "source": [
    "### 1. header만 입력했을 떄"
   ]
  },
  {
   "cell_type": "code",
   "execution_count": 5,
   "metadata": {
    "scrolled": true
   },
   "outputs": [
    {
     "name": "stdout",
     "output_type": "stream",
     "text": [
      "Table b :\n",
      "\u0001\u0006\u0006\u0006\u0006\u0006\u0006\u0006\u0016\u0006\u0006\u0006\u0006\u0006\u0006\u0006\u0006\u0006\u0006\u0006\u0006\u0006\u0006\u0006\u0016\u0006\u0006\u0006\u0006\u0006\u0006\u0006\u0002\n",
      "\u0005메뉴1  \u0005두번째메뉴     \u0005메뉴3  \u0005\n",
      "\u0019\u0006\u0006\u0006\u0006\u0006\u0006\u0006\u0010\u0006\u0006\u0006\u0006\u0006\u0006\u0006\u0006\u0006\u0006\u0006\u0006\u0006\u0006\u0006\u0010\u0006\u0006\u0006\u0006\u0006\u0006\u0006\u0017\n",
      "\u0005data_1 \u0005data_2         \u0005data_3 \u0005\n",
      "\u0005data_4 \u0005data_5         \u0005data_6 \u0005\n",
      "\u0005data_7 \u0005data_8         \u0005data_9 \u0005\n",
      "\u0005data_10\u0005data_11        \u0005data_12\u0005\n",
      "\u0003\u0006\u0006\u0006\u0006\u0006\u0006\u0006\u0015\u0006\u0006\u0006\u0006\u0006\u0006\u0006\u0006\u0006\u0006\u0006\u0006\u0006\u0006\u0006\u0015\u0006\u0006\u0006\u0006\u0006\u0006\u0006\u0004\n",
      "\n"
     ]
    }
   ],
   "source": [
    "col = \"메뉴1 두번째메뉴 메뉴3\".split(\" \")\n",
    "\n",
    "b = table(header = col)\n",
    "print(b)"
   ]
  },
  {
   "cell_type": "markdown",
   "metadata": {},
   "source": [
    "### 2. data만 입력했을 떄"
   ]
  },
  {
   "cell_type": "code",
   "execution_count": 6,
   "metadata": {},
   "outputs": [
    {
     "name": "stdout",
     "output_type": "stream",
     "text": [
      "Table c :\n",
      "\u0001\u0006\u0006\u0006\u0006\u0006\u0006\u0006\u0006\u0006\u0006\u0006\u0006\u0016\u0006\u0006\u0006\u0006\u0006\u0006\u0006\u0006\u0006\u0006\u0006\u0006\u0016\u0006\u0006\u0006\u0006\u0006\u0006\u0006\u0006\u0006\u0006\u0006\u0006\u0016\u0006\u0006\u0006\u0006\u0006\u0006\u0006\u0006\u0006\u0006\u0006\u0006\u0016\u0006\u0006\u0006\u0006\u0006\u0006\u0006\u0006\u0006\u0006\u0006\u0006\u0002\n",
      "\u0005header_1    \u0005header_2    \u0005header_3    \u0005header_4    \u0005header_5    \u0005\n",
      "\u0019\u0006\u0006\u0006\u0006\u0006\u0006\u0006\u0006\u0006\u0006\u0006\u0006\u0010\u0006\u0006\u0006\u0006\u0006\u0006\u0006\u0006\u0006\u0006\u0006\u0006\u0010\u0006\u0006\u0006\u0006\u0006\u0006\u0006\u0006\u0006\u0006\u0006\u0006\u0010\u0006\u0006\u0006\u0006\u0006\u0006\u0006\u0006\u0006\u0006\u0006\u0006\u0010\u0006\u0006\u0006\u0006\u0006\u0006\u0006\u0006\u0006\u0006\u0006\u0006\u0017\n",
      "\u0005maxtix[1][1]\u0005maxtix[1][2]\u0005maxtix[1][3]\u0005maxtix[1][4]\u0005maxtix[1][5]\u0005\n",
      "\u0005maxtix[2][1]\u0005maxtix[2][2]\u0005maxtix[2][3]\u0005maxtix[2][4]\u0005maxtix[2][5]\u0005\n",
      "\u0005maxtix[3][1]\u0005maxtix[3][2]\u0005maxtix[3][3]\u0005maxtix[3][4]\u0005maxtix[3][5]\u0005\n",
      "\u0005maxtix[4][1]\u0005maxtix[4][2]\u0005maxtix[4][3]\u0005maxtix[4][4]\u0005maxtix[4][5]\u0005\n",
      "\u0005maxtix[5][1]\u0005maxtix[5][2]\u0005maxtix[5][3]\u0005maxtix[5][4]\u0005maxtix[5][5]\u0005\n",
      "\u0005maxtix[6][1]\u0005maxtix[6][2]\u0005maxtix[6][3]\u0005maxtix[6][4]\u0005maxtix[6][5]\u0005\n",
      "\u0003\u0006\u0006\u0006\u0006\u0006\u0006\u0006\u0006\u0006\u0006\u0006\u0006\u0015\u0006\u0006\u0006\u0006\u0006\u0006\u0006\u0006\u0006\u0006\u0006\u0006\u0015\u0006\u0006\u0006\u0006\u0006\u0006\u0006\u0006\u0006\u0006\u0006\u0006\u0015\u0006\u0006\u0006\u0006\u0006\u0006\u0006\u0006\u0006\u0006\u0006\u0006\u0015\u0006\u0006\u0006\u0006\u0006\u0006\u0006\u0006\u0006\u0006\u0006\u0006\u0004\n",
      "\n"
     ]
    }
   ],
   "source": [
    "ROW, COL = 6,5\n",
    "matrix = [[f\"maxtix[{row+1}][{col+1}]\" for col in range(COL)] for row in range(ROW)]\n",
    "\n",
    "c = table(data = matrix)\n",
    "print(c)"
   ]
  },
  {
   "cell_type": "markdown",
   "metadata": {},
   "source": [
    "### 3. 생성할 떄 border = \"None\" 입력"
   ]
  },
  {
   "cell_type": "code",
   "execution_count": 8,
   "metadata": {
    "scrolled": true
   },
   "outputs": [
    {
     "name": "stdout",
     "output_type": "stream",
     "text": [
      "Table d :\n",
      "                                                                  \n",
      "\tmenu_1      \tmenu_2      \tmenu_3      \tmenu_4      \tmenu_5      \t\n",
      "\tmaxtix[1][1]\tmaxtix[1][2]\tmaxtix[1][3]\tmaxtix[1][4]\tmaxtix[1][5]\t\n",
      "\tmaxtix[2][1]\tmaxtix[2][2]\tmaxtix[2][3]\tmaxtix[2][4]\tmaxtix[2][5]\t\n",
      "\tmaxtix[3][1]\tmaxtix[3][2]\tmaxtix[3][3]\tmaxtix[3][4]\tmaxtix[3][5]\t\n",
      "\tmaxtix[4][1]\tmaxtix[4][2]\tmaxtix[4][3]\tmaxtix[4][4]\tmaxtix[4][5]\t\n",
      "\tmaxtix[5][1]\tmaxtix[5][2]\tmaxtix[5][3]\tmaxtix[5][4]\tmaxtix[5][5]\t\n",
      "\tmaxtix[6][1]\tmaxtix[6][2]\tmaxtix[6][3]\tmaxtix[6][4]\tmaxtix[6][5]\t\n",
      "                                                                  \n",
      "\n"
     ]
    }
   ],
   "source": [
    "ROW, COL = 6,5\n",
    "col = [\"menu_\"+str(x+1) for x in range(COL)]\n",
    "matrix = [[f\"maxtix[{row+1}][{col+1}]\" for col in range(COL)] for row in range(ROW)]\n",
    "\n",
    "d = table(data = matrix , header = col, border=\"None\")\n",
    "\n",
    "print(d)"
   ]
  },
  {
   "cell_type": "markdown",
   "metadata": {},
   "source": [
    "### 4. 생성 후 instance.border=\"None\" 입력"
   ]
  },
  {
   "cell_type": "code",
   "execution_count": 12,
   "metadata": {},
   "outputs": [
    {
     "name": "stdout",
     "output_type": "stream",
     "text": [
      "Table e :\n",
      "\u0001\u0006\u0006\u0006\u0006\u0006\u0006\u0006\u0006\u0006\u0006\u0006\u0006\u0016\u0006\u0006\u0006\u0006\u0006\u0006\u0006\u0006\u0006\u0006\u0006\u0006\u0016\u0006\u0006\u0006\u0006\u0006\u0006\u0006\u0006\u0006\u0006\u0006\u0006\u0016\u0006\u0006\u0006\u0006\u0006\u0006\u0006\u0006\u0006\u0006\u0006\u0006\u0016\u0006\u0006\u0006\u0006\u0006\u0006\u0006\u0006\u0006\u0006\u0006\u0006\u0002\n",
      "\u0005menu_1      \u0005menu_2      \u0005menu_3      \u0005menu_4      \u0005menu_5      \u0005\n",
      "\u0019\u0006\u0006\u0006\u0006\u0006\u0006\u0006\u0006\u0006\u0006\u0006\u0006\u0010\u0006\u0006\u0006\u0006\u0006\u0006\u0006\u0006\u0006\u0006\u0006\u0006\u0010\u0006\u0006\u0006\u0006\u0006\u0006\u0006\u0006\u0006\u0006\u0006\u0006\u0010\u0006\u0006\u0006\u0006\u0006\u0006\u0006\u0006\u0006\u0006\u0006\u0006\u0010\u0006\u0006\u0006\u0006\u0006\u0006\u0006\u0006\u0006\u0006\u0006\u0006\u0017\n",
      "\u0005maxtix[1][1]\u0005maxtix[1][2]\u0005maxtix[1][3]\u0005maxtix[1][4]\u0005maxtix[1][5]\u0005\n",
      "\u0005maxtix[2][1]\u0005maxtix[2][2]\u0005maxtix[2][3]\u0005maxtix[2][4]\u0005maxtix[2][5]\u0005\n",
      "\u0005maxtix[3][1]\u0005maxtix[3][2]\u0005maxtix[3][3]\u0005maxtix[3][4]\u0005maxtix[3][5]\u0005\n",
      "\u0005maxtix[4][1]\u0005maxtix[4][2]\u0005maxtix[4][3]\u0005maxtix[4][4]\u0005maxtix[4][5]\u0005\n",
      "\u0005maxtix[5][1]\u0005maxtix[5][2]\u0005maxtix[5][3]\u0005maxtix[5][4]\u0005maxtix[5][5]\u0005\n",
      "\u0005maxtix[6][1]\u0005maxtix[6][2]\u0005maxtix[6][3]\u0005maxtix[6][4]\u0005maxtix[6][5]\u0005\n",
      "\u0003\u0006\u0006\u0006\u0006\u0006\u0006\u0006\u0006\u0006\u0006\u0006\u0006\u0015\u0006\u0006\u0006\u0006\u0006\u0006\u0006\u0006\u0006\u0006\u0006\u0006\u0015\u0006\u0006\u0006\u0006\u0006\u0006\u0006\u0006\u0006\u0006\u0006\u0006\u0015\u0006\u0006\u0006\u0006\u0006\u0006\u0006\u0006\u0006\u0006\u0006\u0006\u0015\u0006\u0006\u0006\u0006\u0006\u0006\u0006\u0006\u0006\u0006\u0006\u0006\u0004\n",
      "\n",
      "Table e :\n",
      "┌------------┬------------┬------------┬------------┬------------┐\n",
      "│menu_1      │menu_2      │menu_3      │menu_4      │menu_5      │\n",
      "├------------┼------------┼------------┼------------┼------------┤\n",
      "│maxtix[1][1]│maxtix[1][2]│maxtix[1][3]│maxtix[1][4]│maxtix[1][5]│\n",
      "│maxtix[2][1]│maxtix[2][2]│maxtix[2][3]│maxtix[2][4]│maxtix[2][5]│\n",
      "│maxtix[3][1]│maxtix[3][2]│maxtix[3][3]│maxtix[3][4]│maxtix[3][5]│\n",
      "│maxtix[4][1]│maxtix[4][2]│maxtix[4][3]│maxtix[4][4]│maxtix[4][5]│\n",
      "│maxtix[5][1]│maxtix[5][2]│maxtix[5][3]│maxtix[5][4]│maxtix[5][5]│\n",
      "│maxtix[6][1]│maxtix[6][2]│maxtix[6][3]│maxtix[6][4]│maxtix[6][5]│\n",
      "└------------┴------------┴------------┴------------┴------------┘\n",
      "\n",
      "Table e :\n",
      "                                                                  \n",
      "\tmenu_1      \tmenu_2      \tmenu_3      \tmenu_4      \tmenu_5      \t\n",
      "\tmaxtix[1][1]\tmaxtix[1][2]\tmaxtix[1][3]\tmaxtix[1][4]\tmaxtix[1][5]\t\n",
      "\tmaxtix[2][1]\tmaxtix[2][2]\tmaxtix[2][3]\tmaxtix[2][4]\tmaxtix[2][5]\t\n",
      "\tmaxtix[3][1]\tmaxtix[3][2]\tmaxtix[3][3]\tmaxtix[3][4]\tmaxtix[3][5]\t\n",
      "\tmaxtix[4][1]\tmaxtix[4][2]\tmaxtix[4][3]\tmaxtix[4][4]\tmaxtix[4][5]\t\n",
      "\tmaxtix[5][1]\tmaxtix[5][2]\tmaxtix[5][3]\tmaxtix[5][4]\tmaxtix[5][5]\t\n",
      "\tmaxtix[6][1]\tmaxtix[6][2]\tmaxtix[6][3]\tmaxtix[6][4]\tmaxtix[6][5]\t\n",
      "                                                                  \n",
      "\n"
     ]
    }
   ],
   "source": [
    "ROW, COL = 6,5\n",
    "col = [\"menu_\"+str(x+1) for x in range(COL)]\n",
    "matrix = [[f\"maxtix[{row+1}][{col+1}]\" for col in range(COL)] for row in range(ROW)]\n",
    "\n",
    "e = table(data = matrix , header = col)\n",
    "print(e)\n",
    "\n",
    "e.border =\"solid\"\n",
    "print(e)\n",
    "\n",
    "e.border=\"None\"\n",
    "print(e)"
   ]
  },
  {
   "cell_type": "markdown",
   "metadata": {},
   "source": [
    "### 5.  한번에 입력"
   ]
  },
  {
   "cell_type": "code",
   "execution_count": 13,
   "metadata": {
    "scrolled": true
   },
   "outputs": [
    {
     "name": "stdout",
     "output_type": "stream",
     "text": [
      "Table table1 :\n",
      "\u0001\u0006\u0006\u0006\u0006\u0006\u0006\u0006\u0016\u0006\u0006\u0006\u0006\u0006\u0006\u0006\u0016\u0006\u0006\u0006\u0006\u0006\u0006\u0006\u0002\n",
      "\u0005메뉴1  \u0005메뉴2  \u0005매뉴3  \u0005\n",
      "\u0019\u0006\u0006\u0006\u0006\u0006\u0006\u0006\u0010\u0006\u0006\u0006\u0006\u0006\u0006\u0006\u0010\u0006\u0006\u0006\u0006\u0006\u0006\u0006\u0017\n",
      "\u00051      \u00052      \u00053      \u0005\n",
      "\u00054      \u00051      \u000532     \u0005\n",
      "\u00054      \u000534     \u00054      \u0005\n",
      "\u00053454   \u000534     \u00054435   \u0005\n",
      "\u00054      \u000534345  \u00054      \u0005\n",
      "\u0005354    \u00053434   \u00054634   \u0005\n",
      "\u0005684    \u00058734   \u000554     \u0005\n",
      "\u0003\u0006\u0006\u0006\u0006\u0006\u0006\u0006\u0015\u0006\u0006\u0006\u0006\u0006\u0006\u0006\u0015\u0006\u0006\u0006\u0006\u0006\u0006\u0006\u0004\n",
      "\n"
     ]
    }
   ],
   "source": [
    "header = \"메뉴1 메뉴2 매뉴3\".split(\" \")\n",
    "data = [[1,2,3],[4,1,32],[4,34,4],[3454,34,4435],[4,34345,4],[354,3434,4634],[684,8734,54]]\n",
    "\n",
    "table1 = table(data = data , header = header)\n",
    "print(table1)"
   ]
  },
  {
   "cell_type": "markdown",
   "metadata": {},
   "source": [
    "# class table()"
   ]
  },
  {
   "cell_type": "code",
   "execution_count": 1,
   "metadata": {},
   "outputs": [],
   "source": [
    "class table() :\n",
    "    def __init__(self,**kwargs):\n",
    "        \n",
    "        # 해더 X 일떄\n",
    "        if not (kwargs.get(\"header\",\"\")) :      \n",
    "            # 해더 X data X 일 떄\n",
    "            if not (kwargs.get(\"data\",\"\")) :    \n",
    "                self.header = [\"header_1\",\"header_2\",\"header_3\"] \n",
    "                self.data = [[\"data_\"+str(len(self.header)*row+col+1) for col in range(len(self.header))] for row in range(4)]\n",
    "            \n",
    "            # 해더 X data O\n",
    "            else : \n",
    "                self.data = list(kwargs[\"data\"])\n",
    "                self.header = [\"header_\"+str(col+1) for col in range(len(self.data[0]))]\n",
    "        \n",
    "        # 해더 O  일떄\n",
    "        else :\n",
    "            self.header = list(kwargs[\"header\"])\n",
    "\n",
    "            # 해더 O data X 일떄\n",
    "            if not (kwargs.get(\"data\",\"\")) :\n",
    "                self.data = [[\"data_\"+str(len(self.header)*row+col+1) for col in range(len(self.header))] for row in range(4)]\n",
    "            \n",
    "            # 해더 O data O 일떄\n",
    "            else : self.data = list(kwargs[\"data\"])\n",
    "\n",
    "        # 태두리 설정\n",
    "        if (kwargs.get(\"border\",\"\")==\"None\") :\n",
    "            self.border = \"None\"\n",
    "            self.is_border = False\n",
    "        else : \n",
    "            self.border = \"ASK\"\n",
    "            self.is_border = True\n",
    "            \n",
    "    def transpose(metrix):\n",
    "        result = []\n",
    "        # 2차원 배열 생성\n",
    "        for j in range(len(metrix[0])):result.append([])\n",
    "            \n",
    "        # 인덱스 값 교차로 넣기\n",
    "        for i in range(len(result)):\n",
    "            for j in range(len(metrix)): \n",
    "                result[i].append(metrix[j][i])\n",
    "\n",
    "        return result\n",
    "      \n",
    "    def __str__(self):   \n",
    "        result =\"\"\n",
    "        \n",
    "        _data = [row for row in self.data] # 명시적 생성 (_data = self.data 는 참조형)\n",
    "        _data.insert(0,self.header)         # insert 할 떄 원본 데이터를 수정하지 않기 위해 위의 변수 생성함.\n",
    "        \n",
    "        _dataT = table.transpose(_data)     # row 로 묶여있던 것을 col 로 묶어줌\n",
    "        \n",
    "        col_width=[max([len(str(value).encode()) for value in col]) for col in _dataT]\n",
    "                \n",
    "        \n",
    "        # 태두리 만들기 _변수선언\n",
    "        border=[\"\",\"\",\"\"]\n",
    "        \n",
    "        edge = [\"│\",\"┌\",\"┬\",\"┐\",\"├\",\"┼\",\"┤\",\"└\",\"┴\",\"┘\",\"-\"]        \n",
    "        \n",
    "         # 테이블 선 없음 메뉴 구현\n",
    "        if self.border==\"None\": self.is_border = False\n",
    "        if not self.is_border : edge = [\"\\t\",\" \",\" \",\" \",\" \",\"\",\" \",\" \",\" \",\" \",\" \"]\n",
    "        if self.border==\"ASK\" : edge = ['\\x05','\\x01','\\x16','\\x02','\\x19','\\x10','\\x17','\\x03','\\x15','\\x04','\\x06']\n",
    "        \n",
    "        # 테이블 이름 입력.\n",
    "        for name in  globals() :\n",
    "            if(globals()[name] is self) : result += f\"Table {name} :\\n\"\n",
    "        \n",
    "        v_bar = edge[0]\n",
    "        for i in range(3):\n",
    "            border[i] = edge[3*i+1]                       # border는 [┌,├,└] 넣고 시작\n",
    "            for col in range(len(_data[0])):\n",
    "                border[i] += edge[10]*col_width[col]      # 열 너비만큼 \"-\" 체우기\n",
    "                if col != (len(_data[0])-1) : \n",
    "                    border[i] += edge[3*i+2]              # 중간 열이면 뒤에 [┬,┼,┴] 붙이기\n",
    "                else : border[i] += edge[3*i+3]          # 마지막 열이면 뒤에 [┐,┤,┘] 붙이기\n",
    "\n",
    "        # 서식에 맞춰 출력하기\n",
    "        result += border[0] + \"\\n\"       \n",
    "        for row in range(len(_data)):\n",
    "            if (row == 1 and self.is_border) : result += border[1] + \"\\n\"\n",
    "            result += v_bar\n",
    "            for col in range(len(_data[row])):\n",
    "                _value = str(_data[row][col])\n",
    "                \n",
    "                # 한글 갯수만큼 공백 추가로 제거\n",
    "                _kr_string = 0\n",
    "                for char in _value:\n",
    "                    if len(char.encode())==3 : _kr_string += 1\n",
    "                        \n",
    "                _white = col_width[col] - len(_value) -_kr_string\n",
    "                \n",
    "                \n",
    "                result += _value+\" \"*_white + v_bar\n",
    "            result+='\\n'\n",
    "        result += border[2]+\"\\n\"\n",
    "        return result"
   ]
  },
  {
   "cell_type": "code",
   "execution_count": 2,
   "metadata": {},
   "outputs": [
    {
     "name": "stdout",
     "output_type": "stream",
     "text": [
      "['│', '┌', '┬', '┐', '├', '┼', '┤', '└', '┴', '┘', '-']\n",
      "[ \u0005 , \u0001 , \u0016 , \u0002 , \u0019 , \u0010 , \u0017 , \u0003 , \u0015 , \u0004 , \u0006 , ]\n",
      "\u0001\u0006\u0006\u0016\u0006\u0002\n",
      "\u0019\u0006\u0006\u0010\u0006\u0017\n",
      "\u0005  \u0005 \u0005\n",
      "\u0003\u0006\u0006\u0015\u0006\u0004\n"
     ]
    }
   ],
   "source": [
    "edge = [\"│\",\"┌\",\"┬\",\"┐\",\"├\",\"┼\",\"┤\",\"└\",\"┴\",\"┘\",\"-\"]\n",
    "edge2 = [chr(5),chr(1),chr(22),chr(2),chr(25),chr(16),chr(23),chr(3),chr(21),chr(4),chr(6)]\n",
    "\n",
    "print(edge)\n",
    "\n",
    "print(\"[ \",end=\"\")\n",
    "for i in edge2: print(f\"{i}\",end=\" , \")\n",
    "print(\"]\")\n",
    "\n",
    "print(\"\u0001\u0006\u0006\u0016\u0006\u0002\")\n",
    "print(\"\u0019\u0006\u0006\u0010\u0006\u0017\")\n",
    "print(\"\u0005  \u0005 \u0005\")\n",
    "print(\"\u0003\u0006\u0006\u0015\u0006\u0004\")"
   ]
  }
 ],
 "metadata": {
  "kernelspec": {
   "display_name": "Python 3",
   "language": "python",
   "name": "python3"
  },
  "language_info": {
   "codemirror_mode": {
    "name": "ipython",
    "version": 3
   },
   "file_extension": ".py",
   "mimetype": "text/x-python",
   "name": "python",
   "nbconvert_exporter": "python",
   "pygments_lexer": "ipython3",
   "version": "3.7.4"
  }
 },
 "nbformat": 4,
 "nbformat_minor": 2
}
