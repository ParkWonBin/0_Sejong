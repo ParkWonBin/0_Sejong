{
 "cells": [
  {
   "cell_type": "markdown",
   "metadata": {},
   "source": [
    "### 머신러닝 다운로드 "
   ]
  },
  {
   "cell_type": "code",
   "execution_count": null,
   "metadata": {},
   "outputs": [],
   "source": [
    "! pip install -U scikit-learn scipy matplotlib scikit-image"
   ]
  },
  {
   "cell_type": "markdown",
   "metadata": {},
   "source": [
    "#### 기본 구조\n",
    "\n",
    "```python\n",
    "from sklearn import svm\n",
    "\n",
    "clf = svm.SVC()\n",
    "clf.fit([데이터].[답])\n",
    "clf.predict()```\n"
   ]
  },
  {
   "cell_type": "code",
   "execution_count": null,
   "metadata": {},
   "outputs": [],
   "source": [
    "from sklearn import svm, metrics\n",
    "\n",
    "datas = [[0,0],[1,0],[0,1],[1,1]]\n",
    "labels =[0,1,1,0]\n",
    "examples = [[0,0],[1,0]]\n",
    "examples_label = [0,1]\n",
    "\n",
    "print(datas)\n",
    "print(lavels)\n",
    "\n",
    "clf = svm.SVC()\n",
    "clf.fit(datas,labels)\n",
    "results = clf.predict(examples)\n",
    "print(results)\n",
    "\n",
    "score = metrics.accuracy_score(examples_label,results)\n",
    "print('정답률 : ',score*100,\"%\")"
   ]
  },
  {
   "cell_type": "code",
   "execution_count": null,
   "metadata": {},
   "outputs": [],
   "source": [
    "import pandas as pd\n",
    "from sklearn import svm, metrics\n",
    "\n",
    "csv = pandas.read_csv(\"iris.csv\")\n",
    "data = csv[[\"SepalLength\",\"SepalWidth\",\"petalLength\",\"petalWidth\"]]\n",
    "label = csv[\"Name\"]\n",
    "\n",
    "clf = svm.SVC()\n",
    "clf.fit(data,label)\n",
    "results = clf.predict([5.1,30.,1.3,0.2])"
   ]
  },
  {
   "cell_type": "code",
   "execution_count": null,
   "metadata": {},
   "outputs": [],
   "source": []
  }
 ],
 "metadata": {
  "kernelspec": {
   "display_name": "Python 3",
   "language": "python",
   "name": "python3"
  },
  "language_info": {
   "codemirror_mode": {
    "name": "ipython",
    "version": 3
   },
   "file_extension": ".py",
   "mimetype": "text/x-python",
   "name": "python",
   "nbconvert_exporter": "python",
   "pygments_lexer": "ipython3",
   "version": "3.7.4"
  }
 },
 "nbformat": 4,
 "nbformat_minor": 2
}
