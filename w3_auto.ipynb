{
 "cells": [
  {
   "cell_type": "code",
   "execution_count": 1,
   "metadata": {},
   "outputs": [],
   "source": [
    "from selenium import webdriver\n",
    "from bs4 import BeautifulSoup \n",
    "\n",
    "# 크롬 브라우저 열기\n",
    "driver = webdriver.Chrome('C:/chromedriver.exe')\n",
    "\n",
    "# w3 화면으로 이동\n",
    "url = \"https://www.w3schools.com/quiztest/quiztest.asp?qtest=PYTHON\"\n",
    "driver.get(url)\n"
   ]
  },
  {
   "cell_type": "code",
   "execution_count": 31,
   "metadata": {},
   "outputs": [
    {
     "name": "stdout",
     "output_type": "stream",
     "text": [
      "문제 : 파이썬 코드에 주석을 어떻게 삽입합니까?\n",
      "1  # 이것은 코멘트입니다\n",
      "2  // 이것은 주석입니다\n",
      "3  / * 이것은 주석입니다 * /\n"
     ]
    }
   ],
   "source": [
    "# BeautifulSoup로 소스 받아오기\n",
    "html = driver.page_source\n",
    "soup = BeautifulSoup(html, \"lxml\")\n",
    "\n",
    "q = soup.select('#qtext')[0].text\n",
    "s = soup.select('.radiocontainer')\n",
    "\n",
    "print(f\"문제 : {q}\")\n",
    "for i in range(len(s)) :\n",
    "    print(f\"{i+1} {s[i].text}\")"
   ]
  },
  {
   "cell_type": "code",
   "execution_count": 32,
   "metadata": {},
   "outputs": [],
   "source": [
    "#다음 버튼 누르기\n",
    "selector = \".answerbutton.w3-btn \"\n",
    "driver.find_element_by_css_selector(selector).click()"
   ]
  }
 ],
 "metadata": {
  "kernelspec": {
   "display_name": "Python 3",
   "language": "python",
   "name": "python3"
  },
  "language_info": {
   "codemirror_mode": {
    "name": "ipython",
    "version": 3
   },
   "file_extension": ".py",
   "mimetype": "text/x-python",
   "name": "python",
   "nbconvert_exporter": "python",
   "pygments_lexer": "ipython3",
   "version": "3.7.4"
  }
 },
 "nbformat": 4,
 "nbformat_minor": 2
}
